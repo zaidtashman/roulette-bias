{
 "cells": [
  {
   "cell_type": "code",
   "execution_count": 443,
   "metadata": {},
   "outputs": [],
   "source": [
    "import random as rnd\n",
    "import matplotlib.pyplot as plt\n",
    "import numpy as np\n",
    "import pandas as pd\n",
    "from IPython.core.pylabtools import figsize\n",
    "import pystan as ps\n",
    "import pickle\n",
    "from hashlib import md5\n",
    "# import pymc3 as pm\n",
    "# import theano.tensor as tt\n",
    "%matplotlib inline"
   ]
  },
  {
   "cell_type": "code",
   "execution_count": 444,
   "metadata": {},
   "outputs": [],
   "source": [
    "wheel = ['00','27','10','25','29','12','8','19','31','18','6','21','33',\n",
    "         '16','4','23','35','14','2','0','28','9','26','30','11','7','20',\n",
    "         '32','17','5','22','34','15','3','24','36','13','1']\n",
    "redblack = ['green', \n",
    "            'red', 'black', 'red', 'black', 'red', 'black', 'red', 'black', 'red', \n",
    "            'black', 'red', 'black','red', 'black', 'red', 'black', 'red', 'black', \n",
    "            'green', \n",
    "            'black', 'red', 'black', 'red', 'black', 'red', 'black', 'red', 'black', \n",
    "            'red', 'black', 'red', 'black', 'red', 'black', 'red', 'black', 'red']\n",
    "evenodd = ['none', \n",
    "           'odd', 'even', 'odd', 'odd', 'even', 'even', 'odd', 'odd', 'even', \n",
    "           'even', 'odd', 'odd', 'even', 'even', 'odd', 'odd', 'even', 'even', \n",
    "           'none', \n",
    "           'even', 'odd', 'even', 'even', 'odd', 'odd', 'even', 'even', 'odd', \n",
    "           'odd', 'even', 'even', 'odd', 'odd', 'even', 'even', 'odd', 'odd']\n",
    "lowhigh = ['none',\n",
    "          'high','low','high','high','low','low','high','high','low',\n",
    "           'low','high','high','low','low','high','high','low','low',\n",
    "          'none',\n",
    "          'high','low','high','high','low','low','high','high','low',\n",
    "           'low','high','high','low','low','high','high','low','low']\n",
    "dozens = ['none',\n",
    "         3,1,3,3,1,1,2,3,2,1,2,3,2,1,2,3,2,1,\n",
    "         'none',\n",
    "         3,1,3,3,1,1,2,3,2,1,2,3,2,1,2,3,2,1]\n",
    "columns = ['none',\n",
    "          3,1,1,2,3,2,1,1,3,3,3,3,1,1,2,2,2,2,\n",
    "          'none',\n",
    "          1,3,2,3,2,1,2,2,2,2,1,1,3,3,3,3,1,1]\n",
    "sixline = ['none',\n",
    "          ('8','9'),('3','4'),('8','9'),('9','10'),('3','4'),('2','3'),('6','7'),('10','11'),('5','6'),\n",
    "          ('1','2'),('6','7'),('10','11'),('5','6'),('1','2'),('7','8'),['11'],('4','5'),['1'],\n",
    "          'none',\n",
    "          ('9','10'),('2','3'),('8','9'),('9','10'),('3','4'),('2','3'),('6','7'),('10','11'),('5','6'),\n",
    "          ('1','2'),('7','8'),['11'],('4','5'),['1'],('7','8'),['11'],('4','5'),['1']]\n",
    "square = ['none',\n",
    "         ('16','18'),('5','7'),('15','17'),('17','18','19','20'),('6','8'),('3','4','5','6'),('11','13'),('19','21'),('10','12'),\n",
    "         ('2','4'),('12','14'),('20','22'),('9','11'),('1','3'),('13','14','15','16'),('21','22'),('7','8','9','10'),('1','2'),\n",
    "         'none',\n",
    "         ('17','19'),('4','6'),('15','16','17','18'),('18','20'),('5','6','7','8'),('3','5'),('11','12','13','14'),('19','20','21','22'),('9','10','11','12'),\n",
    "         ('1','2','3','4'),('13','15'),['21'],('8','10'),['2'],('14','16'),['22'],('7','9'),['1']]\n",
    "street = ['none',\n",
    "         '9','4','9','10','4','3','7','11','6','2','7','11','6','2','8','12','5','1',\n",
    "         'none',\n",
    "         '10','3','9','10','4','3','7','11','6','2','8','12','5','1','8','12','5','1']\n",
    "split = ['none',\n",
    "        ('40','42','45'),('13','16','18'),('38','41','43'),('44','46','47','49'),('15','17','20'),('9','11','12','14'),('28','31','33'),('48','51','53'),('25','27','30'),\n",
    "        ('5','7','10'),('30','32','35'),('50','52','55'),('23','26','28'),('3','6','8'),('34','36','37','39'),('54','56','57'),('19','21','22','24'),('1','2','4'),\n",
    "        'none',\n",
    "        ('43','46','48'),('10','12','15'),('39','41','42','44'),('45','47','50'),('14','16','17','19'),('8','11','13'),('29','31','32','34'),('49','51','52','54'),('24','26','27','29'),\n",
    "        ('4','6','7','9'),('33','36','38'),('53','56'),('20','22','25'),('2','5'),('35','37','40'),('55','57'),('18','21','23'),('1','3')]\n",
    "\n",
    "neighbor = []\n",
    "wheel2 = ['13','1','00','27','10','25','29','12','8','19','31','18','6','21','33',\n",
    "         '16','4','23','35','14','2','0','28','9','26','30','11','7','20',\n",
    "         '32','17','5','22','34','15','3','24','36','13','1','00','27']\n",
    "for i in range(len(wheel)):\n",
    "    n = wheel[i]\n",
    "    bet = wheel2[((i+2)-2):((i+2)+3)]\n",
    "    neighbor.append(bet)"
   ]
  },
  {
   "cell_type": "code",
   "execution_count": 739,
   "metadata": {},
   "outputs": [],
   "source": [
    "# neighbor"
   ]
  },
  {
   "cell_type": "code",
   "execution_count": 446,
   "metadata": {},
   "outputs": [],
   "source": [
    "alpha = np.ones(38)\n",
    "alpha[10] = alpha[10]-(alpha[10]/2.0)\n",
    "alpha[11] = alpha[11]+alpha[10]\n",
    "dir_prob = np.random.dirichlet(alpha, 1)\n",
    "dir_prob = dir_prob.tolist()[0]"
   ]
  },
  {
   "cell_type": "code",
   "execution_count": 1120,
   "metadata": {},
   "outputs": [
    {
     "data": {
      "text/plain": [
       "0.9999999999999992"
      ]
     },
     "execution_count": 1120,
     "metadata": {},
     "output_type": "execute_result"
    }
   ],
   "source": [
    "# unbiased test\n",
    "dir_prob = np.ones(38)/38\n",
    "\n",
    "# single test\n",
    "# dir_prob = np.ones(38)/43\n",
    "# dir_prob[wheel.index('13')] += 1-sum(dir_prob)\n",
    "\n",
    "# neighbor test\n",
    "# dir_prob = np.ones(38)/43\n",
    "# dir_prob[wheel.index('13')] = 2/43\n",
    "# dir_prob[wheel.index('1')] = 2/43\n",
    "# dir_prob[wheel.index('00')] = 2/43\n",
    "# dir_prob[wheel.index('27')] = 2/43\n",
    "# dir_prob[wheel.index('10')] = 2/43\n",
    "\n",
    "# street test\n",
    "# dir_prob = np.ones(38)/44\n",
    "# dir_prob[wheel.index('16')] = 2/44\n",
    "# dir_prob[wheel.index('17')] = 2/44\n",
    "# dir_prob[wheel.index('18')] = 2/44\n",
    "# dir_prob[wheel.index('34')] = 2/44\n",
    "# dir_prob[wheel.index('35')] = 2/44\n",
    "# dir_prob[wheel.index('36')] = 2/44\n",
    "\n",
    "# sixline test\n",
    "# dir_prob = np.ones(38)/44\n",
    "# dir_prob[wheel.index('16')] = 2/44\n",
    "# dir_prob[wheel.index('17')] = 2/44\n",
    "# dir_prob[wheel.index('18')] = 2/44\n",
    "# dir_prob[wheel.index('19')] = 2/44\n",
    "# dir_prob[wheel.index('20')] = 2/44\n",
    "# dir_prob[wheel.index('21')] = 2/44\n",
    "\n",
    "# square test\n",
    "# dir_prob = np.ones(38)/42\n",
    "# dir_prob[wheel.index('8')] = 2/42\n",
    "# dir_prob[wheel.index('9')] = 2/42\n",
    "# dir_prob[wheel.index('11')] = 2/42\n",
    "# dir_prob[wheel.index('12')] = 2/42\n",
    "\n",
    "# col color test\n",
    "# dir_prob = np.ones(38)/50\n",
    "# dir_prob[wheel.index('3')] = 2/50\n",
    "# dir_prob[wheel.index('6')] = 2/50\n",
    "# dir_prob[wheel.index('9')] = 2/50\n",
    "# dir_prob[wheel.index('12')] = 2/50\n",
    "# dir_prob[wheel.index('15')] = 2/50\n",
    "# dir_prob[wheel.index('18')] = 2/50\n",
    "# dir_prob[wheel.index('21')] = 2/50\n",
    "# dir_prob[wheel.index('24')] = 2/50\n",
    "# dir_prob[wheel.index('27')] = 2/50\n",
    "# dir_prob[wheel.index('30')] = 2/50\n",
    "# dir_prob[wheel.index('33')] = 2/50\n",
    "# dir_prob[wheel.index('36')] = 2/50\n",
    "\n",
    "sum(dir_prob)"
   ]
  },
  {
   "cell_type": "code",
   "execution_count": 1121,
   "metadata": {},
   "outputs": [],
   "source": [
    "spins = [wheel[x] for x in np.random.choice(38, size=5000, p=dir_prob)]"
   ]
  },
  {
   "cell_type": "code",
   "execution_count": 1122,
   "metadata": {},
   "outputs": [],
   "source": [
    "# spins = np.array([])\n",
    "# for i in range(1000):\n",
    "#     spins = np.append(spins, np.array([rnd.choice(wheel)]))"
   ]
  },
  {
   "cell_type": "code",
   "execution_count": 1123,
   "metadata": {},
   "outputs": [],
   "source": [
    "# spins"
   ]
  },
  {
   "cell_type": "code",
   "execution_count": 1124,
   "metadata": {},
   "outputs": [
    {
     "name": "stdout",
     "output_type": "stream",
     "text": [
      "5000\n"
     ]
    }
   ],
   "source": [
    "print(len(spins))\n",
    "#print(spins)"
   ]
  },
  {
   "cell_type": "code",
   "execution_count": 1125,
   "metadata": {},
   "outputs": [
    {
     "name": "stderr",
     "output_type": "stream",
     "text": [
      "/anaconda3/lib/python3.7/site-packages/matplotlib/axes/_axes.py:6521: MatplotlibDeprecationWarning: \n",
      "The 'normed' kwarg was deprecated in Matplotlib 2.1 and will be removed in 3.1. Use 'density' instead.\n",
      "  alternative=\"'density'\", removal=\"3.1\")\n"
     ]
    },
    {
     "data": {
      "image/png": "[encoded data removed]",
      "text/plain": [
       "<Figure size 900x360 with 1 Axes>"
      ]
     },
     "metadata": {
      "needs_background": "light"
     },
     "output_type": "display_data"
    }
   ],
   "source": [
    "figsize(12.5, 5)\n",
    "plt.hist(spins, normed=True, bins=38)\n",
    "plt.ylabel('Probability');"
   ]
  },
  {
   "cell_type": "code",
   "execution_count": 1126,
   "metadata": {},
   "outputs": [],
   "source": [
    "spins_count = {x : 0 for x in wheel}"
   ]
  },
  {
   "cell_type": "code",
   "execution_count": 1127,
   "metadata": {},
   "outputs": [],
   "source": [
    "for i in spins:\n",
    "    spins_count[i] += 1"
   ]
  },
  {
   "cell_type": "code",
   "execution_count": 1128,
   "metadata": {},
   "outputs": [],
   "source": [
    "counts = np.array(list(spins_count.values()))"
   ]
  },
  {
   "cell_type": "code",
   "execution_count": 1129,
   "metadata": {},
   "outputs": [],
   "source": [
    "model = \"\"\"\n",
    "data {\n",
    "  int<lower=1> m;\n",
    "  int counts[m];\n",
    "  vector<lower=0>[m] priors;\n",
    "}\n",
    "\n",
    "parameters {\n",
    "  simplex[m] p;\n",
    "}\n",
    "\n",
    "model {\n",
    "  p ~ dirichlet(priors);\n",
    "  counts ~ multinomial(p);\n",
    "}\n",
    "\"\"\""
   ]
  },
  {
   "cell_type": "code",
   "execution_count": 1130,
   "metadata": {},
   "outputs": [],
   "source": [
    "def StanModel_cache(model_code, model_name=None, **kwargs):\n",
    "    \"\"\"Use just as you would `stan`\"\"\"\n",
    "    code_hash = md5(model_code.encode('ascii')).hexdigest()\n",
    "    if model_name is None:\n",
    "        cache_fn = 'cached-model-{}.pkl'.format(code_hash)\n",
    "    else:\n",
    "        cache_fn = 'cached-{}-{}.pkl'.format(model_name, code_hash)\n",
    "    try:\n",
    "        sm = pickle.load(open(cache_fn, 'rb'))\n",
    "    except:\n",
    "        sm = ps.StanModel(model_code=model_code)\n",
    "        with open(cache_fn, 'wb') as f:\n",
    "            pickle.dump(sm, f)\n",
    "    else:\n",
    "        print(\"Using cached StanModel\")\n",
    "    return sm"
   ]
  },
  {
   "cell_type": "code",
   "execution_count": 1131,
   "metadata": {},
   "outputs": [
    {
     "name": "stdout",
     "output_type": "stream",
     "text": [
      "Using cached StanModel\n"
     ]
    }
   ],
   "source": [
    "# stanmodel = ps.StanModel(model_code=model)\n",
    "stanmodel = StanModel_cache(model_code=model)"
   ]
  },
  {
   "cell_type": "code",
   "execution_count": 1132,
   "metadata": {},
   "outputs": [],
   "source": [
    "data = {'m':38, 'counts':counts, 'priors':np.ones(38)}"
   ]
  },
  {
   "cell_type": "code",
   "execution_count": 1133,
   "metadata": {},
   "outputs": [],
   "source": [
    "fit = stanmodel.sampling(data=data)"
   ]
  },
  {
   "cell_type": "code",
   "execution_count": 1134,
   "metadata": {},
   "outputs": [],
   "source": [
    "#fit.plot()\n",
    "fit_par = fit.extract(permuted=True)"
   ]
  },
  {
   "cell_type": "code",
   "execution_count": 1135,
   "metadata": {},
   "outputs": [
    {
     "data": {
      "text/plain": [
       "(4000, 38)"
      ]
     },
     "execution_count": 1135,
     "metadata": {},
     "output_type": "execute_result"
    }
   ],
   "source": [
    "fit_par['p'].shape"
   ]
  },
  {
   "cell_type": "code",
   "execution_count": 1136,
   "metadata": {},
   "outputs": [],
   "source": [
    "fit_samples = fit_par['p']"
   ]
  },
  {
   "cell_type": "code",
   "execution_count": 1137,
   "metadata": {},
   "outputs": [],
   "source": [
    "# fit_samples[3999]"
   ]
  },
  {
   "cell_type": "code",
   "execution_count": 1138,
   "metadata": {},
   "outputs": [],
   "source": [
    "def getRedBlackProb(p):\n",
    "    redblack_dic = {'red':0, 'black':0, 'green':0}\n",
    "    zipped_array = zip(wheel,p,redblack)\n",
    "    for i in zipped_array:\n",
    "        if i[2] == 'green':\n",
    "            redblack_dic['green'] += i[1]\n",
    "        elif i[2] == 'red':\n",
    "            redblack_dic['red'] += i[1]\n",
    "        else:\n",
    "            redblack_dic['black'] += i[1]\n",
    "            \n",
    "    return redblack_dic"
   ]
  },
  {
   "cell_type": "code",
   "execution_count": 1139,
   "metadata": {},
   "outputs": [],
   "source": [
    "# list(getRedBlackProb(np.ones(38)/38).values())"
   ]
  },
  {
   "cell_type": "code",
   "execution_count": 1140,
   "metadata": {},
   "outputs": [],
   "source": [
    "def getEvenOddProb(p):\n",
    "    evenodd_dic = {'even':0, 'odd':0, 'none':0}\n",
    "    zipped_array = zip(wheel,p,evenodd)\n",
    "    for i in zipped_array:\n",
    "        if i[2] == 'even':\n",
    "            evenodd_dic['even'] += i[1]\n",
    "        elif i[2] == 'odd':\n",
    "            evenodd_dic['odd'] += i[1]\n",
    "        else:\n",
    "            evenodd_dic['none'] += i[1]\n",
    "            \n",
    "    return evenodd_dic"
   ]
  },
  {
   "cell_type": "code",
   "execution_count": 1141,
   "metadata": {},
   "outputs": [],
   "source": [
    "# list(getEvenOddProb(np.ones(38)/38).values())"
   ]
  },
  {
   "cell_type": "code",
   "execution_count": 1142,
   "metadata": {},
   "outputs": [],
   "source": [
    "def getLowHighProb(p):\n",
    "    lowhigh_dic = {'low':0, 'high':0, 'none':0}\n",
    "    zipped_array = zip(wheel,p,lowhigh)\n",
    "    for i in zipped_array:\n",
    "        if i[2] == 'low':\n",
    "            lowhigh_dic['low'] += i[1]\n",
    "        elif i[2] == 'high':\n",
    "            lowhigh_dic['high'] += i[1]\n",
    "        else:\n",
    "            lowhigh_dic['none'] += i[1]\n",
    "            \n",
    "    return lowhigh_dic"
   ]
  },
  {
   "cell_type": "code",
   "execution_count": 1143,
   "metadata": {},
   "outputs": [],
   "source": [
    "# list(getLowHighProb(np.ones(38)/38).values())"
   ]
  },
  {
   "cell_type": "code",
   "execution_count": 1144,
   "metadata": {},
   "outputs": [],
   "source": [
    "def getDozensProb(p):\n",
    "    dozens_dic = {'1':0, '2':0, '3':0, 'none':0}\n",
    "    zipped_array = zip(wheel,p,dozens)\n",
    "    for i in zipped_array:\n",
    "        if i[2] == 1:\n",
    "            dozens_dic['1'] += i[1]\n",
    "        elif i[2] == 2:\n",
    "            dozens_dic['2'] += i[1]\n",
    "        elif i[2] == 3:\n",
    "            dozens_dic['3'] += i[1]\n",
    "        else:\n",
    "            dozens_dic['none'] += i[1]\n",
    "            \n",
    "    return dozens_dic"
   ]
  },
  {
   "cell_type": "code",
   "execution_count": 1145,
   "metadata": {},
   "outputs": [],
   "source": [
    "# list(getDozensProb(np.ones(38)/38).values())"
   ]
  },
  {
   "cell_type": "code",
   "execution_count": 1146,
   "metadata": {},
   "outputs": [],
   "source": [
    "def getColumnsProb(p):\n",
    "    columns_dic = {'1':0, '2':0, '3':0, 'none':0}\n",
    "    zipped_array = zip(wheel,p,columns)\n",
    "    for i in zipped_array:\n",
    "        if i[2] == 1:\n",
    "            columns_dic['1'] += i[1]\n",
    "        elif i[2] == 2:\n",
    "            columns_dic['2'] += i[1]\n",
    "        elif i[2] == 3:\n",
    "            columns_dic['3'] += i[1]\n",
    "        else:\n",
    "            columns_dic['none'] += i[1]\n",
    "            \n",
    "    return columns_dic"
   ]
  },
  {
   "cell_type": "code",
   "execution_count": 1147,
   "metadata": {},
   "outputs": [],
   "source": [
    "# list(getColumnsProb(np.ones(38)/38).values())"
   ]
  },
  {
   "cell_type": "code",
   "execution_count": 1148,
   "metadata": {},
   "outputs": [],
   "source": [
    "def getSixlineProb(p):\n",
    "    sixline_dic = {'1':0, '2':0, '3':0, '4':0, '5':0, '6':0, '7':0, '8':0, '9':0, '10':0, '11':0, 'none':0}\n",
    "    zipped_array = zip(wheel,p,sixline)\n",
    "    for i in zipped_array:\n",
    "        if i[2] == 'none':\n",
    "            sixline_dic['none'] += i[1]\n",
    "        else:\n",
    "            for j in range(len(i[2])):\n",
    "                sixline_dic[i[2][j]] += i[1]\n",
    "                \n",
    "    return sixline_dic"
   ]
  },
  {
   "cell_type": "code",
   "execution_count": 1149,
   "metadata": {},
   "outputs": [],
   "source": [
    "# list(getSixlineProb(np.ones(38)/38).values())"
   ]
  },
  {
   "cell_type": "code",
   "execution_count": 1150,
   "metadata": {},
   "outputs": [],
   "source": [
    "def getSquareProb(p):\n",
    "    square_dic = {'1':0, '2':0, '3':0, '4':0, '5':0, '6':0, '7':0, '8':0, '9':0, '10':0, '11':0, \n",
    "                  '12':0, '13':0, '14':0, '15':0, '16':0, '17':0, '18':0, '19':0, '20':0, '21':0, '22':0, 'none':0}\n",
    "    zipped_array = zip(wheel,p,square)\n",
    "    for i in zipped_array:\n",
    "        if i[2] == 'none':\n",
    "            square_dic['none'] += i[1]\n",
    "        else:\n",
    "            for j in range(len(i[2])):\n",
    "                square_dic[i[2][j]] += i[1]\n",
    "                \n",
    "    return square_dic"
   ]
  },
  {
   "cell_type": "code",
   "execution_count": 1151,
   "metadata": {},
   "outputs": [],
   "source": [
    "# list(getSquareProb(np.ones(38)/38).values())"
   ]
  },
  {
   "cell_type": "code",
   "execution_count": 1152,
   "metadata": {},
   "outputs": [],
   "source": [
    "def getStreetProb(p):\n",
    "    street_dic = {'1':0, '2':0, '3':0, '4':0, '5':0, '6':0, '7':0, '8':0, '9':0, '10':0, '11':0, '12':0, 'none':0}\n",
    "    zipped_array = zip(wheel,p,street)\n",
    "    for i in zipped_array:\n",
    "        if i[2] == 'none':\n",
    "            street_dic['none'] += i[1]\n",
    "        else:\n",
    "            street_dic[i[2]] += i[1]\n",
    "                \n",
    "    return street_dic"
   ]
  },
  {
   "cell_type": "code",
   "execution_count": 1153,
   "metadata": {},
   "outputs": [],
   "source": [
    "# list(getStreetProb(np.ones(38)/38).values())"
   ]
  },
  {
   "cell_type": "code",
   "execution_count": 1154,
   "metadata": {},
   "outputs": [],
   "source": [
    "def getSplitProb(p):\n",
    "    split_dic = {'1':0, '2':0, '3':0, '4':0, '5':0, '6':0, '7':0, '8':0, '9':0, '10':0, '11':0, \n",
    "                 '12':0, '13':0, '14':0, '15':0, '16':0, '17':0, '18':0, '19':0, '20':0, '21':0, '22':0,\n",
    "                 '23':0, '24':0, '25':0, '26':0, '27':0, '28':0, '29':0, '30':0, '31':0, '32':0, '33':0,\n",
    "                 '34':0, '35':0, '36':0, '37':0, '38':0, '39':0, '40':0, '41':0, '42':0, '43':0, '44':0,\n",
    "                 '45':0, '46':0, '47':0, '48':0, '49':0, '50':0, '51':0, '52':0, '53':0, '54':0, '55':0,\n",
    "                 '56':0, '57':0, 'none':0}\n",
    "    zipped_array = zip(wheel,p,split)\n",
    "    for i in zipped_array:\n",
    "        if i[2] == 'none':\n",
    "            split_dic['none'] += i[1]\n",
    "        else:\n",
    "            for j in range(len(i[2])):\n",
    "                split_dic[i[2][j]] += i[1]\n",
    "                \n",
    "    return split_dic"
   ]
  },
  {
   "cell_type": "code",
   "execution_count": 1155,
   "metadata": {},
   "outputs": [],
   "source": [
    "# list(getSplitProb(np.ones(38)/38).values())"
   ]
  },
  {
   "cell_type": "code",
   "execution_count": 1156,
   "metadata": {},
   "outputs": [],
   "source": [
    "def getNeighborProb(p):\n",
    "    neighbor_dic = {x:0 for x in wheel}\n",
    "    zipped_array = zip(wheel,p,neighbor)\n",
    "    for i in zipped_array:\n",
    "        for j in i[2]:\n",
    "            neighbor_dic[j] += i[1]\n",
    "                \n",
    "    return neighbor_dic"
   ]
  },
  {
   "cell_type": "code",
   "execution_count": 1157,
   "metadata": {},
   "outputs": [],
   "source": [
    "# list(getNeighborProb(np.ones(38)/38).values())\n",
    "# fit_samples[0]\n",
    "# getNeighborProb(fit_samples[0])"
   ]
  },
  {
   "cell_type": "code",
   "execution_count": 1158,
   "metadata": {},
   "outputs": [
    {
     "data": {
      "text/plain": [
       "array([0.02304944, 0.02503672, 0.02937803, 0.02702475, 0.02838314,\n",
       "       0.02899117, 0.02618523, 0.02224422, 0.02958504, 0.02378245,\n",
       "       0.0253884 , 0.02542202, 0.02779845, 0.02458954, 0.02582435,\n",
       "       0.02641744, 0.0321853 , 0.02776377, 0.02381999, 0.02620464,\n",
       "       0.02581232, 0.02498691, 0.02594613, 0.02158121, 0.02718622,\n",
       "       0.02560816, 0.02640535, 0.02499507, 0.02699953, 0.02545547,\n",
       "       0.02702514, 0.02841094, 0.02797194, 0.02837417, 0.02498626,\n",
       "       0.02404829, 0.02555509, 0.02957769])"
      ]
     },
     "execution_count": 1158,
     "metadata": {},
     "output_type": "execute_result"
    }
   ],
   "source": [
    "single_prob = np.mean(fit_samples, axis=0)\n",
    "single_prob"
   ]
  },
  {
   "cell_type": "code",
   "execution_count": 1159,
   "metadata": {},
   "outputs": [
    {
     "data": {
      "text/plain": [
       "array([0.05339769, 0.05219417, 0.05540204, 0.04927547, 0.05376258,\n",
       "       0.05127982, 0.05084388, 0.0514325 , 0.0516407 , 0.05037532,\n",
       "       0.05179338, 0.05117214, 0.05498619, 0.05337145, 0.05397808,\n",
       "       0.05656426, 0.05617739, 0.05493312, 0.05494999, 0.05696311,\n",
       "       0.05331886, 0.05573571, 0.05014463, 0.0547633 , 0.05175439,\n",
       "       0.05158907, 0.05078198, 0.04683376, 0.05340489, 0.04920447,\n",
       "       0.04864957, 0.05182738, 0.04926936, 0.0528228 , 0.05040828,\n",
       "       0.05344259, 0.0514037 , 0.0540499 , 0.05236357, 0.05002298,\n",
       "       0.05297088, 0.05098285, 0.05283707, 0.05432926, 0.04661793,\n",
       "       0.05419545, 0.04996434, 0.05539736, 0.0533782 , 0.04937966,\n",
       "       0.05458011, 0.05279352, 0.05799598, 0.05718036, 0.05184674,\n",
       "       0.06059624, 0.05623359, 0.04925409])"
      ]
     },
     "execution_count": 1159,
     "metadata": {},
     "output_type": "execute_result"
    }
   ],
   "source": [
    "split_prob = np.mean([list(getSplitProb(x).values()) for x in fit_samples], axis=0)\n",
    "split_prob"
   ]
  },
  {
   "cell_type": "code",
   "execution_count": 1160,
   "metadata": {},
   "outputs": [
    {
     "data": {
      "text/plain": [
       "array([0.08177186, 0.07666822, 0.0767803 , 0.08555543, 0.0812908 ,\n",
       "       0.07537152, 0.07407159, 0.07842885, 0.0780076 , 0.07577666,\n",
       "       0.08237856, 0.08464453, 0.04925409])"
      ]
     },
     "execution_count": 1160,
     "metadata": {},
     "output_type": "execute_result"
    }
   ],
   "source": [
    "street_prob = np.mean([list(getStreetProb(x).values()) for x in fit_samples], axis=0)\n",
    "street_prob"
   ]
  },
  {
   "cell_type": "code",
   "execution_count": 1161,
   "metadata": {},
   "outputs": [
    {
     "data": {
      "text/plain": [
       "array([0.10467751, 0.10303804, 0.1030732 , 0.10201602, 0.10835764,\n",
       "       0.10734953, 0.10988312, 0.11191311, 0.10490793, 0.10651769,\n",
       "       0.10023864, 0.10260935, 0.10209216, 0.10323108, 0.10641346,\n",
       "       0.10238655, 0.10716633, 0.10094719, 0.10877557, 0.10275786,\n",
       "       0.11517635, 0.10902711, 0.04925409])"
      ]
     },
     "execution_count": 1161,
     "metadata": {},
     "output_type": "execute_result"
    }
   ],
   "source": [
    "square_prob = np.mean([list(getSquareProb(x).values()) for x in fit_samples], axis=0)\n",
    "square_prob"
   ]
  },
  {
   "cell_type": "code",
   "execution_count": 1162,
   "metadata": {},
   "outputs": [
    {
     "data": {
      "text/plain": [
       "array([0.15844008, 0.15344852, 0.16233572, 0.16684623, 0.15666232,\n",
       "       0.14944311, 0.15250044, 0.15643645, 0.15378426, 0.15815522,\n",
       "       0.16702309, 0.04925409])"
      ]
     },
     "execution_count": 1162,
     "metadata": {},
     "output_type": "execute_result"
    }
   ],
   "source": [
    "sixline_prob = np.mean([list(getSixlineProb(x).values()) for x in fit_samples], axis=0)\n",
    "sixline_prob"
   ]
  },
  {
   "cell_type": "code",
   "execution_count": 1163,
   "metadata": {},
   "outputs": [
    {
     "data": {
      "text/plain": [
       "array([0.32063527, 0.32174265, 0.308368  , 0.04925409])"
      ]
     },
     "execution_count": 1163,
     "metadata": {},
     "output_type": "execute_result"
    }
   ],
   "source": [
    "columns_prob = np.mean([list(getColumnsProb(x).values()) for x in fit_samples], axis=0)\n",
    "columns_prob"
   ]
  },
  {
   "cell_type": "code",
   "execution_count": 1164,
   "metadata": {},
   "outputs": [
    {
     "data": {
      "text/plain": [
       "array([0.3207758 , 0.30916276, 0.32080735, 0.04925409])"
      ]
     },
     "execution_count": 1164,
     "metadata": {},
     "output_type": "execute_result"
    }
   ],
   "source": [
    "dozens_prob = np.mean([list(getDozensProb(x).values()) for x in fit_samples], axis=0)\n",
    "dozens_prob"
   ]
  },
  {
   "cell_type": "code",
   "execution_count": 1165,
   "metadata": {},
   "outputs": [
    {
     "data": {
      "text/plain": [
       "array([0.47743812, 0.47330779, 0.04925409])"
      ]
     },
     "execution_count": 1165,
     "metadata": {},
     "output_type": "execute_result"
    }
   ],
   "source": [
    "lowhigh_prob = np.mean([list(getLowHighProb(x).values()) for x in fit_samples], axis=0)\n",
    "lowhigh_prob "
   ]
  },
  {
   "cell_type": "code",
   "execution_count": 1166,
   "metadata": {},
   "outputs": [
    {
     "data": {
      "text/plain": [
       "array([0.46493363, 0.48581228, 0.04925409])"
      ]
     },
     "execution_count": 1166,
     "metadata": {},
     "output_type": "execute_result"
    }
   ],
   "source": [
    "evenodd_prob = np.mean([list(getEvenOddProb(x).values()) for x in fit_samples], axis=0)\n",
    "evenodd_prob "
   ]
  },
  {
   "cell_type": "code",
   "execution_count": 1167,
   "metadata": {},
   "outputs": [
    {
     "data": {
      "text/plain": [
       "array([0.46430999, 0.48643593, 0.04925409])"
      ]
     },
     "execution_count": 1167,
     "metadata": {},
     "output_type": "execute_result"
    }
   ],
   "source": [
    "redblack_prob = np.mean([list(getRedBlackProb(x).values()) for x in fit_samples], axis=0)\n",
    "redblack_prob"
   ]
  },
  {
   "cell_type": "code",
   "execution_count": 1168,
   "metadata": {},
   "outputs": [
    {
     "data": {
      "text/plain": [
       "array([0.13259698, 0.13406665, 0.13287209, 0.13881382, 0.13996232,\n",
       "       0.1328285 , 0.13538879, 0.1307881 , 0.12718534, 0.12642213,\n",
       "       0.13197637, 0.12698087, 0.12902277, 0.13005181, 0.13681508,\n",
       "       0.1367804 , 0.13601085, 0.13639115, 0.13578602, 0.12858764,\n",
       "       0.12676999, 0.1245312 , 0.12551278, 0.12530862, 0.12672707,\n",
       "       0.12577601, 0.13119433, 0.12946358, 0.13088057, 0.13288615,\n",
       "       0.13586303, 0.13723767, 0.13676846, 0.1337916 , 0.13093575,\n",
       "       0.1325415 , 0.12721677, 0.12726724])"
      ]
     },
     "execution_count": 1168,
     "metadata": {},
     "output_type": "execute_result"
    }
   ],
   "source": [
    "neighbor_prob = np.mean([list(getNeighborProb(x).values()) for x in fit_samples], axis=0)\n",
    "neighbor_prob"
   ]
  },
  {
   "cell_type": "code",
   "execution_count": 1169,
   "metadata": {},
   "outputs": [],
   "source": [
    "single_pay = np.ones(38)*35\n",
    "split_pay = np.ones(57)*17\n",
    "street_pay = np.ones(12)*11\n",
    "square_pay = np.ones(22)*8\n",
    "sixline_pay = np.ones(11)*5\n",
    "column_pay = np.ones(3)*2\n",
    "dozen_pay = np.ones(3)*2\n",
    "lowhigh_pay = np.ones(2)*1\n",
    "evenodd_pay = np.ones(2)*1\n",
    "redblack_pay = np.ones(2)*1\n",
    "neighbor_pay = np.ones(38)*(35/5)"
   ]
  },
  {
   "cell_type": "code",
   "execution_count": 1170,
   "metadata": {},
   "outputs": [],
   "source": [
    "single_cover = np.ones(38)*1\n",
    "split_cover = np.ones(57)*2\n",
    "street_cover = np.ones(12)*3\n",
    "square_cover = np.ones(22)*4\n",
    "sixline_cover = np.ones(11)*6\n",
    "column_cover = np.ones(3)*12\n",
    "dozen_cover = np.ones(3)*12\n",
    "lowhigh_cover = np.ones(2)*18\n",
    "evenodd_cover = np.ones(2)*18\n",
    "redblack_cover = np.ones(2)*18\n",
    "neighbor_cover = np.ones(38)*5"
   ]
  },
  {
   "cell_type": "code",
   "execution_count": 1171,
   "metadata": {},
   "outputs": [],
   "source": [
    "single_expected = single_prob * single_pay + (1-single_prob) * -1\n",
    "split_expected = split_prob[:-1] * split_pay + (1-split_prob[:-1]) * -1\n",
    "street_expected = street_prob[:-1] * street_pay + (1-street_prob[:-1]) * -1\n",
    "square_expected = square_prob[:-1] * square_pay + (1-square_prob[:-1]) * -1\n",
    "sixline_expected = sixline_prob[:-1] * sixline_pay + (1-sixline_prob[:-1]) * -1\n",
    "column_expected = columns_prob[:-1] * column_pay + (1-columns_prob[:-1]) * -1\n",
    "dozen_expected = dozens_prob[:-1] * dozen_pay + (1-dozens_prob[:-1]) * -1\n",
    "lowhigh_expected = lowhigh_prob[:-1] * lowhigh_pay + (1-lowhigh_prob[:-1]) * -1\n",
    "evenodd_expected = evenodd_prob[:-1] * evenodd_pay + (1-evenodd_prob[:-1]) * -1\n",
    "redblack_expected = redblack_prob[:-1] * redblack_pay + (1-redblack_prob[:-1]) * -1\n",
    "neighbor_expected = neighbor_prob * neighbor_pay + (1-neighbor_prob) * -1"
   ]
  },
  {
   "cell_type": "code",
   "execution_count": 1209,
   "metadata": {},
   "outputs": [
    {
     "name": "stdout",
     "output_type": "stream",
     "text": [
      "38\n",
      "38\n"
     ]
    }
   ],
   "source": [
    "single_bet_dic = {\n",
    "    i:'s:'+x for i,x in enumerate(wheel)\n",
    "}\n",
    "print(len(single_prob))\n",
    "print(len(single_bet_dic.keys()))"
   ]
  },
  {
   "cell_type": "code",
   "execution_count": 1210,
   "metadata": {},
   "outputs": [
    {
     "name": "stdout",
     "output_type": "stream",
     "text": [
      "57\n",
      "57\n"
     ]
    }
   ],
   "source": [
    "split_bet_dic = {\n",
    "    38: 'sp:1-2', 39: 'sp:2-3', 40: 'sp:1-4', 41: 'sp:2-5', 42: 'sp:3-6', \n",
    "    43: 'sp:4-5', 44: 'sp:5-6', 45: 'sp:4-7', 46: 'sp:5-8', 47: 'sp:6-9', \n",
    "    48: 'sp:7-8', 49: 'sp:8-9', 50: 'sp:7-10', 51: 'sp:8-11', 52: 'sp:9-12', \n",
    "    53: 'sp:10-11', 54: 'sp:11-12', 55: 'sp:10-13', 56: 'sp:11-14', 57: 'sp:12-15', \n",
    "    58: 'sp:13-14', 59: 'sp:14-15', 60: 'sp:13-16', 61: 'sp:14-17', 62: 'sp:15-18', \n",
    "    63: 'sp:16-17', 64: 'sp:17-18', 65: 'sp:16-19', 66: 'sp:17-20', 67: 'sp:18-21', \n",
    "    68: 'sp:19-20', 69: 'sp:20-21', 70: 'sp:19-22', 71: 'sp:20-23', 72: 'sp:21-24', \n",
    "    73: 'sp:22-23', 74: 'sp:23-24', 75: 'sp:22-25', 76: 'sp:23-26', 77: 'sp:24-27', \n",
    "    78: 'sp:25-26', 79: 'sp:26-27', 80: 'sp:25-28', 81: 'sp:26-29', 82: 'sp:27-30', \n",
    "    83: 'sp:28-29', 84: 'sp:29-30', 85: 'sp:28-31', 86: 'sp:29-32', 87: 'sp:30-33', \n",
    "    88: 'sp:31-32', 89: 'sp:32-33', 90: 'sp:31-34', 91: 'sp:32-35', 92: 'sp:33-36', \n",
    "    93: 'sp:34-35', 94: 'sp:35-36'\n",
    "}   \n",
    "print(len(split_prob[:-1]))\n",
    "print(len(split_bet_dic.keys()))"
   ]
  },
  {
   "cell_type": "code",
   "execution_count": 1211,
   "metadata": {},
   "outputs": [
    {
     "name": "stdout",
     "output_type": "stream",
     "text": [
      "12\n",
      "12\n"
     ]
    }
   ],
   "source": [
    "street_bet_dic = {\n",
    "    95: 'st:1-2-3', 96: 'st:4-5-6', 97: 'st:7-8-9', 98: 'st:10-11-12', 99: 'st:13-14-15',\n",
    "    100: 'st:16-17-18', 101: 'st:19-20-21', 102: 'st:22-23-24', 103: 'st:25-26-27', 104: 'st:28-29-30', \n",
    "    105: 'st:31-32-33', 106: 'st:34-35-36'\n",
    "}\n",
    "print(len(street_prob[:-1]))\n",
    "print(len(street_bet_dic.keys()))\n"
   ]
  },
  {
   "cell_type": "code",
   "execution_count": 1212,
   "metadata": {},
   "outputs": [
    {
     "name": "stdout",
     "output_type": "stream",
     "text": [
      "22\n",
      "22\n"
     ]
    }
   ],
   "source": [
    "square_bet_dic = {\n",
    "    107: 'sq:1/2/4/5', 108: 'sq:2/3/5/6', 109: 'sq:4/5/7/8', 110: 'sq:5/6/8/9', 111: 'sq:7/8/10/11', \n",
    "    112: 'sq:8/9/11/12', 113: 'sq:10/11/13/14', 114: 'sq:11/12/14/15', 115: 'sq:13/14/16/17', 116: 'sq:14/15/17/18',\n",
    "    117: 'sq:16/17/19/20', 118: 'sq:17/18/20/21', 119: 'sq:19/20/22/23', 120: 'sq:20/21/23/24', 121: 'sq:22/23/25/26',\n",
    "    122: 'sq:23/24/26/27', 123: 'sq:25/26/28/29', 124: 'sq:26/27/29/30', 125: 'sq:28/29/31/32', 126: 'sq:29/30/32/33',\n",
    "    127: 'sq:31/32/34/35', 128: 'sq:32/33/35/36'\n",
    "}\n",
    "print(len(square_prob[:-1]))\n",
    "print(len(square_bet_dic.keys()))\n"
   ]
  },
  {
   "cell_type": "code",
   "execution_count": 1259,
   "metadata": {},
   "outputs": [
    {
     "name": "stdout",
     "output_type": "stream",
     "text": [
      "11\n",
      "11\n"
     ]
    }
   ],
   "source": [
    "sixline_bet_dic = {\n",
    "    129: 'sx:1/2/3/4/5/6', 130: 'sx:4/5/6/7/8/9', 131: 'sx:7/8/9/10/11/12', 132: 'sx:10/11/12/13/14/15', 133: 'sx:13/14/15/16/17/18', 134: 'sx:16/17/18/19/20/21', \n",
    "    135: 'sx:19/20/21/22/23/24', 136: 'sx:22/23/24/25/26/27', 137: 'sx:25/26/27/28/29/30', 138: 'sx:28/29/30/31/32/33', 139: 'sx:31/32/33/34/35/36'\n",
    "}\n",
    "print(len(sixline_prob[:-1]))\n",
    "print(len(sixline_bet_dic.keys()))\n"
   ]
  },
  {
   "cell_type": "code",
   "execution_count": 1260,
   "metadata": {},
   "outputs": [
    {
     "name": "stdout",
     "output_type": "stream",
     "text": [
      "6\n",
      "6\n",
      "6\n",
      "6\n"
     ]
    }
   ],
   "source": [
    "three_bet_dic = {\n",
    "    140: 'c:1', 141: 'c:2', 142: 'c:3',\n",
    "    143: 'd:1', 144: 'd:2', 145: 'd:3'\n",
    "}\n",
    "print(len(columns_prob[:-1])+len(dozens_prob[:-1]))\n",
    "print(len(three_bet_dic.keys()))\n",
    "\n",
    "two_bet_dic = {\n",
    "    146: 'low', 147: 'high',\n",
    "    148: 'even', 149: 'odd',\n",
    "    150: 'red', 151: 'black'\n",
    "} \n",
    "print(len(lowhigh_prob[:-1])+len(evenodd_prob[:-1])+len(redblack_prob[:-1]))\n",
    "print(len(two_bet_dic.keys()))\n"
   ]
  },
  {
   "cell_type": "code",
   "execution_count": 1261,
   "metadata": {},
   "outputs": [
    {
     "name": "stdout",
     "output_type": "stream",
     "text": [
      "38\n",
      "38\n"
     ]
    }
   ],
   "source": [
    "neighbor_bet_dic = {\n",
    "    i+152:'n:{}'.format(x) for i,x in enumerate(wheel)\n",
    "}\n",
    "print(len(neighbor_prob))\n",
    "print(len(neighbor_bet_dic.keys()))"
   ]
  },
  {
   "cell_type": "code",
   "execution_count": 1262,
   "metadata": {},
   "outputs": [],
   "source": [
    "bet_dic = {**single_bet_dic, **split_bet_dic, **street_bet_dic, **square_bet_dic, **sixline_bet_dic, **three_bet_dic, **two_bet_dic, **neighbor_bet_dic}\n",
    "# bet_dic"
   ]
  },
  {
   "cell_type": "code",
   "execution_count": 1263,
   "metadata": {},
   "outputs": [
    {
     "data": {
      "text/plain": [
       "190"
      ]
     },
     "execution_count": 1263,
     "metadata": {},
     "output_type": "execute_result"
    }
   ],
   "source": [
    "len(list(bet_dic.keys()))"
   ]
  },
  {
   "cell_type": "code",
   "execution_count": 1264,
   "metadata": {},
   "outputs": [],
   "source": [
    "#def getBetCoverage(bet_dic):\n",
    "cover_dic = {x:np.array([],dtype=int) for x in bet_dic.values()}\n",
    "for i in range(len(bet_dic.keys())):\n",
    "    bet_str = bet_dic[i]\n",
    "    if bet_str == 'low':\n",
    "        cover_dic[bet_str] = [wheel[w] for w in [i for i,x in enumerate(lowhigh) if x is 'low']]\n",
    "    elif bet_str == 'high':\n",
    "        cover_dic[bet_str] = [wheel[w] for w in [i for i,x in enumerate(lowhigh) if x is 'high']]\n",
    "    elif bet_str == 'even':\n",
    "        cover_dic[bet_str] = [wheel[w] for w in [i for i,x in enumerate(evenodd) if x is 'even']]\n",
    "    elif bet_str == 'odd':\n",
    "        cover_dic[bet_str] = [wheel[w] for w in [i for i,x in enumerate(evenodd) if x is 'odd']]\n",
    "    elif bet_str == 'red':\n",
    "        cover_dic[bet_str] = [wheel[w] for w in [i for i,x in enumerate(redblack) if x is 'red']]\n",
    "    elif bet_str == 'black':\n",
    "        cover_dic[bet_str] = [wheel[w] for w in [i for i,x in enumerate(redblack) if x is 'black']]\n",
    "    else:\n",
    "        bet_name,bet_par = bet_str.split(\":\")\n",
    "        if bet_name == 's':\n",
    "            cover_dic[bet_str] = [bet_par]\n",
    "        elif bet_name == 'n':\n",
    "            cover_dic[bet_str] = neighbor[wheel.index(bet_par)]\n",
    "        elif bet_name == 'sp':\n",
    "            cover_dic[bet_str] = bet_par.split('-')\n",
    "        elif bet_name == 'st':\n",
    "            cover_dic[bet_str] = bet_par.split('-')\n",
    "        elif bet_name == 'sq':\n",
    "            cover_dic[bet_str] = bet_par.split('/')\n",
    "        elif bet_name == 'sx':\n",
    "            cover_dic[bet_str] = bet_par.split('/')\n",
    "        elif bet_name == 'c':\n",
    "            cover_dic[bet_str] = [wheel[w] for w in [i for i,x in enumerate(columns) if x is int(bet_par)]]\n",
    "        elif bet_name == 'd':\n",
    "            cover_dic[bet_str] = [wheel[w] for w in [i for i,x in enumerate(columns) if x is int(bet_par)]]\n",
    "        else:\n",
    "            print('something is wrong')\n",
    "            cover_dic[bet_str] = None"
   ]
  },
  {
   "cell_type": "code",
   "execution_count": 1265,
   "metadata": {},
   "outputs": [
    {
     "data": {
      "text/plain": [
       "{'s:00': ['00'],\n",
       " 's:27': ['27'],\n",
       " 's:10': ['10'],\n",
       " 's:25': ['25'],\n",
       " 's:29': ['29'],\n",
       " 's:12': ['12'],\n",
       " 's:8': ['8'],\n",
       " 's:19': ['19'],\n",
       " 's:31': ['31'],\n",
       " 's:18': ['18'],\n",
       " 's:6': ['6'],\n",
       " 's:21': ['21'],\n",
       " 's:33': ['33'],\n",
       " 's:16': ['16'],\n",
       " 's:4': ['4'],\n",
       " 's:23': ['23'],\n",
       " 's:35': ['35'],\n",
       " 's:14': ['14'],\n",
       " 's:2': ['2'],\n",
       " 's:0': ['0'],\n",
       " 's:28': ['28'],\n",
       " 's:9': ['9'],\n",
       " 's:26': ['26'],\n",
       " 's:30': ['30'],\n",
       " 's:11': ['11'],\n",
       " 's:7': ['7'],\n",
       " 's:20': ['20'],\n",
       " 's:32': ['32'],\n",
       " 's:17': ['17'],\n",
       " 's:5': ['5'],\n",
       " 's:22': ['22'],\n",
       " 's:34': ['34'],\n",
       " 's:15': ['15'],\n",
       " 's:3': ['3'],\n",
       " 's:24': ['24'],\n",
       " 's:36': ['36'],\n",
       " 's:13': ['13'],\n",
       " 's:1': ['1'],\n",
       " 'sp:1-2': ['1', '2'],\n",
       " 'sp:2-3': ['2', '3'],\n",
       " 'sp:1-4': ['1', '4'],\n",
       " 'sp:2-5': ['2', '5'],\n",
       " 'sp:3-6': ['3', '6'],\n",
       " 'sp:4-5': ['4', '5'],\n",
       " 'sp:5-6': ['5', '6'],\n",
       " 'sp:4-7': ['4', '7'],\n",
       " 'sp:5-8': ['5', '8'],\n",
       " 'sp:6-9': ['6', '9'],\n",
       " 'sp:7-8': ['7', '8'],\n",
       " 'sp:8-9': ['8', '9'],\n",
       " 'sp:7-10': ['7', '10'],\n",
       " 'sp:8-11': ['8', '11'],\n",
       " 'sp:9-12': ['9', '12'],\n",
       " 'sp:10-11': ['10', '11'],\n",
       " 'sp:11-12': ['11', '12'],\n",
       " 'sp:10-13': ['10', '13'],\n",
       " 'sp:11-14': ['11', '14'],\n",
       " 'sp:12-15': ['12', '15'],\n",
       " 'sp:13-14': ['13', '14'],\n",
       " 'sp:14-15': ['14', '15'],\n",
       " 'sp:13-16': ['13', '16'],\n",
       " 'sp:14-17': ['14', '17'],\n",
       " 'sp:15-18': ['15', '18'],\n",
       " 'sp:16-17': ['16', '17'],\n",
       " 'sp:17-18': ['17', '18'],\n",
       " 'sp:16-19': ['16', '19'],\n",
       " 'sp:17-20': ['17', '20'],\n",
       " 'sp:18-21': ['18', '21'],\n",
       " 'sp:19-20': ['19', '20'],\n",
       " 'sp:20-21': ['20', '21'],\n",
       " 'sp:19-22': ['19', '22'],\n",
       " 'sp:20-23': ['20', '23'],\n",
       " 'sp:21-24': ['21', '24'],\n",
       " 'sp:22-23': ['22', '23'],\n",
       " 'sp:23-24': ['23', '24'],\n",
       " 'sp:22-25': ['22', '25'],\n",
       " 'sp:23-26': ['23', '26'],\n",
       " 'sp:24-27': ['24', '27'],\n",
       " 'sp:25-26': ['25', '26'],\n",
       " 'sp:26-27': ['26', '27'],\n",
       " 'sp:25-28': ['25', '28'],\n",
       " 'sp:26-29': ['26', '29'],\n",
       " 'sp:27-30': ['27', '30'],\n",
       " 'sp:28-29': ['28', '29'],\n",
       " 'sp:29-30': ['29', '30'],\n",
       " 'sp:28-31': ['28', '31'],\n",
       " 'sp:29-32': ['29', '32'],\n",
       " 'sp:30-33': ['30', '33'],\n",
       " 'sp:31-32': ['31', '32'],\n",
       " 'sp:32-33': ['32', '33'],\n",
       " 'sp:31-34': ['31', '34'],\n",
       " 'sp:32-35': ['32', '35'],\n",
       " 'sp:33-36': ['33', '36'],\n",
       " 'sp:34-35': ['34', '35'],\n",
       " 'sp:35-36': ['35', '36'],\n",
       " 'st:1-2-3': ['1', '2', '3'],\n",
       " 'st:4-5-6': ['4', '5', '6'],\n",
       " 'st:7-8-9': ['7', '8', '9'],\n",
       " 'st:10-11-12': ['10', '11', '12'],\n",
       " 'st:13-14-15': ['13', '14', '15'],\n",
       " 'st:16-17-18': ['16', '17', '18'],\n",
       " 'st:19-20-21': ['19', '20', '21'],\n",
       " 'st:22-23-24': ['22', '23', '24'],\n",
       " 'st:25-26-27': ['25', '26', '27'],\n",
       " 'st:28-29-30': ['28', '29', '30'],\n",
       " 'st:31-32-33': ['31', '32', '33'],\n",
       " 'st:34-35-36': ['34', '35', '36'],\n",
       " 'sq:1/2/4/5': ['1', '2', '4', '5'],\n",
       " 'sq:2/3/5/6': ['2', '3', '5', '6'],\n",
       " 'sq:4/5/7/8': ['4', '5', '7', '8'],\n",
       " 'sq:5/6/8/9': ['5', '6', '8', '9'],\n",
       " 'sq:7/8/10/11': ['7', '8', '10', '11'],\n",
       " 'sq:8/9/11/12': ['8', '9', '11', '12'],\n",
       " 'sq:10/11/13/14': ['10', '11', '13', '14'],\n",
       " 'sq:11/12/14/15': ['11', '12', '14', '15'],\n",
       " 'sq:13/14/16/17': ['13', '14', '16', '17'],\n",
       " 'sq:14/15/17/18': ['14', '15', '17', '18'],\n",
       " 'sq:16/17/19/20': ['16', '17', '19', '20'],\n",
       " 'sq:17/18/20/21': ['17', '18', '20', '21'],\n",
       " 'sq:19/20/22/23': ['19', '20', '22', '23'],\n",
       " 'sq:20/21/23/24': ['20', '21', '23', '24'],\n",
       " 'sq:22/23/25/26': ['22', '23', '25', '26'],\n",
       " 'sq:23/24/26/27': ['23', '24', '26', '27'],\n",
       " 'sq:25/26/28/29': ['25', '26', '28', '29'],\n",
       " 'sq:26/27/29/30': ['26', '27', '29', '30'],\n",
       " 'sq:28/29/31/32': ['28', '29', '31', '32'],\n",
       " 'sq:29/30/32/33': ['29', '30', '32', '33'],\n",
       " 'sq:31/32/34/35': ['31', '32', '34', '35'],\n",
       " 'sq:32/33/35/36': ['32', '33', '35', '36'],\n",
       " 'sx:1/2/3/4/5/6': ['1', '2', '3', '4', '5', '6'],\n",
       " 'sx:4/5/6/7/8/9': ['4', '5', '6', '7', '8', '9'],\n",
       " 'sx:7/8/9/10/11/12': ['7', '8', '9', '10', '11', '12'],\n",
       " 'sx:10/11/12/13/14/15': ['10', '11', '12', '13', '14', '15'],\n",
       " 'sx:13/14/15/16/17/18': ['13', '14', '15', '16', '17', '18'],\n",
       " 'sx:16/17/18/19/20/21': ['16', '17', '18', '19', '20', '21'],\n",
       " 'sx:19/20/21/22/23/24': ['19', '20', '21', '22', '23', '24'],\n",
       " 'sx:22/23/24/25/26/27': ['22', '23', '24', '25', '26', '27'],\n",
       " 'sx:25/26/27/28/29/30': ['25', '26', '27', '28', '29', '30'],\n",
       " 'sx:28/29/30/31/32/33': ['28', '29', '30', '31', '32', '33'],\n",
       " 'sx:31/32/33/34/35/36': ['31', '32', '33', '34', '35', '36'],\n",
       " 'c:1': ['10', '25', '19', '31', '16', '4', '28', '7', '22', '34', '13', '1'],\n",
       " 'c:2': ['29', '8', '23', '35', '14', '2', '26', '11', '20', '32', '17', '5'],\n",
       " 'c:3': ['27', '12', '18', '6', '21', '33', '9', '30', '15', '3', '24', '36'],\n",
       " 'd:1': ['10', '25', '19', '31', '16', '4', '28', '7', '22', '34', '13', '1'],\n",
       " 'd:2': ['29', '8', '23', '35', '14', '2', '26', '11', '20', '32', '17', '5'],\n",
       " 'd:3': ['27', '12', '18', '6', '21', '33', '9', '30', '15', '3', '24', '36'],\n",
       " 'low': ['10',\n",
       "  '12',\n",
       "  '8',\n",
       "  '18',\n",
       "  '6',\n",
       "  '16',\n",
       "  '4',\n",
       "  '14',\n",
       "  '2',\n",
       "  '9',\n",
       "  '11',\n",
       "  '7',\n",
       "  '17',\n",
       "  '5',\n",
       "  '15',\n",
       "  '3',\n",
       "  '13',\n",
       "  '1'],\n",
       " 'high': ['27',\n",
       "  '25',\n",
       "  '29',\n",
       "  '19',\n",
       "  '31',\n",
       "  '21',\n",
       "  '33',\n",
       "  '23',\n",
       "  '35',\n",
       "  '28',\n",
       "  '26',\n",
       "  '30',\n",
       "  '20',\n",
       "  '32',\n",
       "  '22',\n",
       "  '34',\n",
       "  '24',\n",
       "  '36'],\n",
       " 'even': ['10',\n",
       "  '12',\n",
       "  '8',\n",
       "  '18',\n",
       "  '6',\n",
       "  '16',\n",
       "  '4',\n",
       "  '14',\n",
       "  '2',\n",
       "  '28',\n",
       "  '26',\n",
       "  '30',\n",
       "  '20',\n",
       "  '32',\n",
       "  '22',\n",
       "  '34',\n",
       "  '24',\n",
       "  '36'],\n",
       " 'odd': ['27',\n",
       "  '25',\n",
       "  '29',\n",
       "  '19',\n",
       "  '31',\n",
       "  '21',\n",
       "  '33',\n",
       "  '23',\n",
       "  '35',\n",
       "  '9',\n",
       "  '11',\n",
       "  '7',\n",
       "  '17',\n",
       "  '5',\n",
       "  '15',\n",
       "  '3',\n",
       "  '13',\n",
       "  '1'],\n",
       " 'red': ['27',\n",
       "  '25',\n",
       "  '12',\n",
       "  '19',\n",
       "  '18',\n",
       "  '21',\n",
       "  '16',\n",
       "  '23',\n",
       "  '14',\n",
       "  '9',\n",
       "  '30',\n",
       "  '7',\n",
       "  '32',\n",
       "  '5',\n",
       "  '34',\n",
       "  '3',\n",
       "  '36',\n",
       "  '1'],\n",
       " 'black': ['10',\n",
       "  '29',\n",
       "  '8',\n",
       "  '31',\n",
       "  '6',\n",
       "  '33',\n",
       "  '4',\n",
       "  '35',\n",
       "  '2',\n",
       "  '28',\n",
       "  '26',\n",
       "  '11',\n",
       "  '20',\n",
       "  '17',\n",
       "  '22',\n",
       "  '15',\n",
       "  '24',\n",
       "  '13'],\n",
       " 'n:00': ['13', '1', '00', '27', '10'],\n",
       " 'n:27': ['1', '00', '27', '10', '25'],\n",
       " 'n:10': ['00', '27', '10', '25', '29'],\n",
       " 'n:25': ['27', '10', '25', '29', '12'],\n",
       " 'n:29': ['10', '25', '29', '12', '8'],\n",
       " 'n:12': ['25', '29', '12', '8', '19'],\n",
       " 'n:8': ['29', '12', '8', '19', '31'],\n",
       " 'n:19': ['12', '8', '19', '31', '18'],\n",
       " 'n:31': ['8', '19', '31', '18', '6'],\n",
       " 'n:18': ['19', '31', '18', '6', '21'],\n",
       " 'n:6': ['31', '18', '6', '21', '33'],\n",
       " 'n:21': ['18', '6', '21', '33', '16'],\n",
       " 'n:33': ['6', '21', '33', '16', '4'],\n",
       " 'n:16': ['21', '33', '16', '4', '23'],\n",
       " 'n:4': ['33', '16', '4', '23', '35'],\n",
       " 'n:23': ['16', '4', '23', '35', '14'],\n",
       " 'n:35': ['4', '23', '35', '14', '2'],\n",
       " 'n:14': ['23', '35', '14', '2', '0'],\n",
       " 'n:2': ['35', '14', '2', '0', '28'],\n",
       " 'n:0': ['14', '2', '0', '28', '9'],\n",
       " 'n:28': ['2', '0', '28', '9', '26'],\n",
       " 'n:9': ['0', '28', '9', '26', '30'],\n",
       " 'n:26': ['28', '9', '26', '30', '11'],\n",
       " 'n:30': ['9', '26', '30', '11', '7'],\n",
       " 'n:11': ['26', '30', '11', '7', '20'],\n",
       " 'n:7': ['30', '11', '7', '20', '32'],\n",
       " 'n:20': ['11', '7', '20', '32', '17'],\n",
       " 'n:32': ['7', '20', '32', '17', '5'],\n",
       " 'n:17': ['20', '32', '17', '5', '22'],\n",
       " 'n:5': ['32', '17', '5', '22', '34'],\n",
       " 'n:22': ['17', '5', '22', '34', '15'],\n",
       " 'n:34': ['5', '22', '34', '15', '3'],\n",
       " 'n:15': ['22', '34', '15', '3', '24'],\n",
       " 'n:3': ['34', '15', '3', '24', '36'],\n",
       " 'n:24': ['15', '3', '24', '36', '13'],\n",
       " 'n:36': ['3', '24', '36', '13', '1'],\n",
       " 'n:13': ['24', '36', '13', '1', '00'],\n",
       " 'n:1': ['36', '13', '1', '00', '27']}"
      ]
     },
     "execution_count": 1265,
     "metadata": {},
     "output_type": "execute_result"
    }
   ],
   "source": [
    "cover_dic"
   ]
  },
  {
   "cell_type": "code",
   "execution_count": 1182,
   "metadata": {},
   "outputs": [],
   "source": [
    "bet_prob = np.hstack([single_prob,split_prob[:-1],street_prob[:-1],square_prob[:-1],sixline_prob[:-1],columns_prob[:-1],dozens_prob[:-1],lowhigh_prob[:-1],evenodd_prob[:-1],redblack_prob[:-1],neighbor_prob])\n",
    "# bet_prob"
   ]
  },
  {
   "cell_type": "code",
   "execution_count": 1183,
   "metadata": {},
   "outputs": [],
   "source": [
    "bet_expected = np.hstack([single_expected,split_expected,street_expected,square_expected,sixline_expected,column_expected,dozen_expected,lowhigh_expected,evenodd_expected,redblack_expected,neighbor_expected])\n",
    "# bet_expected"
   ]
  },
  {
   "cell_type": "code",
   "execution_count": 1184,
   "metadata": {},
   "outputs": [
    {
     "data": {
      "text/plain": [
       "190"
      ]
     },
     "execution_count": 1184,
     "metadata": {},
     "output_type": "execute_result"
    }
   ],
   "source": [
    "len(bet_prob)"
   ]
  },
  {
   "cell_type": "code",
   "execution_count": 1185,
   "metadata": {},
   "outputs": [
    {
     "data": {
      "text/plain": [
       "190"
      ]
     },
     "execution_count": 1185,
     "metadata": {},
     "output_type": "execute_result"
    }
   ],
   "source": [
    "len(bet_expected)"
   ]
  },
  {
   "cell_type": "code",
   "execution_count": 1186,
   "metadata": {},
   "outputs": [
    {
     "data": {
      "text/plain": [
       "16"
      ]
     },
     "execution_count": 1186,
     "metadata": {},
     "output_type": "execute_result"
    }
   ],
   "source": [
    "bet_expected.argmax()"
   ]
  },
  {
   "cell_type": "code",
   "execution_count": 1187,
   "metadata": {},
   "outputs": [
    {
     "data": {
      "text/plain": [
       "0.15867071214509998"
      ]
     },
     "execution_count": 1187,
     "metadata": {},
     "output_type": "execute_result"
    }
   ],
   "source": [
    "bet_expected[bet_expected.argmax()]"
   ]
  },
  {
   "cell_type": "code",
   "execution_count": 1188,
   "metadata": {},
   "outputs": [
    {
     "data": {
      "text/plain": [
       "'35'"
      ]
     },
     "execution_count": 1188,
     "metadata": {},
     "output_type": "execute_result"
    }
   ],
   "source": [
    "bet_dic[bet_expected.argmax()]"
   ]
  },
  {
   "cell_type": "code",
   "execution_count": 1189,
   "metadata": {},
   "outputs": [
    {
     "data": {
      "text/plain": [
       "0.4864359280195889"
      ]
     },
     "execution_count": 1189,
     "metadata": {},
     "output_type": "execute_result"
    }
   ],
   "source": [
    "bet_prob[bet_prob.argmax()]"
   ]
  },
  {
   "cell_type": "code",
   "execution_count": 1190,
   "metadata": {},
   "outputs": [
    {
     "data": {
      "text/plain": [
       "'black'"
      ]
     },
     "execution_count": 1190,
     "metadata": {},
     "output_type": "execute_result"
    }
   ],
   "source": [
    "bet_dic[bet_prob.argmax()]"
   ]
  },
  {
   "cell_type": "code",
   "execution_count": 1191,
   "metadata": {},
   "outputs": [
    {
     "data": {
      "text/plain": [
       "array([ 16, 156, 155, 183, 166, 167, 184, 169,  93, 168])"
      ]
     },
     "execution_count": 1191,
     "metadata": {},
     "output_type": "execute_result"
    }
   ],
   "source": [
    "bet_expected.argsort()[-10:][::-1]"
   ]
  },
  {
   "cell_type": "code",
   "execution_count": 1196,
   "metadata": {},
   "outputs": [],
   "source": [
    "best_expected = bet_expected[bet_expected.argsort()[-10:][::-1]]\n",
    "#best_expected"
   ]
  },
  {
   "cell_type": "code",
   "execution_count": 1197,
   "metadata": {},
   "outputs": [],
   "source": [
    "best_prob = [bet_prob[x] for x in bet_expected.argsort()[-10:][::-1]]\n",
    "#best_prob"
   ]
  },
  {
   "cell_type": "code",
   "execution_count": 1198,
   "metadata": {},
   "outputs": [],
   "source": [
    "best_bet = [bet_dic[x] for x in bet_expected.argsort()[-10:][::-1]]\n",
    "#best_bet"
   ]
  },
  {
   "cell_type": "code",
   "execution_count": 1199,
   "metadata": {},
   "outputs": [
    {
     "data": {
      "text/plain": [
       "[('35', 0.15867071214509998, 0.03218529755958611),\n",
       " ('n:29', 0.11969856362442988, 0.13996232045305373),\n",
       " ('n:25', 0.11051053140603595, 0.1388138164257545),\n",
       " ('n:34', 0.09790134822988894, 0.13723766852873612),\n",
       " ('n:4', 0.09452065203958226, 0.13681508150494778),\n",
       " ('n:23', 0.09424319048266439, 0.13678039881033305),\n",
       " ('n:15', 0.09414765451113416, 0.13676845681389177),\n",
       " ('n:14', 0.09112917277261534, 0.13639114659657692),\n",
       " ('sp:34-35', 0.09073223541590536, 0.06059623530088363),\n",
       " ('n:35', 0.08808681678684627, 0.13601085209835578)]"
      ]
     },
     "execution_count": 1199,
     "metadata": {},
     "output_type": "execute_result"
    }
   ],
   "source": [
    "[x for x in zip(best_bet, best_expected, best_prob)]"
   ]
  },
  {
   "cell_type": "code",
   "execution_count": null,
   "metadata": {},
   "outputs": [],
   "source": []
  },
  {
   "cell_type": "code",
   "execution_count": null,
   "metadata": {},
   "outputs": [],
   "source": []
  },
  {
   "cell_type": "code",
   "execution_count": null,
   "metadata": {},
   "outputs": [],
   "source": []
  },
  {
   "cell_type": "code",
   "execution_count": null,
   "metadata": {},
   "outputs": [],
   "source": []
  },
  {
   "cell_type": "code",
   "execution_count": null,
   "metadata": {},
   "outputs": [],
   "source": []
  }
 ],
 "metadata": {
  "kernelspec": {
   "display_name": "Python 3",
   "language": "python",
   "name": "python3"
  },
  "language_info": {
   "codemirror_mode": {
    "name": "ipython",
    "version": 3
   },
   "file_extension": ".py",
   "mimetype": "text/x-python",
   "name": "python",
   "nbconvert_exporter": "python",
   "pygments_lexer": "ipython3",
   "version": "3.7.1"
  }
 },
 "nbformat": 4,
 "nbformat_minor": 2
}
