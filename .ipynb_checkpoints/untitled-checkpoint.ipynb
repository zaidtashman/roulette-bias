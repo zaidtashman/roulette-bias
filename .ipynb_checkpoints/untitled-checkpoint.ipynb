{
 "cells": [
  {
   "cell_type": "code",
   "execution_count": 15,
   "metadata": {},
   "outputs": [],
   "source": [
    "import random as rnd\n",
    "import matplotlib.pyplot as plt\n",
    "import numpy as np\n",
    "import pandas as pd\n",
    "from IPython.core.pylabtools import figsize\n",
    "import pystan as ps\n",
    "import pymc3 as pm\n",
    "#import theano.tensor as tt\n",
    "%matplotlib inline"
   ]
  },
  {
   "cell_type": "code",
   "execution_count": 185,
   "metadata": {},
   "outputs": [],
   "source": [
    "wheel = ['00','27','10','25','29','12','8','19','31','18','6','21','33',\n",
    "         '16','4','23','35','14','2','0','28','9','26','30','11','7','20',\n",
    "         '32','17','5','22','34','15','3','24','36','13','1']\n",
    "redblack = ['green', \n",
    "            'red', 'black', 'red', 'black', 'red', 'black', 'red', 'black', 'red', \n",
    "            'black', 'red', 'black','red', 'black', 'red', 'black', 'red', 'black', \n",
    "            'green', \n",
    "            'black', 'red', 'black', 'red', 'black', 'red', 'black', 'red', 'black', \n",
    "            'red', 'black', 'red', 'black', 'red', 'black', 'red', 'black', 'red']\n",
    "evenodd = ['none', \n",
    "           'odd', 'even', 'odd', 'odd', 'even', 'even', 'odd', 'odd', 'even', \n",
    "           'even', 'odd', 'odd', 'even', 'even', 'odd', 'odd', 'even', 'even', \n",
    "           'none', \n",
    "           'even', 'odd', 'even', 'even', 'odd', 'odd', 'even', 'even', 'odd', \n",
    "           'odd', 'even', 'even', 'odd', 'odd', 'even', 'even', 'odd', 'odd']\n",
    "lowhigh = ['none',\n",
    "          'high','low','high','high','low','low','high','high','low',\n",
    "           'low','high','high','low','low','high','high','low','low',\n",
    "          'none',\n",
    "          'high','low','high','high','low','low','high','high','low',\n",
    "           'low','high','high','low','low','high','high','low','low']\n",
    "dozens = ['none',\n",
    "         3,1,3,3,1,1,2,3,2,1,2,3,2,1,2,3,2,1,\n",
    "         'none',\n",
    "         3,1,3,3,1,1,2,3,2,1,2,3,2,1,2,3,2,1]\n",
    "columns = ['none',\n",
    "          3,1,1,2,3,2,1,1,3,3,3,3,1,1,2,2,2,2,\n",
    "          'none',\n",
    "          1,3,2,3,2,1,2,2,2,2,1,1,3,3,3,3,1,1]\n",
    "sixline = ['none',\n",
    "          ('8','9'),('3','4'),('8','9'),('9','10'),('3','4'),('2','3'),('6','7'),('10','11'),('5','6'),\n",
    "          ('1','2'),('6','7'),('10','11'),('5','6'),('1','2'),('7','8'),['11'],('4','5'),['1'],\n",
    "          'none',\n",
    "          ('9','10'),('2','3'),('8','9'),('9','10'),('3','4'),('2','3'),('6','7'),('10','11'),('5','6'),\n",
    "          ('1','2'),('7','8'),['11'],('4','5'),['1'],('7','8'),['11'],('4','5'),['1']]\n",
    "square = ['none',\n",
    "         ('16','18'),('5','7'),('15','17'),('17','18','19','20'),('6','8'),('3','4','5','6'),('11','13'),('19','21'),('10','12'),\n",
    "         ('2','4'),('12','14'),('20','22'),('9','11'),('1','3'),('13','14','15','16'),('21','22'),('7','8','9','10'),('1','2'),\n",
    "         'none',\n",
    "         ('17','19'),('4','6'),('15','16','17','18'),('18','20'),('5','6','7','8'),('3','5'),('11','12','13','14'),('19','20','21','22'),('9','10','11','12'),\n",
    "         ('1','2','3','4'),('13','15'),['21'],('8','10'),['2'],('14','16'),['22'],('7','9'),['1']]\n",
    "street = ['none',\n",
    "         '9','4','9','10','4','3','7','11','6','2','7','11','6','2','8','12','5','1',\n",
    "         'none',\n",
    "         '10','3','9','10','4','3','7','11','6','2','8','12','5','1','8','12','5','1']\n",
    "split = ['none',\n",
    "        ('40','42','45'),('13','16','18'),('38','41','43'),('44','46','47','49'),('15','17','20'),('9','11','12','14'),('28','31','33'),('48','51','53'),('25','27','30'),\n",
    "        ('5','7','10'),('30','32','35'),('50','52','55'),('23','26','28'),('3','6','8'),('34','36','37','39'),('54','56','57'),('19','21','22','24'),('1','2','4'),\n",
    "        'none',\n",
    "        ('43','46','48'),('10','12','15'),('39','41','42','44'),('45','47','50'),('14','16','17','19'),('8','11','13'),('29','31','32','34'),('49','51','52','54'),('24','26','27','29'),\n",
    "        ('4','6','7','9'),('33','36','38'),('53','56'),('20','22','25'),('2','5'),('35','37','40'),('55','57'),('18','21','23'),('1','3')]\n",
    "\n",
    "neighbor = []\n",
    "wheel2 = ['13','1','00','27','10','25','29','12','8','19','31','18','6','21','33',\n",
    "         '16','4','23','35','14','2','0','28','9','26','30','11','7','20',\n",
    "         '32','17','5','22','34','15','3','24','36','13','1','00','27']\n",
    "for i in range(len(wheel)):\n",
    "    n = wheel[i]\n",
    "    bet = wheel2[((i+2)-2):((i+2)+3)]\n",
    "    neighbor.append(bet)"
   ]
  },
  {
   "cell_type": "code",
   "execution_count": 213,
   "metadata": {},
   "outputs": [
    {
     "data": {
      "text/plain": [
       "array([35., 35., 35., 35., 35., 35., 35., 35., 35., 35., 35., 35., 35.,\n",
       "       35., 35., 35., 35., 35., 35., 35., 35., 35., 35., 35., 35., 35.,\n",
       "       35., 35., 35., 35., 35., 35., 35., 35., 35., 35., 35., 35.])"
      ]
     },
     "execution_count": 213,
     "metadata": {},
     "output_type": "execute_result"
    }
   ],
   "source": [
    "single_pay"
   ]
  },
  {
   "cell_type": "code",
   "execution_count": 121,
   "metadata": {},
   "outputs": [],
   "source": [
    "spins = np.array([])\n",
    "for i in range(1000):\n",
    "    spins = np.append(spins, np.array([rnd.choice(wheel)]))"
   ]
  },
  {
   "cell_type": "code",
   "execution_count": 122,
   "metadata": {},
   "outputs": [
    {
     "name": "stdout",
     "output_type": "stream",
     "text": [
      "1000\n"
     ]
    }
   ],
   "source": [
    "print(len(spins))\n",
    "#print(spins)"
   ]
  },
  {
   "cell_type": "code",
   "execution_count": 123,
   "metadata": {},
   "outputs": [
    {
     "name": "stderr",
     "output_type": "stream",
     "text": [
      "/anaconda3/lib/python3.7/site-packages/matplotlib/axes/_axes.py:6521: MatplotlibDeprecationWarning: \n",
      "The 'normed' kwarg was deprecated in Matplotlib 2.1 and will be removed in 3.1. Use 'density' instead.\n",
      "  alternative=\"'density'\", removal=\"3.1\")\n"
     ]
    },
    {
     "data": {
      "image/png": "[encoded data removed]",
      "text/plain": [
       "<Figure size 900x360 with 1 Axes>"
      ]
     },
     "metadata": {
      "needs_background": "light"
     },
     "output_type": "display_data"
    }
   ],
   "source": [
    "figsize(12.5, 5)\n",
    "plt.hist(spins, normed=True, bins=38)\n",
    "plt.ylabel('Probability');"
   ]
  },
  {
   "cell_type": "code",
   "execution_count": 124,
   "metadata": {},
   "outputs": [],
   "source": [
    "spins_count = {x : 0 for x in wheel}"
   ]
  },
  {
   "cell_type": "code",
   "execution_count": 125,
   "metadata": {},
   "outputs": [],
   "source": [
    "for i in spins:\n",
    "    spins_count[i] += 1"
   ]
  },
  {
   "cell_type": "code",
   "execution_count": 126,
   "metadata": {},
   "outputs": [],
   "source": [
    "counts = np.array(list(spins_count.values()))"
   ]
  },
  {
   "cell_type": "code",
   "execution_count": 127,
   "metadata": {},
   "outputs": [],
   "source": [
    "model = \"\"\"\n",
    "data {\n",
    "  int<lower=1> m;\n",
    "  int counts[m];\n",
    "  vector<lower=0>[m] priors;\n",
    "}\n",
    "\n",
    "parameters {\n",
    "  simplex[m] p;\n",
    "}\n",
    "\n",
    "model {\n",
    "  p ~ dirichlet(priors);\n",
    "  counts ~ multinomial(p);\n",
    "}\n",
    "\"\"\""
   ]
  },
  {
   "cell_type": "code",
   "execution_count": 128,
   "metadata": {},
   "outputs": [
    {
     "name": "stderr",
     "output_type": "stream",
     "text": [
      "INFO:pystan:COMPILING THE C++ CODE FOR MODEL anon_model_64c300d688746d4e6c6f00d3cc2d73d6 NOW.\n"
     ]
    }
   ],
   "source": [
    "stanmodel = ps.StanModel(model_code=model)"
   ]
  },
  {
   "cell_type": "code",
   "execution_count": 129,
   "metadata": {},
   "outputs": [],
   "source": [
    "data = {'m':38, 'counts':counts, 'priors':np.ones(38)}"
   ]
  },
  {
   "cell_type": "code",
   "execution_count": 130,
   "metadata": {},
   "outputs": [],
   "source": [
    "fit = stanmodel.sampling(data=data)"
   ]
  },
  {
   "cell_type": "code",
   "execution_count": 131,
   "metadata": {},
   "outputs": [],
   "source": [
    "#fit.plot()\n",
    "fit_par = fit.extract(permuted=True)"
   ]
  },
  {
   "cell_type": "code",
   "execution_count": 132,
   "metadata": {},
   "outputs": [
    {
     "data": {
      "text/plain": [
       "(4000, 38)"
      ]
     },
     "execution_count": 132,
     "metadata": {},
     "output_type": "execute_result"
    }
   ],
   "source": [
    "fit_par['p'].shape"
   ]
  },
  {
   "cell_type": "code",
   "execution_count": 133,
   "metadata": {},
   "outputs": [],
   "source": [
    "fit_samples = fit_par['p']"
   ]
  },
  {
   "cell_type": "code",
   "execution_count": 134,
   "metadata": {},
   "outputs": [
    {
     "data": {
      "text/plain": [
       "array([0.0170085 , 0.01431187, 0.01388944, 0.02194686, 0.02924051,\n",
       "       0.03161933, 0.02656897, 0.02460506, 0.02223119, 0.01431727,\n",
       "       0.01195114, 0.04213077, 0.029666  , 0.0284425 , 0.02680293,\n",
       "       0.02251479, 0.02414467, 0.03806231, 0.03767767, 0.02061474,\n",
       "       0.02704915, 0.04779276, 0.03168844, 0.02618398, 0.03938668,\n",
       "       0.03634921, 0.03524459, 0.03548756, 0.01977369, 0.03375201,\n",
       "       0.02004414, 0.01700938, 0.01992194, 0.01680812, 0.0278716 ,\n",
       "       0.02126338, 0.02602461, 0.02060227])"
      ]
     },
     "execution_count": 134,
     "metadata": {},
     "output_type": "execute_result"
    }
   ],
   "source": [
    "fit_samples[3999]"
   ]
  },
  {
   "cell_type": "code",
   "execution_count": 137,
   "metadata": {},
   "outputs": [],
   "source": [
    "def getRedBlackProb(p):\n",
    "    redblack_dic = {'red':0, 'black':0, 'green':0}\n",
    "    zipped_array = zip(wheel,p,redblack)\n",
    "    for i in zipped_array:\n",
    "        if i[2] == 'green':\n",
    "            redblack_dic['green'] += i[1]\n",
    "        elif i[2] == 'red':\n",
    "            redblack_dic['red'] += i[1]\n",
    "        else:\n",
    "            redblack_dic['black'] += i[1]\n",
    "            \n",
    "    return redblack_dic"
   ]
  },
  {
   "cell_type": "code",
   "execution_count": 151,
   "metadata": {},
   "outputs": [
    {
     "data": {
      "text/plain": [
       "[0.4736842105263156, 0.4736842105263156, 0.05263157894736842]"
      ]
     },
     "execution_count": 151,
     "metadata": {},
     "output_type": "execute_result"
    }
   ],
   "source": [
    "list(getRedBlackProb(np.ones(38)/38).values())"
   ]
  },
  {
   "cell_type": "code",
   "execution_count": 139,
   "metadata": {},
   "outputs": [],
   "source": [
    "def getEvenOddProb(p):\n",
    "    evenodd_dic = {'even':0, 'odd':0, 'none':0}\n",
    "    zipped_array = zip(wheel,p,evenodd)\n",
    "    for i in zipped_array:\n",
    "        if i[2] == 'even':\n",
    "            evenodd_dic['even'] += i[1]\n",
    "        elif i[2] == 'odd':\n",
    "            evenodd_dic['odd'] += i[1]\n",
    "        else:\n",
    "            evenodd_dic['none'] += i[1]\n",
    "            \n",
    "    return evenodd_dic"
   ]
  },
  {
   "cell_type": "code",
   "execution_count": 150,
   "metadata": {},
   "outputs": [
    {
     "data": {
      "text/plain": [
       "[0.4736842105263156, 0.4736842105263156, 0.05263157894736842]"
      ]
     },
     "execution_count": 150,
     "metadata": {},
     "output_type": "execute_result"
    }
   ],
   "source": [
    "list(getEvenOddProb(np.ones(38)/38).values())"
   ]
  },
  {
   "cell_type": "code",
   "execution_count": 141,
   "metadata": {},
   "outputs": [],
   "source": [
    "def getLowHighProb(p):\n",
    "    lowhigh_dic = {'low':0, 'high':0, 'none':0}\n",
    "    zipped_array = zip(wheel,p,lowhigh)\n",
    "    for i in zipped_array:\n",
    "        if i[2] == 'low':\n",
    "            lowhigh_dic['low'] += i[1]\n",
    "        elif i[2] == 'high':\n",
    "            lowhigh_dic['high'] += i[1]\n",
    "        else:\n",
    "            lowhigh_dic['none'] += i[1]\n",
    "            \n",
    "    return lowhigh_dic"
   ]
  },
  {
   "cell_type": "code",
   "execution_count": 152,
   "metadata": {},
   "outputs": [
    {
     "data": {
      "text/plain": [
       "[0.4736842105263156, 0.4736842105263156, 0.05263157894736842]"
      ]
     },
     "execution_count": 152,
     "metadata": {},
     "output_type": "execute_result"
    }
   ],
   "source": [
    "list(getLowHighProb(np.ones(38)/38).values())"
   ]
  },
  {
   "cell_type": "code",
   "execution_count": 142,
   "metadata": {},
   "outputs": [],
   "source": [
    "def getDozensProb(p):\n",
    "    dozens_dic = {'1':0, '2':0, '3':0, 'none':0}\n",
    "    zipped_array = zip(wheel,p,dozens)\n",
    "    for i in zipped_array:\n",
    "        if i[2] == 1:\n",
    "            dozens_dic['1'] += i[1]\n",
    "        elif i[2] == 2:\n",
    "            dozens_dic['2'] += i[1]\n",
    "        elif i[2] == 3:\n",
    "            dozens_dic['3'] += i[1]\n",
    "        else:\n",
    "            dozens_dic['none'] += i[1]\n",
    "            \n",
    "    return dozens_dic"
   ]
  },
  {
   "cell_type": "code",
   "execution_count": 153,
   "metadata": {},
   "outputs": [
    {
     "data": {
      "text/plain": [
       "[0.3157894736842105,\n",
       " 0.3157894736842105,\n",
       " 0.3157894736842105,\n",
       " 0.05263157894736842]"
      ]
     },
     "execution_count": 153,
     "metadata": {},
     "output_type": "execute_result"
    }
   ],
   "source": [
    "list(getDozensProb(np.ones(38)/38).values())"
   ]
  },
  {
   "cell_type": "code",
   "execution_count": 144,
   "metadata": {},
   "outputs": [],
   "source": [
    "def getColumnsProb(p):\n",
    "    columns_dic = {'1':0, '2':0, '3':0, 'none':0}\n",
    "    zipped_array = zip(wheel,p,columns)\n",
    "    for i in zipped_array:\n",
    "        if i[2] == 1:\n",
    "            columns_dic['1'] += i[1]\n",
    "        elif i[2] == 2:\n",
    "            columns_dic['2'] += i[1]\n",
    "        elif i[2] == 3:\n",
    "            columns_dic['3'] += i[1]\n",
    "        else:\n",
    "            columns_dic['none'] += i[1]\n",
    "            \n",
    "    return columns_dic"
   ]
  },
  {
   "cell_type": "code",
   "execution_count": 154,
   "metadata": {},
   "outputs": [
    {
     "data": {
      "text/plain": [
       "[0.3157894736842105,\n",
       " 0.3157894736842105,\n",
       " 0.3157894736842105,\n",
       " 0.05263157894736842]"
      ]
     },
     "execution_count": 154,
     "metadata": {},
     "output_type": "execute_result"
    }
   ],
   "source": [
    "list(getColumnsProb(np.ones(38)/38).values())"
   ]
  },
  {
   "cell_type": "code",
   "execution_count": 167,
   "metadata": {},
   "outputs": [],
   "source": [
    "def getSixlineProb(p):\n",
    "    sixline_dic = {'1':0, '2':0, '3':0, '4':0, '5':0, '6':0, '7':0, '8':0, '9':0, '10':0, '11':0, 'none':0}\n",
    "    zipped_array = zip(wheel,p,sixline)\n",
    "    for i in zipped_array:\n",
    "        if i[2] == 'none':\n",
    "            sixline_dic['none'] += i[1]\n",
    "        else:\n",
    "            for j in range(len(i[2])):\n",
    "                sixline_dic[i[2][j]] += i[1]\n",
    "                \n",
    "    return sixline_dic"
   ]
  },
  {
   "cell_type": "code",
   "execution_count": 168,
   "metadata": {},
   "outputs": [
    {
     "data": {
      "text/plain": [
       "[0.15789473684210525,\n",
       " 0.15789473684210525,\n",
       " 0.15789473684210525,\n",
       " 0.15789473684210525,\n",
       " 0.15789473684210525,\n",
       " 0.15789473684210525,\n",
       " 0.15789473684210525,\n",
       " 0.15789473684210525,\n",
       " 0.15789473684210525,\n",
       " 0.15789473684210525,\n",
       " 0.15789473684210525,\n",
       " 0.05263157894736842]"
      ]
     },
     "execution_count": 168,
     "metadata": {},
     "output_type": "execute_result"
    }
   ],
   "source": [
    "list(getSixlineProb(np.ones(38)/38).values())"
   ]
  },
  {
   "cell_type": "code",
   "execution_count": 170,
   "metadata": {},
   "outputs": [],
   "source": [
    "def getSquareProb(p):\n",
    "    square_dic = {'1':0, '2':0, '3':0, '4':0, '5':0, '6':0, '7':0, '8':0, '9':0, '10':0, '11':0, \n",
    "                  '12':0, '13':0, '14':0, '15':0, '16':0, '17':0, '18':0, '19':0, '20':0, '21':0, '22':0, 'none':0}\n",
    "    zipped_array = zip(wheel,p,square)\n",
    "    for i in zipped_array:\n",
    "        if i[2] == 'none':\n",
    "            square_dic['none'] += i[1]\n",
    "        else:\n",
    "            for j in range(len(i[2])):\n",
    "                square_dic[i[2][j]] += i[1]\n",
    "                \n",
    "    return square_dic"
   ]
  },
  {
   "cell_type": "code",
   "execution_count": 171,
   "metadata": {},
   "outputs": [
    {
     "data": {
      "text/plain": [
       "[0.10526315789473684,\n",
       " 0.10526315789473684,\n",
       " 0.10526315789473684,\n",
       " 0.10526315789473684,\n",
       " 0.10526315789473684,\n",
       " 0.10526315789473684,\n",
       " 0.10526315789473684,\n",
       " 0.10526315789473684,\n",
       " 0.10526315789473684,\n",
       " 0.10526315789473684,\n",
       " 0.10526315789473684,\n",
       " 0.10526315789473684,\n",
       " 0.10526315789473684,\n",
       " 0.10526315789473684,\n",
       " 0.10526315789473684,\n",
       " 0.10526315789473684,\n",
       " 0.10526315789473684,\n",
       " 0.10526315789473684,\n",
       " 0.10526315789473684,\n",
       " 0.10526315789473684,\n",
       " 0.10526315789473684,\n",
       " 0.10526315789473684,\n",
       " 0.05263157894736842]"
      ]
     },
     "execution_count": 171,
     "metadata": {},
     "output_type": "execute_result"
    }
   ],
   "source": [
    "list(getSquareProb(np.ones(38)/38).values())"
   ]
  },
  {
   "cell_type": "code",
   "execution_count": 174,
   "metadata": {},
   "outputs": [],
   "source": [
    "def getStreetProb(p):\n",
    "    street_dic = {'1':0, '2':0, '3':0, '4':0, '5':0, '6':0, '7':0, '8':0, '9':0, '10':0, '11':0, '12':0, 'none':0}\n",
    "    zipped_array = zip(wheel,p,street)\n",
    "    for i in zipped_array:\n",
    "        if i[2] == 'none':\n",
    "            street_dic['none'] += i[1]\n",
    "        else:\n",
    "            street_dic[i[2]] += i[1]\n",
    "                \n",
    "    return street_dic"
   ]
  },
  {
   "cell_type": "code",
   "execution_count": 176,
   "metadata": {},
   "outputs": [
    {
     "data": {
      "text/plain": [
       "[0.07894736842105263,\n",
       " 0.07894736842105263,\n",
       " 0.07894736842105263,\n",
       " 0.07894736842105263,\n",
       " 0.07894736842105263,\n",
       " 0.07894736842105263,\n",
       " 0.07894736842105263,\n",
       " 0.07894736842105263,\n",
       " 0.07894736842105263,\n",
       " 0.07894736842105263,\n",
       " 0.07894736842105263,\n",
       " 0.07894736842105263,\n",
       " 0.05263157894736842]"
      ]
     },
     "execution_count": 176,
     "metadata": {},
     "output_type": "execute_result"
    }
   ],
   "source": [
    "list(getStreetProb(np.ones(38)/38).values())"
   ]
  },
  {
   "cell_type": "code",
   "execution_count": 178,
   "metadata": {},
   "outputs": [],
   "source": [
    "def getSplitProb(p):\n",
    "    split_dic = {'1':0, '2':0, '3':0, '4':0, '5':0, '6':0, '7':0, '8':0, '9':0, '10':0, '11':0, \n",
    "                 '12':0, '13':0, '14':0, '15':0, '16':0, '17':0, '18':0, '19':0, '20':0, '21':0, '22':0,\n",
    "                 '23':0, '24':0, '25':0, '26':0, '27':0, '28':0, '29':0, '30':0, '31':0, '32':0, '33':0,\n",
    "                 '34':0, '35':0, '36':0, '37':0, '38':0, '39':0, '40':0, '41':0, '42':0, '43':0, '44':0,\n",
    "                 '45':0, '46':0, '47':0, '48':0, '49':0, '50':0, '51':0, '52':0, '53':0, '54':0, '55':0,\n",
    "                 '56':0, '57':0, 'none':0}\n",
    "    zipped_array = zip(wheel,p,split)\n",
    "    for i in zipped_array:\n",
    "        if i[2] == 'none':\n",
    "            split_dic['none'] += i[1]\n",
    "        else:\n",
    "            for j in range(len(i[2])):\n",
    "                split_dic[i[2][j]] += i[1]\n",
    "                \n",
    "    return split_dic"
   ]
  },
  {
   "cell_type": "code",
   "execution_count": 179,
   "metadata": {},
   "outputs": [
    {
     "data": {
      "text/plain": [
       "[0.05263157894736842,\n",
       " 0.05263157894736842,\n",
       " 0.05263157894736842,\n",
       " 0.05263157894736842,\n",
       " 0.05263157894736842,\n",
       " 0.05263157894736842,\n",
       " 0.05263157894736842,\n",
       " 0.05263157894736842,\n",
       " 0.05263157894736842,\n",
       " 0.05263157894736842,\n",
       " 0.05263157894736842,\n",
       " 0.05263157894736842,\n",
       " 0.05263157894736842,\n",
       " 0.05263157894736842,\n",
       " 0.05263157894736842,\n",
       " 0.05263157894736842,\n",
       " 0.05263157894736842,\n",
       " 0.05263157894736842,\n",
       " 0.05263157894736842,\n",
       " 0.05263157894736842,\n",
       " 0.05263157894736842,\n",
       " 0.05263157894736842,\n",
       " 0.05263157894736842,\n",
       " 0.05263157894736842,\n",
       " 0.05263157894736842,\n",
       " 0.05263157894736842,\n",
       " 0.05263157894736842,\n",
       " 0.05263157894736842,\n",
       " 0.05263157894736842,\n",
       " 0.05263157894736842,\n",
       " 0.05263157894736842,\n",
       " 0.05263157894736842,\n",
       " 0.05263157894736842,\n",
       " 0.05263157894736842,\n",
       " 0.05263157894736842,\n",
       " 0.05263157894736842,\n",
       " 0.05263157894736842,\n",
       " 0.05263157894736842,\n",
       " 0.05263157894736842,\n",
       " 0.05263157894736842,\n",
       " 0.05263157894736842,\n",
       " 0.05263157894736842,\n",
       " 0.05263157894736842,\n",
       " 0.05263157894736842,\n",
       " 0.05263157894736842,\n",
       " 0.05263157894736842,\n",
       " 0.05263157894736842,\n",
       " 0.05263157894736842,\n",
       " 0.05263157894736842,\n",
       " 0.05263157894736842,\n",
       " 0.05263157894736842,\n",
       " 0.05263157894736842,\n",
       " 0.05263157894736842,\n",
       " 0.05263157894736842,\n",
       " 0.05263157894736842,\n",
       " 0.05263157894736842,\n",
       " 0.05263157894736842,\n",
       " 0.05263157894736842]"
      ]
     },
     "execution_count": 179,
     "metadata": {},
     "output_type": "execute_result"
    }
   ],
   "source": [
    "list(getSplitProb(np.ones(38)/38).values())"
   ]
  },
  {
   "cell_type": "code",
   "execution_count": 187,
   "metadata": {},
   "outputs": [],
   "source": [
    "def getNeighborProb(p):\n",
    "    neighbor_dic = {'1':0, '2':0, '3':0, '4':0, '5':0, '6':0, '7':0, '8':0, '9':0, '10':0, '11':0, \n",
    "                  '12':0, '13':0, '14':0, '15':0, '16':0, '17':0, '18':0, '19':0, '20':0, '21':0, '22':0,\n",
    "                 '23':0, '24':0, '25':0, '26':0, '27':0, '28':0, '29':0, '30':0, '31':0, '32':0, '33':0,\n",
    "                 '34':0, '35':0, '36':0, '0':0, '00':0}\n",
    "    zipped_array = zip(wheel,p,neighbor)\n",
    "    for i in zipped_array:\n",
    "        for j in range(len(i[2])):\n",
    "                neighbor_dic[i[2][j]] += i[1]\n",
    "                \n",
    "    return neighbor_dic"
   ]
  },
  {
   "cell_type": "code",
   "execution_count": 189,
   "metadata": {},
   "outputs": [
    {
     "data": {
      "text/plain": [
       "[0.13157894736842105,\n",
       " 0.13157894736842105,\n",
       " 0.13157894736842105,\n",
       " 0.13157894736842105,\n",
       " 0.13157894736842105,\n",
       " 0.13157894736842105,\n",
       " 0.13157894736842105,\n",
       " 0.13157894736842105,\n",
       " 0.13157894736842105,\n",
       " 0.13157894736842105,\n",
       " 0.13157894736842105,\n",
       " 0.13157894736842105,\n",
       " 0.13157894736842105,\n",
       " 0.13157894736842105,\n",
       " 0.13157894736842105,\n",
       " 0.13157894736842105,\n",
       " 0.13157894736842105,\n",
       " 0.13157894736842105,\n",
       " 0.13157894736842105,\n",
       " 0.13157894736842105,\n",
       " 0.13157894736842105,\n",
       " 0.13157894736842105,\n",
       " 0.13157894736842105,\n",
       " 0.13157894736842105,\n",
       " 0.13157894736842105,\n",
       " 0.13157894736842105,\n",
       " 0.13157894736842105,\n",
       " 0.13157894736842105,\n",
       " 0.13157894736842105,\n",
       " 0.13157894736842105,\n",
       " 0.13157894736842105,\n",
       " 0.13157894736842105,\n",
       " 0.13157894736842105,\n",
       " 0.13157894736842105,\n",
       " 0.13157894736842105,\n",
       " 0.13157894736842105,\n",
       " 0.13157894736842105,\n",
       " 0.13157894736842105]"
      ]
     },
     "execution_count": 189,
     "metadata": {},
     "output_type": "execute_result"
    }
   ],
   "source": [
    "list(getNeighborProb(np.ones(38)/38).values())"
   ]
  },
  {
   "cell_type": "code",
   "execution_count": 195,
   "metadata": {},
   "outputs": [
    {
     "data": {
      "text/plain": [
       "array([0.02507981, 0.02895505, 0.01733598, 0.02690636, 0.02412209,\n",
       "       0.02787599, 0.02507868, 0.02508227, 0.02313282, 0.02022071,\n",
       "       0.02015381, 0.03273698, 0.02886713, 0.02898839, 0.0241644 ,\n",
       "       0.03083061, 0.02305965, 0.02887342, 0.03282698, 0.02211646,\n",
       "       0.03170236, 0.03756751, 0.03173066, 0.02314211, 0.03076447,\n",
       "       0.02996736, 0.02708122, 0.02406766, 0.01831684, 0.03458261,\n",
       "       0.02313197, 0.02416216, 0.02690951, 0.02021578, 0.0298703 ,\n",
       "       0.02511129, 0.02124175, 0.02402685])"
      ]
     },
     "execution_count": 195,
     "metadata": {},
     "output_type": "execute_result"
    }
   ],
   "source": [
    "single_prob = np.mean(fit_samples, axis=0)\n",
    "single_prob"
   ]
  },
  {
   "cell_type": "code",
   "execution_count": 202,
   "metadata": {},
   "outputs": [
    {
     "data": {
      "text/plain": [
       "array([0.05685383, 0.05304276, 0.04819124, 0.06740959, 0.04036959,\n",
       "       0.05874701, 0.05473642, 0.05413176, 0.05966129, 0.05772132,\n",
       "       0.05504604, 0.06264619, 0.04730334, 0.05584315, 0.06544349,\n",
       "       0.04810045, 0.05864046, 0.03857773, 0.05963789, 0.05478549,\n",
       "       0.05011517, 0.05578293, 0.05023014, 0.04719026, 0.04713022,\n",
       "       0.04730523, 0.03853755, 0.05407066, 0.04539806, 0.05295769,\n",
       "       0.05216349, 0.05981819, 0.04821425, 0.05791183, 0.06260728,\n",
       "       0.05396259, 0.06070091, 0.05003833, 0.06256127, 0.05882535,\n",
       "       0.05863702, 0.06068571, 0.05860872, 0.05585275, 0.05209716,\n",
       "       0.05582445, 0.04726421, 0.05483518, 0.04818975, 0.05200925,\n",
       "       0.04720047, 0.05293479, 0.04729498, 0.04712731, 0.05397843,\n",
       "       0.04722181, 0.04817095, 0.04719628])"
      ]
     },
     "execution_count": 202,
     "metadata": {},
     "output_type": "execute_result"
    }
   ],
   "source": [
    "split_prob = np.mean([list(getSplitProb(x).values()) for x in fit_samples], axis=0)\n",
    "split_prob"
   ]
  },
  {
   "cell_type": "code",
   "execution_count": 203,
   "metadata": {},
   "outputs": [
    {
     "data": {
      "text/plain": [
       "array([0.0770696 , 0.07890082, 0.09261355, 0.07597643, 0.07702468,\n",
       "       0.06752594, 0.08490047, 0.08383289, 0.08759206, 0.07896657,\n",
       "       0.07606761, 0.07233311, 0.04719628])"
      ]
     },
     "execution_count": 203,
     "metadata": {},
     "output_type": "execute_result"
    }
   ],
   "source": [
    "street_prob = np.mean([list(getStreetProb(x).values()) for x in fit_samples], axis=0)\n",
    "street_prob"
   ]
  },
  {
   "cell_type": "code",
   "execution_count": 204,
   "metadata": {},
   "outputs": [
    {
     "data": {
      "text/plain": [
       "array([0.11560084, 0.10777918, 0.11379305, 0.11738261, 0.10314649,\n",
       "       0.12128664, 0.09821562, 0.11442339, 0.0974204 , 0.09432048,\n",
       "       0.09946872, 0.09835575, 0.10612608, 0.12051911, 0.1125996 ,\n",
       "       0.12138662, 0.11446147, 0.10794991, 0.10302493, 0.100199  ,\n",
       "       0.09442229, 0.10110574, 0.04719628])"
      ]
     },
     "execution_count": 204,
     "metadata": {},
     "output_type": "execute_result"
    }
   ],
   "source": [
    "square_prob = np.mean([list(getSquareProb(x).values()) for x in fit_samples], axis=0)\n",
    "square_prob"
   ]
  },
  {
   "cell_type": "code",
   "execution_count": 205,
   "metadata": {},
   "outputs": [
    {
     "data": {
      "text/plain": [
       "array([0.15597042, 0.17151437, 0.16858998, 0.15300111, 0.14455062,\n",
       "       0.15242641, 0.16873336, 0.17142495, 0.16655863, 0.15503418,\n",
       "       0.14840072, 0.04719628])"
      ]
     },
     "execution_count": 205,
     "metadata": {},
     "output_type": "execute_result"
    }
   ],
   "source": [
    "sixline_prob = np.mean([list(getSixlineProb(x).values()) for x in fit_samples], axis=0)\n",
    "sixline_prob"
   ]
  },
  {
   "cell_type": "code",
   "execution_count": 206,
   "metadata": {},
   "outputs": [
    {
     "data": {
      "text/plain": [
       "array([0.29984266, 0.3313349 , 0.32162616, 0.04719628])"
      ]
     },
     "execution_count": 206,
     "metadata": {},
     "output_type": "execute_result"
    }
   ],
   "source": [
    "columns_prob = np.mean([list(getColumnsProb(x).values()) for x in fit_samples], axis=0)\n",
    "columns_prob"
   ]
  },
  {
   "cell_type": "code",
   "execution_count": 207,
   "metadata": {},
   "outputs": [
    {
     "data": {
      "text/plain": [
       "array([0.3245604 , 0.31328397, 0.31495935, 0.04719628])"
      ]
     },
     "execution_count": 207,
     "metadata": {},
     "output_type": "execute_result"
    }
   ],
   "source": [
    "dozens_prob = np.mean([list(getDozensProb(x).values()) for x in fit_samples], axis=0)\n",
    "dozens_prob"
   ]
  },
  {
   "cell_type": "code",
   "execution_count": 208,
   "metadata": {},
   "outputs": [
    {
     "data": {
      "text/plain": [
       "array([0.46911102, 0.4836927 , 0.04719628])"
      ]
     },
     "execution_count": 208,
     "metadata": {},
     "output_type": "execute_result"
    }
   ],
   "source": [
    "lowhigh_prob = np.mean([list(getLowHighProb(x).values()) for x in fit_samples], axis=0)\n",
    "lowhigh_prob "
   ]
  },
  {
   "cell_type": "code",
   "execution_count": 209,
   "metadata": {},
   "outputs": [
    {
     "data": {
      "text/plain": [
       "array([0.46551808, 0.48728564, 0.04719628])"
      ]
     },
     "execution_count": 209,
     "metadata": {},
     "output_type": "execute_result"
    }
   ],
   "source": [
    "evenodd_prob = np.mean([list(getEvenOddProb(x).values()) for x in fit_samples], axis=0)\n",
    "evenodd_prob "
   ]
  },
  {
   "cell_type": "code",
   "execution_count": 210,
   "metadata": {},
   "outputs": [
    {
     "data": {
      "text/plain": [
       "array([0.4933131 , 0.45949063, 0.04719628])"
      ]
     },
     "execution_count": 210,
     "metadata": {},
     "output_type": "execute_result"
    }
   ],
   "source": [
    "redblack_prob = np.mean([list(getRedBlackProb(x).values()) for x in fit_samples], axis=0)\n",
    "redblack_prob"
   ]
  },
  {
   "cell_type": "code",
   "execution_count": 211,
   "metadata": {},
   "outputs": [
    {
     "data": {
      "text/plain": [
       "array([0.12441475, 0.13857888, 0.12626904, 0.13591019, 0.12426124,\n",
       "       0.12511145, 0.13502282, 0.12529185, 0.1462591 , 0.12239929,\n",
       "       0.14268582, 0.12906539, 0.12533001, 0.13770713, 0.12428972,\n",
       "       0.14558751, 0.1271803 , 0.12132659, 0.12139046, 0.13019755,\n",
       "       0.13096702, 0.12710309, 0.13591647, 0.12334863, 0.12519546,\n",
       "       0.15490711, 0.12230404, 0.15594397, 0.12131909, 0.15317211,\n",
       "       0.11366829, 0.13401569, 0.13491071, 0.12900203, 0.13975507,\n",
       "       0.12046597, 0.15308673, 0.11663944])"
      ]
     },
     "execution_count": 211,
     "metadata": {},
     "output_type": "execute_result"
    }
   ],
   "source": [
    "neighbor_prob = np.mean([list(getNeighborProb(x).values()) for x in fit_samples], axis=0)\n",
    "neighbor_prob"
   ]
  },
  {
   "cell_type": "code",
   "execution_count": 214,
   "metadata": {},
   "outputs": [],
   "source": [
    "single_pay = np.ones(38)*35\n",
    "split_pay = np.ones(57)*17\n",
    "street_pay = np.ones(12)*11\n",
    "square_pay = np.ones(22)*8\n",
    "sixline_pay = np.ones(11)*5\n",
    "column_pay = np.ones(3)*2\n",
    "dozen_pay = np.ones(3)*2\n",
    "lowhigh_pay = np.ones(2)*1\n",
    "evenodd_pay = np.ones(2)*1\n",
    "redblack_pay = np.ones(2)*1\n",
    "neighbor_pay = np.ones(38)*7"
   ]
  },
  {
   "cell_type": "code",
   "execution_count": 236,
   "metadata": {},
   "outputs": [],
   "source": [
    "single_pay = np.ones(38)*1\n",
    "split_pay = np.ones(57)*2\n",
    "street_pay = np.ones(12)*3\n",
    "square_pay = np.ones(22)*4\n",
    "sixline_pay = np.ones(11)*6\n",
    "column_pay = np.ones(3)*12\n",
    "dozen_pay = np.ones(3)*12\n",
    "lowhigh_pay = np.ones(2)*18\n",
    "evenodd_pay = np.ones(2)*18\n",
    "redblack_pay = np.ones(2)*18\n",
    "neighbor_pay = np.ones(38)*5"
   ]
  },
  {
   "cell_type": "code",
   "execution_count": 229,
   "metadata": {},
   "outputs": [],
   "source": [
    "single_expected = single_prob * single_pay\n",
    "split_expected = split_prob[:-1] * split_pay\n",
    "street_expected = street_prob[:-1] * street_pay\n",
    "square_expected = square_prob[:-1] * square_pay\n",
    "sixline_expected = sixline_prob[:-1] * sixline_pay\n",
    "column_expected = columns_prob[:-1] * column_pay\n",
    "dozen_expected = dozens_prob[:-1] * dozen_pay\n",
    "lowhigh_expected = lowhigh_prob[:-1] * lowhigh_pay\n",
    "evenodd_expected = evenodd_prob[:-1] * evenodd_pay\n",
    "redblack_expected = redblack_prob[:-1] * redblack_pay\n",
    "neighbor_expected = neighbor_prob * neighbor_pay"
   ]
  },
  {
   "cell_type": "code",
   "execution_count": 241,
   "metadata": {},
   "outputs": [
    {
     "ename": "SyntaxError",
     "evalue": "invalid syntax (<ipython-input-241-d3cf4253f3e1>, line 2)",
     "output_type": "error",
     "traceback": [
      "\u001b[0;36m  File \u001b[0;32m\"<ipython-input-241-d3cf4253f3e1>\"\u001b[0;36m, line \u001b[0;32m2\u001b[0m\n\u001b[0;31m    i:x for i,x in enumerate(wheel),\u001b[0m\n\u001b[0m                                   ^\u001b[0m\n\u001b[0;31mSyntaxError\u001b[0m\u001b[0;31m:\u001b[0m invalid syntax\n"
     ]
    }
   ],
   "source": [
    "bet_dic = {\n",
    "    i:x for i,x in enumerate(wheel),\n",
    "    38: 'sp:1-2', 39: 'sp:2-3', 40: 'sp:1-4', 41: 'sp:2-5', 42: 'sp:3-6', \n",
    "    43: 'sp:4-5', 44: 'sp:5-6', 45: 'sp:4-7', 46: 'sp:5-8', 47: 'sp:6-9', \n",
    "    48: 'sp:7-8', 49: 'sp:8-9', 50: 'sp:7-10', 51: 'sp:8-11', 52: 'sp:9-12', \n",
    "    53: 'sp:10-11', 54: 'sp:11-12', 55: 'sp:10-13', 56: 'sp:11-14', 57: 'sp:12-15', \n",
    "    58: 'sp:13-14', 59: 'sp:14-15', 60: 'sp:13-16', 61: 'sp:14-17', 62: 'sp:15-18', \n",
    "    63: 'sp:16-17', 64: 'sp:17-18', 65: 'sp:16-19', 66: 'sp:17-20', 67: 'sp:18-21', \n",
    "    68: 'sp:19-20', 69: 'sp:20-21', 70: 'sp:19-22', 71: 'sp:20-23', 72: 'sp:21-24', \n",
    "    73: 'sp:22-23', 74: 'sp:23-24', 75: 'sp:22-25', 76: 'sp:23-26', 77: 'sp:24-27', \n",
    "    78: 'sp:25-26', 79: 'sp:26-27', 80: 'sp:25-28', 81: 'sp:26-29', 82: 'sp:27-30', \n",
    "    83: 'sp:31-32', 84: 'sp:32-33', 85: 'sp:31-34', 86: 'sp:32-35', 87: 'sp:33-36', \n",
    "    88: 'sp:34-35', 89: 'sp:35-36',\n",
    "    \n",
    "}"
   ]
  },
  {
   "cell_type": "code",
   "execution_count": 235,
   "metadata": {},
   "outputs": [
    {
     "data": {
      "text/plain": [
       "[array([0.87779351, 1.01342668, 0.60675914, 0.94172246, 0.84427323,\n",
       "        0.97565953, 0.87775378, 0.87787962, 0.80964859, 0.70772475,\n",
       "        0.70538337, 1.14579425, 1.01034972, 1.01459357, 0.8457539 ,\n",
       "        1.07907147, 0.80708787, 1.01056971, 1.1489444 , 0.77407618,\n",
       "        1.10958261, 1.31486271, 1.11057312, 0.80997399, 1.07675645,\n",
       "        1.04885768, 0.94784256, 0.84236801, 0.64108954, 1.21039133,\n",
       "        0.80961912, 0.84567555, 0.94183278, 0.70755214, 1.04546046,\n",
       "        0.87889531, 0.74346129, 0.84093961]),\n",
       " array([0.96651509, 0.90172689, 0.81925114, 1.14596307, 0.68628296,\n",
       "        0.99869911, 0.93051914, 0.92023991, 1.01424191, 0.98126238,\n",
       "        0.93578271, 1.06498515, 0.80415674, 0.94933354, 1.11253938,\n",
       "        0.81770758, 0.99688776, 0.65582135, 1.01384414, 0.93135341,\n",
       "        0.85195792, 0.94830978, 0.85391236, 0.80223449, 0.80121366,\n",
       "        0.80418894, 0.65513837, 0.91920126, 0.77176702, 0.90028065,\n",
       "        0.88677934, 1.01690931, 0.81964224, 0.9845011 , 1.06432371,\n",
       "        0.917364  , 1.03191551, 0.85065162, 1.06354166, 1.00003089,\n",
       "        0.99682928, 1.03165704, 0.99634818, 0.9494968 , 0.88565175,\n",
       "        0.9490157 , 0.80349151, 0.93219801, 0.81922575, 0.88415723,\n",
       "        0.80240806, 0.89989147, 0.80401458, 0.80116429, 0.9176333 ,\n",
       "        0.80277081, 0.81890612]),\n",
       " array([0.84776565, 0.86790899, 1.01874903, 0.83574076, 0.84727148,\n",
       "        0.74278533, 0.93390516, 0.92216176, 0.96351271, 0.86863223,\n",
       "        0.8367437 , 0.79566417]),\n",
       " array([0.92480668, 0.86223342, 0.91034439, 0.93906084, 0.8251719 ,\n",
       "        0.97029314, 0.78572494, 0.91538708, 0.77936323, 0.75456384,\n",
       "        0.79574978, 0.78684596, 0.84900863, 0.96415285, 0.90079684,\n",
       "        0.97109297, 0.91569175, 0.86359932, 0.82419942, 0.80159199,\n",
       "        0.75537829, 0.80884592]),\n",
       " array([0.77985211, 0.85757183, 0.8429499 , 0.76500556, 0.72275309,\n",
       "        0.76213204, 0.84366678, 0.85712476, 0.83279316, 0.77517088,\n",
       "        0.74200358]),\n",
       " array([0.59968532, 0.6626698 , 0.64325232]),\n",
       " array([0.6491208 , 0.62656795, 0.62991869]),\n",
       " array([0.46911102, 0.4836927 ]),\n",
       " array([0.46551808, 0.48728564]),\n",
       " array([0.4933131 , 0.45949063]),\n",
       " array([0.87090328, 0.97005215, 0.88388325, 0.95137131, 0.86982871,\n",
       "        0.87578013, 0.94515974, 0.87704295, 1.02381372, 0.85679501,\n",
       "        0.99880076, 0.90345773, 0.87731004, 0.96394993, 0.87002801,\n",
       "        1.01911258, 0.89026211, 0.84928611, 0.84973325, 0.91138285,\n",
       "        0.91676913, 0.88972166, 0.95141531, 0.86344039, 0.87636821,\n",
       "        1.08434978, 0.85612828, 1.0916078 , 0.84923363, 1.07220479,\n",
       "        0.79567802, 0.93810982, 0.94437496, 0.90301418, 0.97828547,\n",
       "        0.84326176, 1.07160712, 0.81647605])]"
      ]
     },
     "execution_count": 235,
     "metadata": {},
     "output_type": "execute_result"
    }
   ],
   "source": [
    "[single_expected,split_expected,street_expected,square_expected,sixline_expected,column_expected,dozen_expected,lowhigh_expected,evenodd_expected,redblack_expected,neighbor_expected]"
   ]
  },
  {
   "cell_type": "code",
   "execution_count": null,
   "metadata": {},
   "outputs": [],
   "source": []
  }
 ],
 "metadata": {
  "kernelspec": {
   "display_name": "Python 3",
   "language": "python",
   "name": "python3"
  },
  "language_info": {
   "codemirror_mode": {
    "name": "ipython",
    "version": 3
   },
   "file_extension": ".py",
   "mimetype": "text/x-python",
   "name": "python",
   "nbconvert_exporter": "python",
   "pygments_lexer": "ipython3",
   "version": "3.7.1"
  }
 },
 "nbformat": 4,
 "nbformat_minor": 2
}
