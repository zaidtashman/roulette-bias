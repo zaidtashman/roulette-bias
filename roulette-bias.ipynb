{
 "cells": [
  {
   "cell_type": "code",
   "execution_count": 1316,
   "metadata": {},
   "outputs": [],
   "source": [
    "import random as rnd\n",
    "import matplotlib.pyplot as plt\n",
    "import numpy as np\n",
    "import pandas as pd\n",
    "from IPython.core.pylabtools import figsize\n",
    "import pystan as ps\n",
    "import pickle\n",
    "from hashlib import md5\n",
    "import math\n",
    "from scipy.optimize import minimize\n",
    "# import pymc3 as pm\n",
    "# import theano.tensor as tt\n",
    "%matplotlib inline"
   ]
  },
  {
   "cell_type": "code",
   "execution_count": 444,
   "metadata": {},
   "outputs": [],
   "source": [
    "wheel = ['00','27','10','25','29','12','8','19','31','18','6','21','33',\n",
    "         '16','4','23','35','14','2','0','28','9','26','30','11','7','20',\n",
    "         '32','17','5','22','34','15','3','24','36','13','1']\n",
    "redblack = ['green', \n",
    "            'red', 'black', 'red', 'black', 'red', 'black', 'red', 'black', 'red', \n",
    "            'black', 'red', 'black','red', 'black', 'red', 'black', 'red', 'black', \n",
    "            'green', \n",
    "            'black', 'red', 'black', 'red', 'black', 'red', 'black', 'red', 'black', \n",
    "            'red', 'black', 'red', 'black', 'red', 'black', 'red', 'black', 'red']\n",
    "evenodd = ['none', \n",
    "           'odd', 'even', 'odd', 'odd', 'even', 'even', 'odd', 'odd', 'even', \n",
    "           'even', 'odd', 'odd', 'even', 'even', 'odd', 'odd', 'even', 'even', \n",
    "           'none', \n",
    "           'even', 'odd', 'even', 'even', 'odd', 'odd', 'even', 'even', 'odd', \n",
    "           'odd', 'even', 'even', 'odd', 'odd', 'even', 'even', 'odd', 'odd']\n",
    "lowhigh = ['none',\n",
    "          'high','low','high','high','low','low','high','high','low',\n",
    "           'low','high','high','low','low','high','high','low','low',\n",
    "          'none',\n",
    "          'high','low','high','high','low','low','high','high','low',\n",
    "           'low','high','high','low','low','high','high','low','low']\n",
    "dozens = ['none',\n",
    "         3,1,3,3,1,1,2,3,2,1,2,3,2,1,2,3,2,1,\n",
    "         'none',\n",
    "         3,1,3,3,1,1,2,3,2,1,2,3,2,1,2,3,2,1]\n",
    "columns = ['none',\n",
    "          3,1,1,2,3,2,1,1,3,3,3,3,1,1,2,2,2,2,\n",
    "          'none',\n",
    "          1,3,2,3,2,1,2,2,2,2,1,1,3,3,3,3,1,1]\n",
    "sixline = ['none',\n",
    "          ('8','9'),('3','4'),('8','9'),('9','10'),('3','4'),('2','3'),('6','7'),('10','11'),('5','6'),\n",
    "          ('1','2'),('6','7'),('10','11'),('5','6'),('1','2'),('7','8'),['11'],('4','5'),['1'],\n",
    "          'none',\n",
    "          ('9','10'),('2','3'),('8','9'),('9','10'),('3','4'),('2','3'),('6','7'),('10','11'),('5','6'),\n",
    "          ('1','2'),('7','8'),['11'],('4','5'),['1'],('7','8'),['11'],('4','5'),['1']]\n",
    "square = ['none',\n",
    "         ('16','18'),('5','7'),('15','17'),('17','18','19','20'),('6','8'),('3','4','5','6'),('11','13'),('19','21'),('10','12'),\n",
    "         ('2','4'),('12','14'),('20','22'),('9','11'),('1','3'),('13','14','15','16'),('21','22'),('7','8','9','10'),('1','2'),\n",
    "         'none',\n",
    "         ('17','19'),('4','6'),('15','16','17','18'),('18','20'),('5','6','7','8'),('3','5'),('11','12','13','14'),('19','20','21','22'),('9','10','11','12'),\n",
    "         ('1','2','3','4'),('13','15'),['21'],('8','10'),['2'],('14','16'),['22'],('7','9'),['1']]\n",
    "street = ['none',\n",
    "         '9','4','9','10','4','3','7','11','6','2','7','11','6','2','8','12','5','1',\n",
    "         'none',\n",
    "         '10','3','9','10','4','3','7','11','6','2','8','12','5','1','8','12','5','1']\n",
    "split = ['none',\n",
    "        ('40','42','45'),('13','16','18'),('38','41','43'),('44','46','47','49'),('15','17','20'),('9','11','12','14'),('28','31','33'),('48','51','53'),('25','27','30'),\n",
    "        ('5','7','10'),('30','32','35'),('50','52','55'),('23','26','28'),('3','6','8'),('34','36','37','39'),('54','56','57'),('19','21','22','24'),('1','2','4'),\n",
    "        'none',\n",
    "        ('43','46','48'),('10','12','15'),('39','41','42','44'),('45','47','50'),('14','16','17','19'),('8','11','13'),('29','31','32','34'),('49','51','52','54'),('24','26','27','29'),\n",
    "        ('4','6','7','9'),('33','36','38'),('53','56'),('20','22','25'),('2','5'),('35','37','40'),('55','57'),('18','21','23'),('1','3')]\n",
    "\n",
    "neighbor = []\n",
    "wheel2 = ['13','1','00','27','10','25','29','12','8','19','31','18','6','21','33',\n",
    "         '16','4','23','35','14','2','0','28','9','26','30','11','7','20',\n",
    "         '32','17','5','22','34','15','3','24','36','13','1','00','27']\n",
    "for i in range(len(wheel)):\n",
    "    n = wheel[i]\n",
    "    bet = wheel2[((i+2)-2):((i+2)+3)]\n",
    "    neighbor.append(bet)"
   ]
  },
  {
   "cell_type": "code",
   "execution_count": 739,
   "metadata": {},
   "outputs": [],
   "source": [
    "# neighbor"
   ]
  },
  {
   "cell_type": "code",
   "execution_count": 446,
   "metadata": {},
   "outputs": [],
   "source": [
    "alpha = np.ones(38)\n",
    "alpha[10] = alpha[10]-(alpha[10]/2.0)\n",
    "alpha[11] = alpha[11]+alpha[10]\n",
    "dir_prob = np.random.dirichlet(alpha, 1)\n",
    "dir_prob = dir_prob.tolist()[0]"
   ]
  },
  {
   "cell_type": "code",
   "execution_count": 1656,
   "metadata": {},
   "outputs": [
    {
     "data": {
      "text/plain": [
       "0.9999999999999996"
      ]
     },
     "execution_count": 1656,
     "metadata": {},
     "output_type": "execute_result"
    }
   ],
   "source": [
    "# unbiased test\n",
    "#dir_prob = np.ones(38)/38\n",
    "\n",
    "# single test\n",
    "# dir_prob = np.ones(38)/43\n",
    "# dir_prob[wheel.index('13')] += 1-sum(dir_prob)\n",
    "\n",
    "# neighbor test\n",
    "# dir_prob = np.ones(38)/43\n",
    "# dir_prob[wheel.index('13')] = 2/43\n",
    "# dir_prob[wheel.index('1')] = 2/43\n",
    "# dir_prob[wheel.index('00')] = 2/43\n",
    "# dir_prob[wheel.index('27')] = 2/43\n",
    "# dir_prob[wheel.index('10')] = 2/43\n",
    "\n",
    "# street test\n",
    "# dir_prob = np.ones(38)/44\n",
    "# dir_prob[wheel.index('16')] = 2/44\n",
    "# dir_prob[wheel.index('17')] = 2/44\n",
    "# dir_prob[wheel.index('18')] = 2/44\n",
    "# dir_prob[wheel.index('34')] = 2/44\n",
    "# dir_prob[wheel.index('35')] = 2/44\n",
    "# dir_prob[wheel.index('36')] = 2/44\n",
    "\n",
    "# sixline test\n",
    "dir_prob = np.ones(38)/44\n",
    "dir_prob[wheel.index('16')] = 2/44\n",
    "dir_prob[wheel.index('17')] = 2/44\n",
    "dir_prob[wheel.index('18')] = 2/44\n",
    "dir_prob[wheel.index('19')] = 2/44\n",
    "dir_prob[wheel.index('20')] = 2/44\n",
    "dir_prob[wheel.index('21')] = 2/44\n",
    "\n",
    "# square test\n",
    "# dir_prob = np.ones(38)/42\n",
    "# dir_prob[wheel.index('8')] = 2/42\n",
    "# dir_prob[wheel.index('9')] = 2/42\n",
    "# dir_prob[wheel.index('11')] = 2/42\n",
    "# dir_prob[wheel.index('12')] = 2/42\n",
    "\n",
    "# col color test\n",
    "# dir_prob = np.ones(38)/50\n",
    "# dir_prob[wheel.index('3')] = 2/50\n",
    "# dir_prob[wheel.index('6')] = 2/50\n",
    "# dir_prob[wheel.index('9')] = 2/50\n",
    "# dir_prob[wheel.index('12')] = 2/50\n",
    "# dir_prob[wheel.index('15')] = 2/50\n",
    "# dir_prob[wheel.index('18')] = 2/50\n",
    "# dir_prob[wheel.index('21')] = 2/50\n",
    "# dir_prob[wheel.index('24')] = 2/50\n",
    "# dir_prob[wheel.index('27')] = 2/50\n",
    "# dir_prob[wheel.index('30')] = 2/50\n",
    "# dir_prob[wheel.index('33')] = 2/50\n",
    "# dir_prob[wheel.index('36')] = 2/50\n",
    "\n",
    "sum(dir_prob)"
   ]
  },
  {
   "cell_type": "code",
   "execution_count": 1657,
   "metadata": {},
   "outputs": [],
   "source": [
    "spins = [wheel[x] for x in np.random.choice(38, size=5000, p=dir_prob)]"
   ]
  },
  {
   "cell_type": "code",
   "execution_count": 1658,
   "metadata": {},
   "outputs": [],
   "source": [
    "# spins = np.array([])\n",
    "# for i in range(1000):\n",
    "#     spins = np.append(spins, np.array([rnd.choice(wheel)]))"
   ]
  },
  {
   "cell_type": "code",
   "execution_count": 1659,
   "metadata": {},
   "outputs": [],
   "source": [
    "# spins"
   ]
  },
  {
   "cell_type": "code",
   "execution_count": 1660,
   "metadata": {},
   "outputs": [
    {
     "name": "stdout",
     "output_type": "stream",
     "text": [
      "5000\n"
     ]
    }
   ],
   "source": [
    "print(len(spins))\n",
    "#print(spins)"
   ]
  },
  {
   "cell_type": "code",
   "execution_count": 1661,
   "metadata": {},
   "outputs": [
    {
     "data": {
      "image/png": "[encoded data removed]",
      "text/plain": [
       "<Figure size 900x360 with 1 Axes>"
      ]
     },
     "metadata": {
      "needs_background": "light"
     },
     "output_type": "display_data"
    }
   ],
   "source": [
    "figsize(12.5, 5)\n",
    "plt.hist(spins, normed=True, bins=38)\n",
    "plt.ylabel('Probability');"
   ]
  },
  {
   "cell_type": "code",
   "execution_count": 1662,
   "metadata": {},
   "outputs": [],
   "source": [
    "spins_count = {x : 0 for x in wheel}"
   ]
  },
  {
   "cell_type": "code",
   "execution_count": 1663,
   "metadata": {},
   "outputs": [],
   "source": [
    "for i in spins:\n",
    "    spins_count[i] += 1"
   ]
  },
  {
   "cell_type": "code",
   "execution_count": 1664,
   "metadata": {},
   "outputs": [],
   "source": [
    "counts = np.array(list(spins_count.values()))"
   ]
  },
  {
   "cell_type": "code",
   "execution_count": 1665,
   "metadata": {},
   "outputs": [],
   "source": [
    "model = \"\"\"\n",
    "data {\n",
    "  int<lower=1> m;\n",
    "  int counts[m];\n",
    "  vector<lower=0>[m] priors;\n",
    "}\n",
    "\n",
    "parameters {\n",
    "  simplex[m] p;\n",
    "}\n",
    "\n",
    "model {\n",
    "  p ~ dirichlet(priors);\n",
    "  counts ~ multinomial(p);\n",
    "}\n",
    "\"\"\""
   ]
  },
  {
   "cell_type": "code",
   "execution_count": 1666,
   "metadata": {},
   "outputs": [],
   "source": [
    "def StanModel_cache(model_code, model_name=None, **kwargs):\n",
    "    \"\"\"Use just as you would `stan`\"\"\"\n",
    "    code_hash = md5(model_code.encode('ascii')).hexdigest()\n",
    "    if model_name is None:\n",
    "        cache_fn = 'cached-model-{}.pkl'.format(code_hash)\n",
    "    else:\n",
    "        cache_fn = 'cached-{}-{}.pkl'.format(model_name, code_hash)\n",
    "    try:\n",
    "        sm = pickle.load(open(cache_fn, 'rb'))\n",
    "    except:\n",
    "        sm = ps.StanModel(model_code=model_code)\n",
    "        with open(cache_fn, 'wb') as f:\n",
    "            pickle.dump(sm, f)\n",
    "    else:\n",
    "        print(\"Using cached StanModel\")\n",
    "    return sm"
   ]
  },
  {
   "cell_type": "code",
   "execution_count": 1667,
   "metadata": {},
   "outputs": [
    {
     "name": "stdout",
     "output_type": "stream",
     "text": [
      "Using cached StanModel\n"
     ]
    }
   ],
   "source": [
    "# stanmodel = ps.StanModel(model_code=model)\n",
    "stanmodel = StanModel_cache(model_code=model)"
   ]
  },
  {
   "cell_type": "code",
   "execution_count": 1668,
   "metadata": {},
   "outputs": [],
   "source": [
    "data = {'m':38, 'counts':counts, 'priors':np.ones(38)}"
   ]
  },
  {
   "cell_type": "code",
   "execution_count": 1669,
   "metadata": {},
   "outputs": [],
   "source": [
    "fit = stanmodel.sampling(data=data)"
   ]
  },
  {
   "cell_type": "code",
   "execution_count": 1670,
   "metadata": {},
   "outputs": [],
   "source": [
    "#fit.plot()\n",
    "fit_par = fit.extract(permuted=True)"
   ]
  },
  {
   "cell_type": "code",
   "execution_count": 1671,
   "metadata": {},
   "outputs": [
    {
     "data": {
      "text/plain": [
       "(4000, 38)"
      ]
     },
     "execution_count": 1671,
     "metadata": {},
     "output_type": "execute_result"
    }
   ],
   "source": [
    "fit_par['p'].shape"
   ]
  },
  {
   "cell_type": "code",
   "execution_count": 1672,
   "metadata": {},
   "outputs": [],
   "source": [
    "fit_samples = fit_par['p']"
   ]
  },
  {
   "cell_type": "code",
   "execution_count": 1673,
   "metadata": {},
   "outputs": [],
   "source": [
    "# fit_samples[3999]"
   ]
  },
  {
   "cell_type": "code",
   "execution_count": 1674,
   "metadata": {},
   "outputs": [],
   "source": [
    "def getRedBlackProb(p):\n",
    "    redblack_dic = {'red':0, 'black':0, 'green':0}\n",
    "    zipped_array = zip(wheel,p,redblack)\n",
    "    for i in zipped_array:\n",
    "        if i[2] == 'green':\n",
    "            redblack_dic['green'] += i[1]\n",
    "        elif i[2] == 'red':\n",
    "            redblack_dic['red'] += i[1]\n",
    "        else:\n",
    "            redblack_dic['black'] += i[1]\n",
    "            \n",
    "    return redblack_dic"
   ]
  },
  {
   "cell_type": "code",
   "execution_count": 1675,
   "metadata": {},
   "outputs": [],
   "source": [
    "# list(getRedBlackProb(np.ones(38)/38).values())"
   ]
  },
  {
   "cell_type": "code",
   "execution_count": 1676,
   "metadata": {},
   "outputs": [],
   "source": [
    "def getEvenOddProb(p):\n",
    "    evenodd_dic = {'even':0, 'odd':0, 'none':0}\n",
    "    zipped_array = zip(wheel,p,evenodd)\n",
    "    for i in zipped_array:\n",
    "        if i[2] == 'even':\n",
    "            evenodd_dic['even'] += i[1]\n",
    "        elif i[2] == 'odd':\n",
    "            evenodd_dic['odd'] += i[1]\n",
    "        else:\n",
    "            evenodd_dic['none'] += i[1]\n",
    "            \n",
    "    return evenodd_dic"
   ]
  },
  {
   "cell_type": "code",
   "execution_count": 1677,
   "metadata": {},
   "outputs": [],
   "source": [
    "# list(getEvenOddProb(np.ones(38)/38).values())"
   ]
  },
  {
   "cell_type": "code",
   "execution_count": 1678,
   "metadata": {},
   "outputs": [],
   "source": [
    "def getLowHighProb(p):\n",
    "    lowhigh_dic = {'low':0, 'high':0, 'none':0}\n",
    "    zipped_array = zip(wheel,p,lowhigh)\n",
    "    for i in zipped_array:\n",
    "        if i[2] == 'low':\n",
    "            lowhigh_dic['low'] += i[1]\n",
    "        elif i[2] == 'high':\n",
    "            lowhigh_dic['high'] += i[1]\n",
    "        else:\n",
    "            lowhigh_dic['none'] += i[1]\n",
    "            \n",
    "    return lowhigh_dic"
   ]
  },
  {
   "cell_type": "code",
   "execution_count": 1679,
   "metadata": {},
   "outputs": [],
   "source": [
    "# list(getLowHighProb(np.ones(38)/38).values())"
   ]
  },
  {
   "cell_type": "code",
   "execution_count": 1680,
   "metadata": {},
   "outputs": [],
   "source": [
    "def getDozensProb(p):\n",
    "    dozens_dic = {'1':0, '2':0, '3':0, 'none':0}\n",
    "    zipped_array = zip(wheel,p,dozens)\n",
    "    for i in zipped_array:\n",
    "        if i[2] == 1:\n",
    "            dozens_dic['1'] += i[1]\n",
    "        elif i[2] == 2:\n",
    "            dozens_dic['2'] += i[1]\n",
    "        elif i[2] == 3:\n",
    "            dozens_dic['3'] += i[1]\n",
    "        else:\n",
    "            dozens_dic['none'] += i[1]\n",
    "            \n",
    "    return dozens_dic"
   ]
  },
  {
   "cell_type": "code",
   "execution_count": 1681,
   "metadata": {},
   "outputs": [],
   "source": [
    "# list(getDozensProb(np.ones(38)/38).values())"
   ]
  },
  {
   "cell_type": "code",
   "execution_count": 1682,
   "metadata": {},
   "outputs": [],
   "source": [
    "def getColumnsProb(p):\n",
    "    columns_dic = {'1':0, '2':0, '3':0, 'none':0}\n",
    "    zipped_array = zip(wheel,p,columns)\n",
    "    for i in zipped_array:\n",
    "        if i[2] == 1:\n",
    "            columns_dic['1'] += i[1]\n",
    "        elif i[2] == 2:\n",
    "            columns_dic['2'] += i[1]\n",
    "        elif i[2] == 3:\n",
    "            columns_dic['3'] += i[1]\n",
    "        else:\n",
    "            columns_dic['none'] += i[1]\n",
    "            \n",
    "    return columns_dic"
   ]
  },
  {
   "cell_type": "code",
   "execution_count": 1683,
   "metadata": {},
   "outputs": [],
   "source": [
    "# list(getColumnsProb(np.ones(38)/38).values())"
   ]
  },
  {
   "cell_type": "code",
   "execution_count": 1684,
   "metadata": {},
   "outputs": [],
   "source": [
    "def getSixlineProb(p):\n",
    "    sixline_dic = {'1':0, '2':0, '3':0, '4':0, '5':0, '6':0, '7':0, '8':0, '9':0, '10':0, '11':0, 'none':0}\n",
    "    zipped_array = zip(wheel,p,sixline)\n",
    "    for i in zipped_array:\n",
    "        if i[2] == 'none':\n",
    "            sixline_dic['none'] += i[1]\n",
    "        else:\n",
    "            for j in range(len(i[2])):\n",
    "                sixline_dic[i[2][j]] += i[1]\n",
    "                \n",
    "    return sixline_dic"
   ]
  },
  {
   "cell_type": "code",
   "execution_count": 1685,
   "metadata": {},
   "outputs": [],
   "source": [
    "# list(getSixlineProb(np.ones(38)/38).values())"
   ]
  },
  {
   "cell_type": "code",
   "execution_count": 1686,
   "metadata": {},
   "outputs": [],
   "source": [
    "def getSquareProb(p):\n",
    "    square_dic = {'1':0, '2':0, '3':0, '4':0, '5':0, '6':0, '7':0, '8':0, '9':0, '10':0, '11':0, \n",
    "                  '12':0, '13':0, '14':0, '15':0, '16':0, '17':0, '18':0, '19':0, '20':0, '21':0, '22':0, 'none':0}\n",
    "    zipped_array = zip(wheel,p,square)\n",
    "    for i in zipped_array:\n",
    "        if i[2] == 'none':\n",
    "            square_dic['none'] += i[1]\n",
    "        else:\n",
    "            for j in range(len(i[2])):\n",
    "                square_dic[i[2][j]] += i[1]\n",
    "                \n",
    "    return square_dic"
   ]
  },
  {
   "cell_type": "code",
   "execution_count": 1687,
   "metadata": {},
   "outputs": [],
   "source": [
    "# list(getSquareProb(np.ones(38)/38).values())"
   ]
  },
  {
   "cell_type": "code",
   "execution_count": 1688,
   "metadata": {},
   "outputs": [],
   "source": [
    "def getStreetProb(p):\n",
    "    street_dic = {'1':0, '2':0, '3':0, '4':0, '5':0, '6':0, '7':0, '8':0, '9':0, '10':0, '11':0, '12':0, 'none':0}\n",
    "    zipped_array = zip(wheel,p,street)\n",
    "    for i in zipped_array:\n",
    "        if i[2] == 'none':\n",
    "            street_dic['none'] += i[1]\n",
    "        else:\n",
    "            street_dic[i[2]] += i[1]\n",
    "                \n",
    "    return street_dic"
   ]
  },
  {
   "cell_type": "code",
   "execution_count": 1689,
   "metadata": {},
   "outputs": [],
   "source": [
    "# list(getStreetProb(np.ones(38)/38).values())"
   ]
  },
  {
   "cell_type": "code",
   "execution_count": 1690,
   "metadata": {},
   "outputs": [],
   "source": [
    "def getSplitProb(p):\n",
    "    split_dic = {'1':0, '2':0, '3':0, '4':0, '5':0, '6':0, '7':0, '8':0, '9':0, '10':0, '11':0, \n",
    "                 '12':0, '13':0, '14':0, '15':0, '16':0, '17':0, '18':0, '19':0, '20':0, '21':0, '22':0,\n",
    "                 '23':0, '24':0, '25':0, '26':0, '27':0, '28':0, '29':0, '30':0, '31':0, '32':0, '33':0,\n",
    "                 '34':0, '35':0, '36':0, '37':0, '38':0, '39':0, '40':0, '41':0, '42':0, '43':0, '44':0,\n",
    "                 '45':0, '46':0, '47':0, '48':0, '49':0, '50':0, '51':0, '52':0, '53':0, '54':0, '55':0,\n",
    "                 '56':0, '57':0, 'none':0}\n",
    "    zipped_array = zip(wheel,p,split)\n",
    "    for i in zipped_array:\n",
    "        if i[2] == 'none':\n",
    "            split_dic['none'] += i[1]\n",
    "        else:\n",
    "            for j in range(len(i[2])):\n",
    "                split_dic[i[2][j]] += i[1]\n",
    "                \n",
    "    return split_dic"
   ]
  },
  {
   "cell_type": "code",
   "execution_count": 1691,
   "metadata": {},
   "outputs": [],
   "source": [
    "# list(getSplitProb(np.ones(38)/38).values())"
   ]
  },
  {
   "cell_type": "code",
   "execution_count": 1692,
   "metadata": {},
   "outputs": [],
   "source": [
    "def getNeighborProb(p):\n",
    "    neighbor_dic = {x:0 for x in wheel}\n",
    "    zipped_array = zip(wheel,p,neighbor)\n",
    "    for i in zipped_array:\n",
    "        for j in i[2]:\n",
    "            neighbor_dic[j] += i[1]\n",
    "                \n",
    "    return neighbor_dic"
   ]
  },
  {
   "cell_type": "code",
   "execution_count": 1693,
   "metadata": {},
   "outputs": [],
   "source": [
    "# list(getNeighborProb(np.ones(38)/38).values())\n",
    "# fit_samples[0]\n",
    "# getNeighborProb(fit_samples[0])"
   ]
  },
  {
   "cell_type": "code",
   "execution_count": 1694,
   "metadata": {},
   "outputs": [
    {
     "data": {
      "text/plain": [
       "array([0.02484369, 0.02502207, 0.02482835, 0.02181677, 0.02183764,\n",
       "       0.01923914, 0.02025093, 0.04169753, 0.0234088 , 0.04222268,\n",
       "       0.02304556, 0.04822377, 0.02640661, 0.04364601, 0.0246114 ,\n",
       "       0.02585068, 0.022632  , 0.02244806, 0.02362008, 0.02222845,\n",
       "       0.02404127, 0.02258104, 0.02167778, 0.01823287, 0.02344634,\n",
       "       0.01864661, 0.04687371, 0.02581388, 0.04146688, 0.02342176,\n",
       "       0.02264795, 0.02302273, 0.02203189, 0.02800052, 0.02399076,\n",
       "       0.02360894, 0.01843233, 0.02418252])"
      ]
     },
     "execution_count": 1694,
     "metadata": {},
     "output_type": "execute_result"
    }
   ],
   "source": [
    "single_prob = np.mean(fit_samples, axis=0)\n",
    "single_prob"
   ]
  },
  {
   "cell_type": "code",
   "execution_count": 1695,
   "metadata": {},
   "outputs": [
    {
     "data": {
      "text/plain": [
       "array([0.0478026 , 0.05162059, 0.04879393, 0.04704183, 0.05104608,\n",
       "       0.04803316, 0.04646732, 0.04325801, 0.04367268, 0.04562661,\n",
       "       0.03889753, 0.04283197, 0.04347496, 0.04369727, 0.04182018,\n",
       "       0.04827469, 0.04268548, 0.04326067, 0.0458944 , 0.04127103,\n",
       "       0.04088039, 0.04447995, 0.06207833, 0.06391495, 0.06425457,\n",
       "       0.08511289, 0.08368957, 0.08534354, 0.0883406 , 0.09044645,\n",
       "       0.08857124, 0.09509748, 0.06434548, 0.0727244 , 0.07221453,\n",
       "       0.04849864, 0.04984144, 0.04446473, 0.04752846, 0.04901283,\n",
       "       0.04349455, 0.04669984, 0.04585804, 0.04351542, 0.04325494,\n",
       "       0.04587891, 0.04007051, 0.04745007, 0.04765152, 0.04463948,\n",
       "       0.04922268, 0.05222049, 0.04643153, 0.04844588, 0.05001555,\n",
       "       0.04565473, 0.04624094, 0.04707214])"
      ]
     },
     "execution_count": 1695,
     "metadata": {},
     "output_type": "execute_result"
    }
   ],
   "source": [
    "split_prob = np.mean([list(getSplitProb(x).values()) for x in fit_samples], axis=0)\n",
    "split_prob"
   ]
  },
  {
   "cell_type": "code",
   "execution_count": 1696,
   "metadata": {},
   "outputs": [
    {
     "data": {
      "text/plain": [
       "array([0.07580312, 0.07107872, 0.06147857, 0.06751383, 0.06291228,\n",
       "       0.12733557, 0.13679501, 0.0724894 , 0.06851662, 0.06411178,\n",
       "       0.07562929, 0.06926367, 0.04707214])"
      ]
     },
     "execution_count": 1696,
     "metadata": {},
     "output_type": "execute_result"
    }
   ],
   "source": [
    "street_prob = np.mean([list(getStreetProb(x).values()) for x in fit_samples], axis=0)\n",
    "street_prob"
   ]
  },
  {
   "cell_type": "code",
   "execution_count": 1697,
   "metadata": {},
   "outputs": [
    {
     "data": {
      "text/plain": [
       "array([0.09583576, 0.09808791, 0.08693069, 0.08929929, 0.08717222,\n",
       "       0.08551745, 0.08915508, 0.08716543, 0.12599328, 0.12816952,\n",
       "       0.17368413, 0.17878705, 0.13706988, 0.14493893, 0.09199318,\n",
       "       0.09654129, 0.08937346, 0.08677035, 0.0951016 , 0.092291  ,\n",
       "       0.09487741, 0.09846143, 0.04707214])"
      ]
     },
     "execution_count": 1697,
     "metadata": {},
     "output_type": "execute_result"
    }
   ],
   "source": [
    "square_prob = np.mean([list(getSquareProb(x).values()) for x in fit_samples], axis=0)\n",
    "square_prob"
   ]
  },
  {
   "cell_type": "code",
   "execution_count": 1698,
   "metadata": {},
   "outputs": [
    {
     "data": {
      "text/plain": [
       "array([0.14688184, 0.1325573 , 0.1289924 , 0.13042611, 0.19024785,\n",
       "       0.26413059, 0.20928441, 0.14100601, 0.1326284 , 0.13974107,\n",
       "       0.14489296, 0.04707214])"
      ]
     },
     "execution_count": 1698,
     "metadata": {},
     "output_type": "execute_result"
    }
   ],
   "source": [
    "sixline_prob = np.mean([list(getSixlineProb(x).values()) for x in fit_samples], axis=0)\n",
    "sixline_prob"
   ]
  },
  {
   "cell_type": "code",
   "execution_count": 1699,
   "metadata": {},
   "outputs": [
    {
     "data": {
      "text/plain": [
       "array([0.31098228, 0.31933973, 0.32260586, 0.04707214])"
      ]
     },
     "execution_count": 1699,
     "metadata": {},
     "output_type": "execute_result"
    }
   ],
   "source": [
    "columns_prob = np.mean([list(getColumnsProb(x).values()) for x in fit_samples], axis=0)\n",
    "columns_prob"
   ]
  },
  {
   "cell_type": "code",
   "execution_count": 1700,
   "metadata": {},
   "outputs": [
    {
     "data": {
      "text/plain": [
       "array([0.27587424, 0.39953226, 0.27752136, 0.04707214])"
      ]
     },
     "execution_count": 1700,
     "metadata": {},
     "output_type": "execute_result"
    }
   ],
   "source": [
    "dozens_prob = np.mean([list(getDozensProb(x).values()) for x in fit_samples], axis=0)\n",
    "dozens_prob"
   ]
  },
  {
   "cell_type": "code",
   "execution_count": 1701,
   "metadata": {},
   "outputs": [
    {
     "data": {
      "text/plain": [
       "array([0.4661221 , 0.48680577, 0.04707214])"
      ]
     },
     "execution_count": 1701,
     "metadata": {},
     "output_type": "execute_result"
    }
   ],
   "source": [
    "lowhigh_prob = np.mean([list(getLowHighProb(x).values()) for x in fit_samples], axis=0)\n",
    "lowhigh_prob "
   ]
  },
  {
   "cell_type": "code",
   "execution_count": 1702,
   "metadata": {},
   "outputs": [
    {
     "data": {
      "text/plain": [
       "array([0.47382211, 0.47910576, 0.04707214])"
      ]
     },
     "execution_count": 1702,
     "metadata": {},
     "output_type": "execute_result"
    }
   ],
   "source": [
    "evenodd_prob = np.mean([list(getEvenOddProb(x).values()) for x in fit_samples], axis=0)\n",
    "evenodd_prob "
   ]
  },
  {
   "cell_type": "code",
   "execution_count": 1703,
   "metadata": {},
   "outputs": [
    {
     "data": {
      "text/plain": [
       "array([0.49767758, 0.45525028, 0.04707214])"
      ]
     },
     "execution_count": 1703,
     "metadata": {},
     "output_type": "execute_result"
    }
   ],
   "source": [
    "redblack_prob = np.mean([list(getRedBlackProb(x).values()) for x in fit_samples], axis=0)\n",
    "redblack_prob"
   ]
  },
  {
   "cell_type": "code",
   "execution_count": 1704,
   "metadata": {},
   "outputs": [
    {
     "data": {
      "text/plain": [
       "array([0.11730895, 0.1206934 , 0.11834852, 0.11274397, 0.10797283,\n",
       "       0.12484201, 0.12643404, 0.14681908, 0.15062551, 0.17859835,\n",
       "       0.16330743, 0.18354463, 0.16593336, 0.16873847, 0.1431467 ,\n",
       "       0.13918815, 0.11916222, 0.11677926, 0.11496985, 0.1149189 ,\n",
       "       0.11414861, 0.1087614 , 0.1099793 , 0.10458463, 0.1288773 ,\n",
       "       0.13301341, 0.15624742, 0.15622284, 0.16022418, 0.1363732 ,\n",
       "       0.13259121, 0.11912485, 0.11969386, 0.12065484, 0.11606444,\n",
       "       0.11821507, 0.11505824, 0.11608955])"
      ]
     },
     "execution_count": 1704,
     "metadata": {},
     "output_type": "execute_result"
    }
   ],
   "source": [
    "neighbor_prob = np.mean([list(getNeighborProb(x).values()) for x in fit_samples], axis=0)\n",
    "neighbor_prob"
   ]
  },
  {
   "cell_type": "code",
   "execution_count": 1705,
   "metadata": {},
   "outputs": [],
   "source": [
    "single_pay = np.ones(38)*35\n",
    "split_pay = np.ones(57)*17\n",
    "street_pay = np.ones(12)*11\n",
    "square_pay = np.ones(22)*8\n",
    "sixline_pay = np.ones(11)*5\n",
    "column_pay = np.ones(3)*2\n",
    "dozen_pay = np.ones(3)*2\n",
    "lowhigh_pay = np.ones(2)*1\n",
    "evenodd_pay = np.ones(2)*1\n",
    "redblack_pay = np.ones(2)*1\n",
    "neighbor_pay = np.ones(38)*(35/5)"
   ]
  },
  {
   "cell_type": "code",
   "execution_count": 1706,
   "metadata": {},
   "outputs": [],
   "source": [
    "single_cover = np.ones(38)*1\n",
    "split_cover = np.ones(57)*2\n",
    "street_cover = np.ones(12)*3\n",
    "square_cover = np.ones(22)*4\n",
    "sixline_cover = np.ones(11)*6\n",
    "column_cover = np.ones(3)*12\n",
    "dozen_cover = np.ones(3)*12\n",
    "lowhigh_cover = np.ones(2)*18\n",
    "evenodd_cover = np.ones(2)*18\n",
    "redblack_cover = np.ones(2)*18\n",
    "neighbor_cover = np.ones(38)*5"
   ]
  },
  {
   "cell_type": "code",
   "execution_count": 1707,
   "metadata": {},
   "outputs": [],
   "source": [
    "single_expected = single_prob * single_pay + (1-single_prob) * -1\n",
    "split_expected = split_prob[:-1] * split_pay + (1-split_prob[:-1]) * -1\n",
    "street_expected = street_prob[:-1] * street_pay + (1-street_prob[:-1]) * -1\n",
    "square_expected = square_prob[:-1] * square_pay + (1-square_prob[:-1]) * -1\n",
    "sixline_expected = sixline_prob[:-1] * sixline_pay + (1-sixline_prob[:-1]) * -1\n",
    "column_expected = columns_prob[:-1] * column_pay + (1-columns_prob[:-1]) * -1\n",
    "dozen_expected = dozens_prob[:-1] * dozen_pay + (1-dozens_prob[:-1]) * -1\n",
    "lowhigh_expected = lowhigh_prob[:-1] * lowhigh_pay + (1-lowhigh_prob[:-1]) * -1\n",
    "evenodd_expected = evenodd_prob[:-1] * evenodd_pay + (1-evenodd_prob[:-1]) * -1\n",
    "redblack_expected = redblack_prob[:-1] * redblack_pay + (1-redblack_prob[:-1]) * -1\n",
    "neighbor_expected = neighbor_prob * neighbor_pay + (1-neighbor_prob) * -1"
   ]
  },
  {
   "cell_type": "code",
   "execution_count": 1708,
   "metadata": {},
   "outputs": [
    {
     "name": "stdout",
     "output_type": "stream",
     "text": [
      "38\n",
      "38\n"
     ]
    }
   ],
   "source": [
    "single_bet_dic = {\n",
    "    i:'s:'+x for i,x in enumerate(wheel)\n",
    "}\n",
    "print(len(single_prob))\n",
    "print(len(single_bet_dic.keys()))"
   ]
  },
  {
   "cell_type": "code",
   "execution_count": 1709,
   "metadata": {},
   "outputs": [
    {
     "name": "stdout",
     "output_type": "stream",
     "text": [
      "57\n",
      "57\n"
     ]
    }
   ],
   "source": [
    "split_bet_dic = {\n",
    "    38: 'sp:1-2', 39: 'sp:2-3', 40: 'sp:1-4', 41: 'sp:2-5', 42: 'sp:3-6', \n",
    "    43: 'sp:4-5', 44: 'sp:5-6', 45: 'sp:4-7', 46: 'sp:5-8', 47: 'sp:6-9', \n",
    "    48: 'sp:7-8', 49: 'sp:8-9', 50: 'sp:7-10', 51: 'sp:8-11', 52: 'sp:9-12', \n",
    "    53: 'sp:10-11', 54: 'sp:11-12', 55: 'sp:10-13', 56: 'sp:11-14', 57: 'sp:12-15', \n",
    "    58: 'sp:13-14', 59: 'sp:14-15', 60: 'sp:13-16', 61: 'sp:14-17', 62: 'sp:15-18', \n",
    "    63: 'sp:16-17', 64: 'sp:17-18', 65: 'sp:16-19', 66: 'sp:17-20', 67: 'sp:18-21', \n",
    "    68: 'sp:19-20', 69: 'sp:20-21', 70: 'sp:19-22', 71: 'sp:20-23', 72: 'sp:21-24', \n",
    "    73: 'sp:22-23', 74: 'sp:23-24', 75: 'sp:22-25', 76: 'sp:23-26', 77: 'sp:24-27', \n",
    "    78: 'sp:25-26', 79: 'sp:26-27', 80: 'sp:25-28', 81: 'sp:26-29', 82: 'sp:27-30', \n",
    "    83: 'sp:28-29', 84: 'sp:29-30', 85: 'sp:28-31', 86: 'sp:29-32', 87: 'sp:30-33', \n",
    "    88: 'sp:31-32', 89: 'sp:32-33', 90: 'sp:31-34', 91: 'sp:32-35', 92: 'sp:33-36', \n",
    "    93: 'sp:34-35', 94: 'sp:35-36'\n",
    "}   \n",
    "print(len(split_prob[:-1]))\n",
    "print(len(split_bet_dic.keys()))"
   ]
  },
  {
   "cell_type": "code",
   "execution_count": 1710,
   "metadata": {},
   "outputs": [
    {
     "name": "stdout",
     "output_type": "stream",
     "text": [
      "12\n",
      "12\n"
     ]
    }
   ],
   "source": [
    "street_bet_dic = {\n",
    "    95: 'st:1-2-3', 96: 'st:4-5-6', 97: 'st:7-8-9', 98: 'st:10-11-12', 99: 'st:13-14-15',\n",
    "    100: 'st:16-17-18', 101: 'st:19-20-21', 102: 'st:22-23-24', 103: 'st:25-26-27', 104: 'st:28-29-30', \n",
    "    105: 'st:31-32-33', 106: 'st:34-35-36'\n",
    "}\n",
    "print(len(street_prob[:-1]))\n",
    "print(len(street_bet_dic.keys()))\n"
   ]
  },
  {
   "cell_type": "code",
   "execution_count": 1711,
   "metadata": {},
   "outputs": [
    {
     "name": "stdout",
     "output_type": "stream",
     "text": [
      "22\n",
      "22\n"
     ]
    }
   ],
   "source": [
    "square_bet_dic = {\n",
    "    107: 'sq:1/2/4/5', 108: 'sq:2/3/5/6', 109: 'sq:4/5/7/8', 110: 'sq:5/6/8/9', 111: 'sq:7/8/10/11', \n",
    "    112: 'sq:8/9/11/12', 113: 'sq:10/11/13/14', 114: 'sq:11/12/14/15', 115: 'sq:13/14/16/17', 116: 'sq:14/15/17/18',\n",
    "    117: 'sq:16/17/19/20', 118: 'sq:17/18/20/21', 119: 'sq:19/20/22/23', 120: 'sq:20/21/23/24', 121: 'sq:22/23/25/26',\n",
    "    122: 'sq:23/24/26/27', 123: 'sq:25/26/28/29', 124: 'sq:26/27/29/30', 125: 'sq:28/29/31/32', 126: 'sq:29/30/32/33',\n",
    "    127: 'sq:31/32/34/35', 128: 'sq:32/33/35/36'\n",
    "}\n",
    "print(len(square_prob[:-1]))\n",
    "print(len(square_bet_dic.keys()))\n"
   ]
  },
  {
   "cell_type": "code",
   "execution_count": 1712,
   "metadata": {},
   "outputs": [
    {
     "name": "stdout",
     "output_type": "stream",
     "text": [
      "11\n",
      "11\n"
     ]
    }
   ],
   "source": [
    "sixline_bet_dic = {\n",
    "    129: 'sx:1/2/3/4/5/6', 130: 'sx:4/5/6/7/8/9', 131: 'sx:7/8/9/10/11/12', 132: 'sx:10/11/12/13/14/15', 133: 'sx:13/14/15/16/17/18', 134: 'sx:16/17/18/19/20/21', \n",
    "    135: 'sx:19/20/21/22/23/24', 136: 'sx:22/23/24/25/26/27', 137: 'sx:25/26/27/28/29/30', 138: 'sx:28/29/30/31/32/33', 139: 'sx:31/32/33/34/35/36'\n",
    "}\n",
    "print(len(sixline_prob[:-1]))\n",
    "print(len(sixline_bet_dic.keys()))\n"
   ]
  },
  {
   "cell_type": "code",
   "execution_count": 1713,
   "metadata": {},
   "outputs": [
    {
     "name": "stdout",
     "output_type": "stream",
     "text": [
      "6\n",
      "6\n",
      "6\n",
      "6\n"
     ]
    }
   ],
   "source": [
    "three_bet_dic = {\n",
    "    140: 'c:1', 141: 'c:2', 142: 'c:3',\n",
    "    143: 'd:1', 144: 'd:2', 145: 'd:3'\n",
    "}\n",
    "print(len(columns_prob[:-1])+len(dozens_prob[:-1]))\n",
    "print(len(three_bet_dic.keys()))\n",
    "\n",
    "two_bet_dic = {\n",
    "    146: 'low', 147: 'high',\n",
    "    148: 'even', 149: 'odd',\n",
    "    150: 'red', 151: 'black'\n",
    "} \n",
    "print(len(lowhigh_prob[:-1])+len(evenodd_prob[:-1])+len(redblack_prob[:-1]))\n",
    "print(len(two_bet_dic.keys()))\n"
   ]
  },
  {
   "cell_type": "code",
   "execution_count": 1714,
   "metadata": {},
   "outputs": [
    {
     "name": "stdout",
     "output_type": "stream",
     "text": [
      "38\n",
      "38\n"
     ]
    }
   ],
   "source": [
    "neighbor_bet_dic = {\n",
    "    i+152:'n:{}'.format(x) for i,x in enumerate(wheel)\n",
    "}\n",
    "print(len(neighbor_prob))\n",
    "print(len(neighbor_bet_dic.keys()))"
   ]
  },
  {
   "cell_type": "code",
   "execution_count": 1715,
   "metadata": {},
   "outputs": [],
   "source": [
    "#neighbor_bet_dic"
   ]
  },
  {
   "cell_type": "code",
   "execution_count": 1716,
   "metadata": {},
   "outputs": [],
   "source": [
    "bet_dic = {**single_bet_dic, **split_bet_dic, **street_bet_dic, **square_bet_dic, **sixline_bet_dic, **three_bet_dic, **two_bet_dic, **neighbor_bet_dic}\n",
    "# bet_dic"
   ]
  },
  {
   "cell_type": "code",
   "execution_count": 1717,
   "metadata": {},
   "outputs": [
    {
     "data": {
      "text/plain": [
       "190"
      ]
     },
     "execution_count": 1717,
     "metadata": {},
     "output_type": "execute_result"
    }
   ],
   "source": [
    "len(list(bet_dic.keys()))"
   ]
  },
  {
   "cell_type": "code",
   "execution_count": 1718,
   "metadata": {},
   "outputs": [],
   "source": [
    "#def getBetCoverage(bet_dic):\n",
    "cover_dic = {x:np.array([],dtype=int) for x in bet_dic.values()}\n",
    "for i in range(len(bet_dic.keys())):\n",
    "    bet_str = bet_dic[i]\n",
    "    if bet_str == 'low':\n",
    "        cover_dic[bet_str] = [wheel[w] for w in [i for i,x in enumerate(lowhigh) if x is 'low']]\n",
    "    elif bet_str == 'high':\n",
    "        cover_dic[bet_str] = [wheel[w] for w in [i for i,x in enumerate(lowhigh) if x is 'high']]\n",
    "    elif bet_str == 'even':\n",
    "        cover_dic[bet_str] = [wheel[w] for w in [i for i,x in enumerate(evenodd) if x is 'even']]\n",
    "    elif bet_str == 'odd':\n",
    "        cover_dic[bet_str] = [wheel[w] for w in [i for i,x in enumerate(evenodd) if x is 'odd']]\n",
    "    elif bet_str == 'red':\n",
    "        cover_dic[bet_str] = [wheel[w] for w in [i for i,x in enumerate(redblack) if x is 'red']]\n",
    "    elif bet_str == 'black':\n",
    "        cover_dic[bet_str] = [wheel[w] for w in [i for i,x in enumerate(redblack) if x is 'black']]\n",
    "    else:\n",
    "        bet_name,bet_par = bet_str.split(\":\")\n",
    "        if bet_name == 's':\n",
    "            cover_dic[bet_str] = [bet_par]\n",
    "        elif bet_name == 'n':\n",
    "            cover_dic[bet_str] = neighbor[wheel.index(bet_par)]\n",
    "        elif bet_name == 'sp':\n",
    "            cover_dic[bet_str] = bet_par.split('-')\n",
    "        elif bet_name == 'st':\n",
    "            cover_dic[bet_str] = bet_par.split('-')\n",
    "        elif bet_name == 'sq':\n",
    "            cover_dic[bet_str] = bet_par.split('/')\n",
    "        elif bet_name == 'sx':\n",
    "            cover_dic[bet_str] = bet_par.split('/')\n",
    "        elif bet_name == 'c':\n",
    "            cover_dic[bet_str] = [wheel[w] for w in [i for i,x in enumerate(columns) if x is int(bet_par)]]\n",
    "        elif bet_name == 'd':\n",
    "            cover_dic[bet_str] = [wheel[w] for w in [i for i,x in enumerate(columns) if x is int(bet_par)]]\n",
    "        else:\n",
    "            print('something is wrong')\n",
    "            cover_dic[bet_str] = None"
   ]
  },
  {
   "cell_type": "code",
   "execution_count": 1719,
   "metadata": {},
   "outputs": [],
   "source": [
    "bet_prob = np.hstack([single_prob,split_prob[:-1],street_prob[:-1],square_prob[:-1],sixline_prob[:-1],columns_prob[:-1],dozens_prob[:-1],lowhigh_prob[:-1],evenodd_prob[:-1],redblack_prob[:-1],neighbor_prob])\n",
    "# bet_prob"
   ]
  },
  {
   "cell_type": "code",
   "execution_count": 1720,
   "metadata": {},
   "outputs": [],
   "source": [
    "bet_expected = np.hstack([single_expected,split_expected,street_expected,square_expected,sixline_expected,column_expected,dozen_expected,lowhigh_expected,evenodd_expected,redblack_expected,neighbor_expected])\n",
    "# bet_expected"
   ]
  },
  {
   "cell_type": "code",
   "execution_count": 1721,
   "metadata": {},
   "outputs": [
    {
     "data": {
      "text/plain": [
       "190"
      ]
     },
     "execution_count": 1721,
     "metadata": {},
     "output_type": "execute_result"
    }
   ],
   "source": [
    "len(bet_prob)"
   ]
  },
  {
   "cell_type": "code",
   "execution_count": 1722,
   "metadata": {},
   "outputs": [
    {
     "data": {
      "text/plain": [
       "190"
      ]
     },
     "execution_count": 1722,
     "metadata": {},
     "output_type": "execute_result"
    }
   ],
   "source": [
    "len(bet_expected)"
   ]
  },
  {
   "cell_type": "code",
   "execution_count": 1723,
   "metadata": {},
   "outputs": [
    {
     "data": {
      "text/plain": [
       "11"
      ]
     },
     "execution_count": 1723,
     "metadata": {},
     "output_type": "execute_result"
    }
   ],
   "source": [
    "bet_expected.argmax()"
   ]
  },
  {
   "cell_type": "code",
   "execution_count": 1724,
   "metadata": {},
   "outputs": [
    {
     "data": {
      "text/plain": [
       "0.7360556828746011"
      ]
     },
     "execution_count": 1724,
     "metadata": {},
     "output_type": "execute_result"
    }
   ],
   "source": [
    "bet_expected[bet_expected.argmax()]"
   ]
  },
  {
   "cell_type": "code",
   "execution_count": 1725,
   "metadata": {},
   "outputs": [
    {
     "data": {
      "text/plain": [
       "'s:21'"
      ]
     },
     "execution_count": 1725,
     "metadata": {},
     "output_type": "execute_result"
    }
   ],
   "source": [
    "bet_dic[bet_expected.argmax()]"
   ]
  },
  {
   "cell_type": "code",
   "execution_count": 1726,
   "metadata": {},
   "outputs": [
    {
     "data": {
      "text/plain": [
       "0.4976775838012617"
      ]
     },
     "execution_count": 1726,
     "metadata": {},
     "output_type": "execute_result"
    }
   ],
   "source": [
    "bet_prob[bet_prob.argmax()]"
   ]
  },
  {
   "cell_type": "code",
   "execution_count": 1727,
   "metadata": {},
   "outputs": [
    {
     "data": {
      "text/plain": [
       "'red'"
      ]
     },
     "execution_count": 1727,
     "metadata": {},
     "output_type": "execute_result"
    }
   ],
   "source": [
    "bet_dic[bet_prob.argmax()]"
   ]
  },
  {
   "cell_type": "code",
   "execution_count": 1728,
   "metadata": {},
   "outputs": [
    {
     "data": {
      "text/plain": [
       "array([ 11,  69,  26, 101,  67, 118,  68,  66, 134,  13])"
      ]
     },
     "execution_count": 1728,
     "metadata": {},
     "output_type": "execute_result"
    }
   ],
   "source": [
    "bet_expected.argsort()[-10:][::-1]"
   ]
  },
  {
   "cell_type": "code",
   "execution_count": 1729,
   "metadata": {},
   "outputs": [],
   "source": [
    "best_expected = bet_expected[bet_expected.argsort()[-10:][::-1]]\n",
    "#best_expected"
   ]
  },
  {
   "cell_type": "code",
   "execution_count": 1730,
   "metadata": {},
   "outputs": [],
   "source": [
    "best_prob = [bet_prob[x] for x in bet_expected.argsort()[-10:][::-1]]\n",
    "#best_prob"
   ]
  },
  {
   "cell_type": "code",
   "execution_count": 1750,
   "metadata": {},
   "outputs": [],
   "source": [
    "best_bet = [bet_dic[x] for x in bet_expected.argsort()[-10:][::-1]]\n",
    "#best_bet"
   ]
  },
  {
   "cell_type": "code",
   "execution_count": 1751,
   "metadata": {},
   "outputs": [],
   "source": [
    "best_coverage = [bet_coverage(bet_dic[x]) for x in bet_expected.argsort()[-10:][::-1]]\n",
    "#best_coverage"
   ]
  },
  {
   "cell_type": "code",
   "execution_count": 1752,
   "metadata": {},
   "outputs": [
    {
     "data": {
      "text/plain": [
       "[('s:21', 0.7360556828746011, 0.02631578947368421),\n",
       " ('sp:20-21', 0.7117546542440574, 0.05263157894736842),\n",
       " ('s:20', 0.6874536256135084, 0.02631578947368421),\n",
       " ('st:19-20-21', 0.6415401452015173, 0.07894736842105263),\n",
       " ('sp:18-21', 0.6280361172982731, 0.05263157894736842),\n",
       " ('sq:17/18/20/21', 0.6090834165598311, 0.10526315789473684),\n",
       " ('sp:19-20', 0.5942823763649793, 0.05263157894736842),\n",
       " ('sp:17-20', 0.5901307158213869, 0.05263157894736842),\n",
       " ('sx:16/17/18/19/20/21', 0.5847835132520571, 0.15789473684210525),\n",
       " ('s:16', 0.5712562861565897, 0.02631578947368421)]"
      ]
     },
     "execution_count": 1752,
     "metadata": {},
     "output_type": "execute_result"
    }
   ],
   "source": [
    "[x for x in zip(best_bet, best_expected, best_coverage)]"
   ]
  },
  {
   "cell_type": "code",
   "execution_count": 1733,
   "metadata": {},
   "outputs": [],
   "source": [
    "def cost(x):\n",
    "    return np.dot(x, -bet_expected)"
   ]
  },
  {
   "cell_type": "code",
   "execution_count": 1734,
   "metadata": {},
   "outputs": [],
   "source": [
    "def ineqcons1(x):\n",
    "    nums = np.array([])\n",
    "    for i in range(len(x)):\n",
    "        if x[i] > 1e-4:\n",
    "            nums = np.append(nums, cover_dic[bet_dic[i]])\n",
    "    return len(np.unique(nums))/38.0 - 0.5"
   ]
  },
  {
   "cell_type": "code",
   "execution_count": 1740,
   "metadata": {},
   "outputs": [],
   "source": [
    "def bet_coverage(bet):\n",
    "    nums = cover_dic[bet]\n",
    "    return len(np.unique(nums))/38.0"
   ]
  },
  {
   "cell_type": "code",
   "execution_count": 1739,
   "metadata": {},
   "outputs": [],
   "source": [
    "def total_coverage(x):\n",
    "    nums = np.array([])\n",
    "    for i in range(len(x)):\n",
    "        if x[i] > 1e-4:\n",
    "            nums = np.append(nums, cover_dic[bet_dic[i]])\n",
    "    return len(np.unique(nums))/38.0"
   ]
  },
  {
   "cell_type": "code",
   "execution_count": 1735,
   "metadata": {},
   "outputs": [],
   "source": [
    "def ineqcons2(x):\n",
    "    # 152 to 189 neighbour bets\n",
    "    neighbor_count = 0\n",
    "    for i in range(152,189+1):\n",
    "        if x[i] > 1e-6:\n",
    "            neighbor_count += 1\n",
    "    return 5 - neighbor_count"
   ]
  },
  {
   "cell_type": "code",
   "execution_count": 1736,
   "metadata": {},
   "outputs": [],
   "source": [
    "def eqcons1(x):\n",
    "    return sum(x) - 1.0"
   ]
  },
  {
   "cell_type": "code",
   "execution_count": 1737,
   "metadata": {},
   "outputs": [
    {
     "name": "stdout",
     "output_type": "stream",
     "text": [
      "optimization result More than 3*n iterations in LSQ subproblem\n",
      "expected return 11.552806719133459\n",
      "coverage 0.3157894736842105\n",
      "neighbors 5\n",
      "20.3474984230991\n"
     ]
    }
   ],
   "source": [
    "n_init_bets = 10\n",
    "x0 = np.zeros(len(bet_expected))\n",
    "x0[bet_expected.argsort()[-n_init_bets:][::-1]] = 1.0/n_init_bets\n",
    "x0 = tuple(x0)\n",
    "\n",
    "bnds = tuple([(0.0, 1.0) for i in range(len(bet_expected))]) #((-5,5), (-5,5))\n",
    "\n",
    "con = ({'type':'eq', 'fun': eqcons1}, {'type':'ineq', 'fun': ineqcons2}, {'type':'ineq', 'fun': ineqcons1})\n",
    "res = minimize(cost, x0, bounds = bnds, constraints=con, options={'maxiter' : 10000, 'ftol':0.0001 })\n",
    "print(\"optimization result\", res.message)\n",
    "\n",
    "print(\"expected return\", np.dot(res.x, bet_expected))\n",
    "print(\"coverage\", ineqcons1(res.x)+0.5)\n",
    "print(\"neighbors\", 5 - ineqcons2(res.x))\n",
    "print(sum(res.x))\n",
    "\n",
    "#, method='SLSQP'\n",
    "#for cons in con:\n",
    "#    print(\"constraints values for optimized variables\", cons['fun'], cons['fun'](res.x), cons['type'])"
   ]
  },
  {
   "cell_type": "code",
   "execution_count": 1738,
   "metadata": {},
   "outputs": [
    {
     "name": "stdout",
     "output_type": "stream",
     "text": [
      "s:19 0.9999999752320105 0.5011111271164438 0.04169753130879011\n",
      "s:18 0.9999999973752681 0.5200165517219599 0.04222268199227667\n",
      "s:21 0.9999999973607805 0.7360556828746011 0.04822376896873892\n",
      "s:16 0.9999999903759249 0.5712562861565897 0.04364600794879416\n",
      "s:20 0.9999999974358177 0.6874536256135084 0.046873711822597454\n",
      "s:17 0.9999999806082001 0.49280780602926044 0.04146688350081279\n",
      "sp:16-17 0.9999999999982796 0.5320320460929235 0.08511289144960686\n",
      "sp:17-18 0.9999999989453652 0.5064121788756077 0.08368956549308931\n",
      "sp:16-19 0.9999999999966506 0.5361837066365089 0.08534353925758383\n",
      "sp:17-20 0.9999999989410828 0.5901307158213869 0.08834059532341038\n",
      "sp:18-21 0.9999999999971002 0.6280361172982731 0.09044645096101517\n",
      "sp:19-20 0.999999999999658 0.5942823763649793 0.08857124313138774\n",
      "sp:20-21 0.999999997714891 0.7117546542440574 0.09509748079133652\n",
      "st:16-17-18 0.9999999860819383 0.5280268813026058 0.12733557344188381\n",
      "st:19-20-21 0.9999999999973259 0.6415401452015173 0.13679501210012643\n",
      "sq:16/17/19/20 0.9999999999990185 0.5631572112289531 0.1736841345809948\n",
      "sq:17/18/20/21 0.999999992168301 0.6090834165598311 0.17878704628442568\n",
      "sq:20/21/23/24 0.00010000000543267889 0.30445032717237197 0.14493892524137467\n",
      "sx:16/17/18/19/20/21 0.9999999988710924 0.5847835132520571 0.2641305855420095\n",
      "n:18 0.9995637864628881 0.42878679930184505 0.17859834991273063\n",
      "n:21 0.9999999999982017 0.4683570669849595 0.18354463337311994\n",
      "n:33 0.0004119791941021486 0.32746684320895647 0.16593335540111956\n",
      "n:16 0.34730998283672365 0.3499077932678415 0.1687384741584802\n"
     ]
    }
   ],
   "source": [
    "for i in range(len(res.x)):\n",
    "    if res.x[i] > 1e-4:\n",
    "        print(bet_dic[i], res.x[i], bet_expected[i], bet_prob[i])"
   ]
  },
  {
   "cell_type": "code",
   "execution_count": 1741,
   "metadata": {},
   "outputs": [
    {
     "data": {
      "text/plain": [
       "0.05263157894736842"
      ]
     },
     "execution_count": 1741,
     "metadata": {},
     "output_type": "execute_result"
    }
   ],
   "source": []
  },
  {
   "cell_type": "code",
   "execution_count": null,
   "metadata": {},
   "outputs": [],
   "source": []
  },
  {
   "cell_type": "code",
   "execution_count": null,
   "metadata": {},
   "outputs": [],
   "source": []
  },
  {
   "cell_type": "code",
   "execution_count": null,
   "metadata": {},
   "outputs": [],
   "source": []
  },
  {
   "cell_type": "code",
   "execution_count": null,
   "metadata": {},
   "outputs": [],
   "source": []
  },
  {
   "cell_type": "code",
   "execution_count": null,
   "metadata": {},
   "outputs": [],
   "source": []
  },
  {
   "cell_type": "code",
   "execution_count": null,
   "metadata": {},
   "outputs": [],
   "source": []
  },
  {
   "cell_type": "code",
   "execution_count": null,
   "metadata": {},
   "outputs": [],
   "source": []
  }
 ],
 "metadata": {
  "kernelspec": {
   "display_name": "Python 3",
   "language": "python",
   "name": "python3"
  },
  "language_info": {
   "codemirror_mode": {
    "name": "ipython",
    "version": 3
   },
   "file_extension": ".py",
   "mimetype": "text/x-python",
   "name": "python",
   "nbconvert_exporter": "python",
   "pygments_lexer": "ipython3",
   "version": "3.7.1"
  }
 },
 "nbformat": 4,
 "nbformat_minor": 2
}
