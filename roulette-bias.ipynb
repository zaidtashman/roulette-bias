{
 "cells": [
  {
   "cell_type": "code",
   "execution_count": 15,
   "metadata": {},
   "outputs": [],
   "source": [
    "import random as rnd\n",
    "import matplotlib.pyplot as plt\n",
    "import numpy as np\n",
    "import pandas as pd\n",
    "from IPython.core.pylabtools import figsize\n",
    "import pystan as ps\n",
    "import pymc3 as pm\n",
    "#import theano.tensor as tt\n",
    "%matplotlib inline"
   ]
  },
  {
   "cell_type": "code",
   "execution_count": 177,
   "metadata": {},
   "outputs": [],
   "source": [
    "wheel = ['00','27','10','25','29','12','8','19','31','18','6','21','33',\n",
    "         '16','4','23','35','14','2','0','28','9','26','30','11','7','20',\n",
    "         '32','17','5','22','34','15','3','24','36','13','1']\n",
    "redblack = ['green', \n",
    "            'red', 'black', 'red', 'black', 'red', 'black', 'red', 'black', 'red', \n",
    "            'black', 'red', 'black','red', 'black', 'red', 'black', 'red', 'black', \n",
    "            'green', \n",
    "            'black', 'red', 'black', 'red', 'black', 'red', 'black', 'red', 'black', \n",
    "            'red', 'black', 'red', 'black', 'red', 'black', 'red', 'black', 'red']\n",
    "evenodd = ['none', \n",
    "           'odd', 'even', 'odd', 'odd', 'even', 'even', 'odd', 'odd', 'even', \n",
    "           'even', 'odd', 'odd', 'even', 'even', 'odd', 'odd', 'even', 'even', \n",
    "           'none', \n",
    "           'even', 'odd', 'even', 'even', 'odd', 'odd', 'even', 'even', 'odd', \n",
    "           'odd', 'even', 'even', 'odd', 'odd', 'even', 'even', 'odd', 'odd']\n",
    "lowhigh = ['none',\n",
    "          'high','low','high','high','low','low','high','high','low',\n",
    "           'low','high','high','low','low','high','high','low','low',\n",
    "          'none',\n",
    "          'high','low','high','high','low','low','high','high','low',\n",
    "           'low','high','high','low','low','high','high','low','low']\n",
    "dozens = ['none',\n",
    "         3,1,3,3,1,1,2,3,2,1,2,3,2,1,2,3,2,1,\n",
    "         'none',\n",
    "         3,1,3,3,1,1,2,3,2,1,2,3,2,1,2,3,2,1]\n",
    "columns = ['none',\n",
    "          3,1,1,2,3,2,1,1,3,3,3,3,1,1,2,2,2,2,\n",
    "          'none',\n",
    "          1,3,2,3,2,1,2,2,2,2,1,1,3,3,3,3,1,1]\n",
    "sixline = ['none',\n",
    "          ('8','9'),('3','4'),('8','9'),('9','10'),('3','4'),('2','3'),('6','7'),('10','11'),('5','6'),\n",
    "          ('1','2'),('6','7'),('10','11'),('5','6'),('1','2'),('7','8'),['11'],('4','5'),['1'],\n",
    "          'none',\n",
    "          ('9','10'),('2','3'),('8','9'),('9','10'),('3','4'),('2','3'),('6','7'),('10','11'),('5','6'),\n",
    "          ('1','2'),('7','8'),['11'],('4','5'),['1'],('7','8'),['11'],('4','5'),['1']]\n",
    "square = ['none',\n",
    "         ('16','18'),('5','7'),('15','17'),('17','18','19','20'),('6','8'),('3','4','5','6'),('11','13'),('19','21'),('10','12'),\n",
    "         ('2','4'),('12','14'),('20','22'),('9','11'),('1','3'),('13','14','15','16'),('21','22'),('7','8','9','10'),('1','2'),\n",
    "         'none',\n",
    "         ('17','19'),('4','6'),('15','16','17','18'),('18','20'),('5','6','7','8'),('3','5'),('11','12','13','14'),('19','20','21','22'),('9','10','11','12'),\n",
    "         ('1','2','3','4'),('13','15'),['21'],('8','10'),['2'],('14','16'),['22'],('7','9'),['1']]\n",
    "street = ['none',\n",
    "         '9','4','9','10','4','3','7','11','6','2','7','11','6','2','8','12','5','1',\n",
    "         'none',\n",
    "         '10','3','9','10','4','3','7','11','6','2','8','12','5','1','8','12','5','1']\n",
    "split = ['none',\n",
    "        ('40','42','45'),('13','16','18'),('38','41','43'),('44','46','47','49'),('15','17','20'),('9','11','12','14'),('28','31','33'),('48','51','53'),('25','27','30'),\n",
    "        ('5','7','10'),('30','32','35'),('50','52','55'),('23','26','28'),('3','6','8'),('34','36','37','39'),('54','56','57'),('19','21','22','24'),('1','2','4'),\n",
    "        'none',\n",
    "        ('43','46','48'),('10','12','15'),('39','41','42','44'),('45','47','50'),('14','16','17','19'),('8','11','13'),('29','31','32','34'),('49','51','52','54'),('24','26','27','29'),\n",
    "        ('4','6','7','9'),('33','36','38'),('53','56'),('20','22','25'),('2','5'),('35','37','40'),('55','57'),('18','21','23'),('1','3')]\n",
    "\n",
    "neighbor = []\n",
    "wheel2 = ['24','36','13','1','00','27','10','25','29','12','8','19','31','18','6','21','33',\n",
    "         '16','4','23','35','14','2','0','28','9','26','30','11','7','20',\n",
    "         '32','17','5','22','34','15','3','24','36','13','1','00','27','10','25']\n",
    "for i in range(len(wheel)):\n",
    "    n = wheel[i]\n",
    "    bet = wheel2[((i+4)-4):((i+4)+5)]\n",
    "    neighbor.append(bet)"
   ]
  },
  {
   "cell_type": "code",
   "execution_count": 121,
   "metadata": {},
   "outputs": [],
   "source": [
    "spins = np.array([])\n",
    "for i in range(1000):\n",
    "    spins = np.append(spins, np.array([rnd.choice(wheel)]))"
   ]
  },
  {
   "cell_type": "code",
   "execution_count": 122,
   "metadata": {},
   "outputs": [
    {
     "name": "stdout",
     "output_type": "stream",
     "text": [
      "1000\n"
     ]
    }
   ],
   "source": [
    "print(len(spins))\n",
    "#print(spins)"
   ]
  },
  {
   "cell_type": "code",
   "execution_count": 123,
   "metadata": {},
   "outputs": [
    {
     "name": "stderr",
     "output_type": "stream",
     "text": [
      "/anaconda3/lib/python3.7/site-packages/matplotlib/axes/_axes.py:6521: MatplotlibDeprecationWarning: \n",
      "The 'normed' kwarg was deprecated in Matplotlib 2.1 and will be removed in 3.1. Use 'density' instead.\n",
      "  alternative=\"'density'\", removal=\"3.1\")\n"
     ]
    },
    {
     "data": {
      "image/png": "[encoded data removed]",
      "text/plain": [
       "<Figure size 900x360 with 1 Axes>"
      ]
     },
     "metadata": {
      "needs_background": "light"
     },
     "output_type": "display_data"
    }
   ],
   "source": [
    "figsize(12.5, 5)\n",
    "plt.hist(spins, normed=True, bins=38)\n",
    "plt.ylabel('Probability');"
   ]
  },
  {
   "cell_type": "code",
   "execution_count": 124,
   "metadata": {},
   "outputs": [],
   "source": [
    "spins_count = {x : 0 for x in wheel}"
   ]
  },
  {
   "cell_type": "code",
   "execution_count": 125,
   "metadata": {},
   "outputs": [],
   "source": [
    "for i in spins:\n",
    "    spins_count[i] += 1"
   ]
  },
  {
   "cell_type": "code",
   "execution_count": 126,
   "metadata": {},
   "outputs": [],
   "source": [
    "counts = np.array(list(spins_count.values()))"
   ]
  },
  {
   "cell_type": "code",
   "execution_count": 127,
   "metadata": {},
   "outputs": [],
   "source": [
    "model = \"\"\"\n",
    "data {\n",
    "  int<lower=1> m;\n",
    "  int counts[m];\n",
    "  vector<lower=0>[m] priors;\n",
    "}\n",
    "\n",
    "parameters {\n",
    "  simplex[m] p;\n",
    "}\n",
    "\n",
    "model {\n",
    "  p ~ dirichlet(priors);\n",
    "  counts ~ multinomial(p);\n",
    "}\n",
    "\"\"\""
   ]
  },
  {
   "cell_type": "code",
   "execution_count": 128,
   "metadata": {},
   "outputs": [
    {
     "name": "stderr",
     "output_type": "stream",
     "text": [
      "INFO:pystan:COMPILING THE C++ CODE FOR MODEL anon_model_64c300d688746d4e6c6f00d3cc2d73d6 NOW.\n"
     ]
    }
   ],
   "source": [
    "stanmodel = ps.StanModel(model_code=model)"
   ]
  },
  {
   "cell_type": "code",
   "execution_count": 129,
   "metadata": {},
   "outputs": [],
   "source": [
    "data = {'m':38, 'counts':counts, 'priors':np.ones(38)}"
   ]
  },
  {
   "cell_type": "code",
   "execution_count": 130,
   "metadata": {},
   "outputs": [],
   "source": [
    "fit = stanmodel.sampling(data=data)"
   ]
  },
  {
   "cell_type": "code",
   "execution_count": 131,
   "metadata": {},
   "outputs": [],
   "source": [
    "#fit.plot()\n",
    "fit_par = fit.extract(permuted=True)"
   ]
  },
  {
   "cell_type": "code",
   "execution_count": 132,
   "metadata": {},
   "outputs": [
    {
     "data": {
      "text/plain": [
       "(4000, 38)"
      ]
     },
     "execution_count": 132,
     "metadata": {},
     "output_type": "execute_result"
    }
   ],
   "source": [
    "fit_par['p'].shape"
   ]
  },
  {
   "cell_type": "code",
   "execution_count": 133,
   "metadata": {},
   "outputs": [],
   "source": [
    "fit_samples = fit_par['p']"
   ]
  },
  {
   "cell_type": "code",
   "execution_count": 134,
   "metadata": {},
   "outputs": [
    {
     "data": {
      "text/plain": [
       "array([0.0170085 , 0.01431187, 0.01388944, 0.02194686, 0.02924051,\n",
       "       0.03161933, 0.02656897, 0.02460506, 0.02223119, 0.01431727,\n",
       "       0.01195114, 0.04213077, 0.029666  , 0.0284425 , 0.02680293,\n",
       "       0.02251479, 0.02414467, 0.03806231, 0.03767767, 0.02061474,\n",
       "       0.02704915, 0.04779276, 0.03168844, 0.02618398, 0.03938668,\n",
       "       0.03634921, 0.03524459, 0.03548756, 0.01977369, 0.03375201,\n",
       "       0.02004414, 0.01700938, 0.01992194, 0.01680812, 0.0278716 ,\n",
       "       0.02126338, 0.02602461, 0.02060227])"
      ]
     },
     "execution_count": 134,
     "metadata": {},
     "output_type": "execute_result"
    }
   ],
   "source": [
    "fit_samples[3999]"
   ]
  },
  {
   "cell_type": "code",
   "execution_count": 137,
   "metadata": {},
   "outputs": [],
   "source": [
    "def getRedBlackProb(p):\n",
    "    redblack_dic = {'red':0, 'black':0, 'green':0}\n",
    "    zipped_array = zip(wheel,p,redblack)\n",
    "    for i in zipped_array:\n",
    "        if i[2] == 'green':\n",
    "            redblack_dic['green'] += i[1]\n",
    "        elif i[2] == 'red':\n",
    "            redblack_dic['red'] += i[1]\n",
    "        else:\n",
    "            redblack_dic['black'] += i[1]\n",
    "            \n",
    "    return redblack_dic"
   ]
  },
  {
   "cell_type": "code",
   "execution_count": 151,
   "metadata": {},
   "outputs": [
    {
     "data": {
      "text/plain": [
       "[0.4736842105263156, 0.4736842105263156, 0.05263157894736842]"
      ]
     },
     "execution_count": 151,
     "metadata": {},
     "output_type": "execute_result"
    }
   ],
   "source": [
    "list(getRedBlackProb(np.ones(38)/38).values())"
   ]
  },
  {
   "cell_type": "code",
   "execution_count": 139,
   "metadata": {},
   "outputs": [],
   "source": [
    "def getEvenOddProb(p):\n",
    "    evenodd_dic = {'even':0, 'odd':0, 'none':0}\n",
    "    zipped_array = zip(wheel,p,evenodd)\n",
    "    for i in zipped_array:\n",
    "        if i[2] == 'even':\n",
    "            evenodd_dic['even'] += i[1]\n",
    "        elif i[2] == 'odd':\n",
    "            evenodd_dic['odd'] += i[1]\n",
    "        else:\n",
    "            evenodd_dic['none'] += i[1]\n",
    "            \n",
    "    return evenodd_dic"
   ]
  },
  {
   "cell_type": "code",
   "execution_count": 150,
   "metadata": {},
   "outputs": [
    {
     "data": {
      "text/plain": [
       "[0.4736842105263156, 0.4736842105263156, 0.05263157894736842]"
      ]
     },
     "execution_count": 150,
     "metadata": {},
     "output_type": "execute_result"
    }
   ],
   "source": [
    "list(getEvenOddProb(np.ones(38)/38).values())"
   ]
  },
  {
   "cell_type": "code",
   "execution_count": 141,
   "metadata": {},
   "outputs": [],
   "source": [
    "def getLowHighProb(p):\n",
    "    lowhigh_dic = {'low':0, 'high':0, 'none':0}\n",
    "    zipped_array = zip(wheel,p,lowhigh)\n",
    "    for i in zipped_array:\n",
    "        if i[2] == 'low':\n",
    "            lowhigh_dic['low'] += i[1]\n",
    "        elif i[2] == 'high':\n",
    "            lowhigh_dic['high'] += i[1]\n",
    "        else:\n",
    "            lowhigh_dic['none'] += i[1]\n",
    "            \n",
    "    return lowhigh_dic"
   ]
  },
  {
   "cell_type": "code",
   "execution_count": 152,
   "metadata": {},
   "outputs": [
    {
     "data": {
      "text/plain": [
       "[0.4736842105263156, 0.4736842105263156, 0.05263157894736842]"
      ]
     },
     "execution_count": 152,
     "metadata": {},
     "output_type": "execute_result"
    }
   ],
   "source": [
    "list(getLowHighProb(np.ones(38)/38).values())"
   ]
  },
  {
   "cell_type": "code",
   "execution_count": 142,
   "metadata": {},
   "outputs": [],
   "source": [
    "def getDozensProb(p):\n",
    "    dozens_dic = {'1':0, '2':0, '3':0, 'none':0}\n",
    "    zipped_array = zip(wheel,p,dozens)\n",
    "    for i in zipped_array:\n",
    "        if i[2] == 1:\n",
    "            dozens_dic['1'] += i[1]\n",
    "        elif i[2] == 2:\n",
    "            dozens_dic['2'] += i[1]\n",
    "        elif i[2] == 3:\n",
    "            dozens_dic['3'] += i[1]\n",
    "        else:\n",
    "            dozens_dic['none'] += i[1]\n",
    "            \n",
    "    return dozens_dic"
   ]
  },
  {
   "cell_type": "code",
   "execution_count": 153,
   "metadata": {},
   "outputs": [
    {
     "data": {
      "text/plain": [
       "[0.3157894736842105,\n",
       " 0.3157894736842105,\n",
       " 0.3157894736842105,\n",
       " 0.05263157894736842]"
      ]
     },
     "execution_count": 153,
     "metadata": {},
     "output_type": "execute_result"
    }
   ],
   "source": [
    "list(getDozensProb(np.ones(38)/38).values())"
   ]
  },
  {
   "cell_type": "code",
   "execution_count": 144,
   "metadata": {},
   "outputs": [],
   "source": [
    "def getColumnsProb(p):\n",
    "    columns_dic = {'1':0, '2':0, '3':0, 'none':0}\n",
    "    zipped_array = zip(wheel,p,columns)\n",
    "    for i in zipped_array:\n",
    "        if i[2] == 1:\n",
    "            columns_dic['1'] += i[1]\n",
    "        elif i[2] == 2:\n",
    "            columns_dic['2'] += i[1]\n",
    "        elif i[2] == 3:\n",
    "            columns_dic['3'] += i[1]\n",
    "        else:\n",
    "            columns_dic['none'] += i[1]\n",
    "            \n",
    "    return columns_dic"
   ]
  },
  {
   "cell_type": "code",
   "execution_count": 154,
   "metadata": {},
   "outputs": [
    {
     "data": {
      "text/plain": [
       "[0.3157894736842105,\n",
       " 0.3157894736842105,\n",
       " 0.3157894736842105,\n",
       " 0.05263157894736842]"
      ]
     },
     "execution_count": 154,
     "metadata": {},
     "output_type": "execute_result"
    }
   ],
   "source": [
    "list(getColumnsProb(np.ones(38)/38).values())"
   ]
  },
  {
   "cell_type": "code",
   "execution_count": 167,
   "metadata": {},
   "outputs": [],
   "source": [
    "def getSixlineProb(p):\n",
    "    sixline_dic = {'1':0, '2':0, '3':0, '4':0, '5':0, '6':0, '7':0, '8':0, '9':0, '10':0, '11':0, 'none':0}\n",
    "    zipped_array = zip(wheel,p,sixline)\n",
    "    for i in zipped_array:\n",
    "        if i[2] == 'none':\n",
    "            sixline_dic['none'] += i[1]\n",
    "        else:\n",
    "            for j in range(len(i[2])):\n",
    "                sixline_dic[i[2][j]] += i[1]\n",
    "                \n",
    "    return sixline_dic"
   ]
  },
  {
   "cell_type": "code",
   "execution_count": 168,
   "metadata": {},
   "outputs": [
    {
     "data": {
      "text/plain": [
       "[0.15789473684210525,\n",
       " 0.15789473684210525,\n",
       " 0.15789473684210525,\n",
       " 0.15789473684210525,\n",
       " 0.15789473684210525,\n",
       " 0.15789473684210525,\n",
       " 0.15789473684210525,\n",
       " 0.15789473684210525,\n",
       " 0.15789473684210525,\n",
       " 0.15789473684210525,\n",
       " 0.15789473684210525,\n",
       " 0.05263157894736842]"
      ]
     },
     "execution_count": 168,
     "metadata": {},
     "output_type": "execute_result"
    }
   ],
   "source": [
    "list(getSixlineProb(np.ones(38)/38).values())"
   ]
  },
  {
   "cell_type": "code",
   "execution_count": 170,
   "metadata": {},
   "outputs": [],
   "source": [
    "def getSquareProb(p):\n",
    "    square_dic = {'1':0, '2':0, '3':0, '4':0, '5':0, '6':0, '7':0, '8':0, '9':0, '10':0, '11':0, \n",
    "                  '12':0, '13':0, '14':0, '15':0, '16':0, '17':0, '18':0, '19':0, '20':0, '21':0, '22':0, 'none':0}\n",
    "    zipped_array = zip(wheel,p,square)\n",
    "    for i in zipped_array:\n",
    "        if i[2] == 'none':\n",
    "            square_dic['none'] += i[1]\n",
    "        else:\n",
    "            for j in range(len(i[2])):\n",
    "                square_dic[i[2][j]] += i[1]\n",
    "                \n",
    "    return square_dic"
   ]
  },
  {
   "cell_type": "code",
   "execution_count": 171,
   "metadata": {},
   "outputs": [
    {
     "data": {
      "text/plain": [
       "[0.10526315789473684,\n",
       " 0.10526315789473684,\n",
       " 0.10526315789473684,\n",
       " 0.10526315789473684,\n",
       " 0.10526315789473684,\n",
       " 0.10526315789473684,\n",
       " 0.10526315789473684,\n",
       " 0.10526315789473684,\n",
       " 0.10526315789473684,\n",
       " 0.10526315789473684,\n",
       " 0.10526315789473684,\n",
       " 0.10526315789473684,\n",
       " 0.10526315789473684,\n",
       " 0.10526315789473684,\n",
       " 0.10526315789473684,\n",
       " 0.10526315789473684,\n",
       " 0.10526315789473684,\n",
       " 0.10526315789473684,\n",
       " 0.10526315789473684,\n",
       " 0.10526315789473684,\n",
       " 0.10526315789473684,\n",
       " 0.10526315789473684,\n",
       " 0.05263157894736842]"
      ]
     },
     "execution_count": 171,
     "metadata": {},
     "output_type": "execute_result"
    }
   ],
   "source": [
    "list(getSquareProb(np.ones(38)/38).values())"
   ]
  },
  {
   "cell_type": "code",
   "execution_count": 174,
   "metadata": {},
   "outputs": [],
   "source": [
    "def getStreetProb(p):\n",
    "    street_dic = {'1':0, '2':0, '3':0, '4':0, '5':0, '6':0, '7':0, '8':0, '9':0, '10':0, '11':0, '12':0, 'none':0}\n",
    "    zipped_array = zip(wheel,p,street)\n",
    "    for i in zipped_array:\n",
    "        if i[2] == 'none':\n",
    "            street_dic['none'] += i[1]\n",
    "        else:\n",
    "            street_dic[i[2]] += i[1]\n",
    "                \n",
    "    return street_dic"
   ]
  },
  {
   "cell_type": "code",
   "execution_count": 176,
   "metadata": {},
   "outputs": [
    {
     "data": {
      "text/plain": [
       "[0.07894736842105263,\n",
       " 0.07894736842105263,\n",
       " 0.07894736842105263,\n",
       " 0.07894736842105263,\n",
       " 0.07894736842105263,\n",
       " 0.07894736842105263,\n",
       " 0.07894736842105263,\n",
       " 0.07894736842105263,\n",
       " 0.07894736842105263,\n",
       " 0.07894736842105263,\n",
       " 0.07894736842105263,\n",
       " 0.07894736842105263,\n",
       " 0.05263157894736842]"
      ]
     },
     "execution_count": 176,
     "metadata": {},
     "output_type": "execute_result"
    }
   ],
   "source": [
    "list(getStreetProb(np.ones(38)/38).values())"
   ]
  },
  {
   "cell_type": "code",
   "execution_count": 178,
   "metadata": {},
   "outputs": [],
   "source": [
    "def getSplitProb(p):\n",
    "    split_dic = {'1':0, '2':0, '3':0, '4':0, '5':0, '6':0, '7':0, '8':0, '9':0, '10':0, '11':0, \n",
    "                  '12':0, '13':0, '14':0, '15':0, '16':0, '17':0, '18':0, '19':0, '20':0, '21':0, '22':0,\n",
    "                 '23':0, '24':0, '25':0, '26':0, '27':0, '28':0, '29':0, '30':0, '31':0, '32':0, '33':0,\n",
    "                 '34':0, '35':0, '36':0, '37':0, '38':0, '39':0, '40':0, '41':0, '42':0, '43':0, '44':0,\n",
    "                 '45':0, '46':0, '47':0, '48':0, '49':0, '50':0, '51':0, '52':0, '53':0, '54':0, '55':0,\n",
    "                 '56':0, '57':0, 'none':0}\n",
    "    zipped_array = zip(wheel,p,split)\n",
    "    for i in zipped_array:\n",
    "        if i[2] == 'none':\n",
    "            split_dic['none'] += i[1]\n",
    "        else:\n",
    "            for j in range(len(i[2])):\n",
    "                split_dic[i[2][j]] += i[1]\n",
    "                \n",
    "    return split_dic"
   ]
  },
  {
   "cell_type": "code",
   "execution_count": 179,
   "metadata": {},
   "outputs": [
    {
     "data": {
      "text/plain": [
       "[0.05263157894736842,\n",
       " 0.05263157894736842,\n",
       " 0.05263157894736842,\n",
       " 0.05263157894736842,\n",
       " 0.05263157894736842,\n",
       " 0.05263157894736842,\n",
       " 0.05263157894736842,\n",
       " 0.05263157894736842,\n",
       " 0.05263157894736842,\n",
       " 0.05263157894736842,\n",
       " 0.05263157894736842,\n",
       " 0.05263157894736842,\n",
       " 0.05263157894736842,\n",
       " 0.05263157894736842,\n",
       " 0.05263157894736842,\n",
       " 0.05263157894736842,\n",
       " 0.05263157894736842,\n",
       " 0.05263157894736842,\n",
       " 0.05263157894736842,\n",
       " 0.05263157894736842,\n",
       " 0.05263157894736842,\n",
       " 0.05263157894736842,\n",
       " 0.05263157894736842,\n",
       " 0.05263157894736842,\n",
       " 0.05263157894736842,\n",
       " 0.05263157894736842,\n",
       " 0.05263157894736842,\n",
       " 0.05263157894736842,\n",
       " 0.05263157894736842,\n",
       " 0.05263157894736842,\n",
       " 0.05263157894736842,\n",
       " 0.05263157894736842,\n",
       " 0.05263157894736842,\n",
       " 0.05263157894736842,\n",
       " 0.05263157894736842,\n",
       " 0.05263157894736842,\n",
       " 0.05263157894736842,\n",
       " 0.05263157894736842,\n",
       " 0.05263157894736842,\n",
       " 0.05263157894736842,\n",
       " 0.05263157894736842,\n",
       " 0.05263157894736842,\n",
       " 0.05263157894736842,\n",
       " 0.05263157894736842,\n",
       " 0.05263157894736842,\n",
       " 0.05263157894736842,\n",
       " 0.05263157894736842,\n",
       " 0.05263157894736842,\n",
       " 0.05263157894736842,\n",
       " 0.05263157894736842,\n",
       " 0.05263157894736842,\n",
       " 0.05263157894736842,\n",
       " 0.05263157894736842,\n",
       " 0.05263157894736842,\n",
       " 0.05263157894736842,\n",
       " 0.05263157894736842,\n",
       " 0.05263157894736842,\n",
       " 0.05263157894736842]"
      ]
     },
     "execution_count": 179,
     "metadata": {},
     "output_type": "execute_result"
    }
   ],
   "source": [
    "list(getSplitProb(np.ones(38)/38).values())"
   ]
  },
  {
   "cell_type": "code",
   "execution_count": 180,
   "metadata": {},
   "outputs": [],
   "source": [
    "def getNeighborProb(p):\n",
    "    neighbor_dic = {'1':0, '2':0, '3':0, '4':0, '5':0, '6':0, '7':0, '8':0, '9':0, '10':0, '11':0, \n",
    "                  '12':0, '13':0, '14':0, '15':0, '16':0, '17':0, '18':0, '19':0, '20':0, '21':0, '22':0,\n",
    "                 '23':0, '24':0, '25':0, '26':0, '27':0, '28':0, '29':0, '30':0, '31':0, '32':0, '33':0,\n",
    "                 '34':0, '35':0, '36':0, '0':0, '00':0}\n",
    "    zipped_array = zip(wheel,p,neighbor)\n",
    "    for i in zipped_array:\n",
    "        for j in range(len(i[2])):\n",
    "                neighbor_dic[i[2][j]] += i[1]\n",
    "                \n",
    "    return neighbor_dic"
   ]
  },
  {
   "cell_type": "code",
   "execution_count": 181,
   "metadata": {},
   "outputs": [
    {
     "data": {
      "text/plain": [
       "[0.23684210526315788,\n",
       " 0.23684210526315788,\n",
       " 0.23684210526315788,\n",
       " 0.23684210526315788,\n",
       " 0.23684210526315788,\n",
       " 0.23684210526315788,\n",
       " 0.23684210526315788,\n",
       " 0.23684210526315788,\n",
       " 0.23684210526315788,\n",
       " 0.23684210526315788,\n",
       " 0.23684210526315788,\n",
       " 0.23684210526315788,\n",
       " 0.23684210526315788,\n",
       " 0.23684210526315788,\n",
       " 0.23684210526315788,\n",
       " 0.23684210526315788,\n",
       " 0.23684210526315788,\n",
       " 0.23684210526315788,\n",
       " 0.23684210526315788,\n",
       " 0.23684210526315788,\n",
       " 0.23684210526315788,\n",
       " 0.23684210526315788,\n",
       " 0.23684210526315788,\n",
       " 0.23684210526315788,\n",
       " 0.23684210526315788,\n",
       " 0.23684210526315788,\n",
       " 0.23684210526315788,\n",
       " 0.23684210526315788,\n",
       " 0.23684210526315788,\n",
       " 0.23684210526315788,\n",
       " 0.23684210526315788,\n",
       " 0.23684210526315788,\n",
       " 0.23684210526315788,\n",
       " 0.23684210526315788,\n",
       " 0.23684210526315788,\n",
       " 0.23684210526315788,\n",
       " 0.23684210526315788,\n",
       " 0.23684210526315788]"
      ]
     },
     "execution_count": 181,
     "metadata": {},
     "output_type": "execute_result"
    }
   ],
   "source": [
    "list(getNeighborProb(np.ones(38)/38).values()) ???? Zaid this looks weird"
   ]
  },
  {
   "cell_type": "code",
   "execution_count": null,
   "metadata": {},
   "outputs": [],
   "source": []
  }
 ],
 "metadata": {
  "kernelspec": {
   "display_name": "Python 3",
   "language": "python",
   "name": "python3"
  },
  "language_info": {
   "codemirror_mode": {
    "name": "ipython",
    "version": 3
   },
   "file_extension": ".py",
   "mimetype": "text/x-python",
   "name": "python",
   "nbconvert_exporter": "python",
   "pygments_lexer": "ipython3",
   "version": "3.7.1"
  }
 },
 "nbformat": 4,
 "nbformat_minor": 2
}
