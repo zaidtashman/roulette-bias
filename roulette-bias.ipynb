{
 "cells": [
  {
   "cell_type": "code",
   "execution_count": 430,
   "metadata": {},
   "outputs": [],
   "source": [
    "import random as rnd\n",
    "import matplotlib.pyplot as plt\n",
    "import numpy as np\n",
    "import pandas as pd\n",
    "from IPython.core.pylabtools import figsize\n",
    "import pystan as ps\n",
    "import pickle\n",
    "from hashlib import md5\n",
    "# import pymc3 as pm\n",
    "# import theano.tensor as tt\n",
    "%matplotlib inline"
   ]
  },
  {
   "cell_type": "code",
   "execution_count": 185,
   "metadata": {},
   "outputs": [],
   "source": [
    "wheel = ['00','27','10','25','29','12','8','19','31','18','6','21','33',\n",
    "         '16','4','23','35','14','2','0','28','9','26','30','11','7','20',\n",
    "         '32','17','5','22','34','15','3','24','36','13','1']\n",
    "redblack = ['green', \n",
    "            'red', 'black', 'red', 'black', 'red', 'black', 'red', 'black', 'red', \n",
    "            'black', 'red', 'black','red', 'black', 'red', 'black', 'red', 'black', \n",
    "            'green', \n",
    "            'black', 'red', 'black', 'red', 'black', 'red', 'black', 'red', 'black', \n",
    "            'red', 'black', 'red', 'black', 'red', 'black', 'red', 'black', 'red']\n",
    "evenodd = ['none', \n",
    "           'odd', 'even', 'odd', 'odd', 'even', 'even', 'odd', 'odd', 'even', \n",
    "           'even', 'odd', 'odd', 'even', 'even', 'odd', 'odd', 'even', 'even', \n",
    "           'none', \n",
    "           'even', 'odd', 'even', 'even', 'odd', 'odd', 'even', 'even', 'odd', \n",
    "           'odd', 'even', 'even', 'odd', 'odd', 'even', 'even', 'odd', 'odd']\n",
    "lowhigh = ['none',\n",
    "          'high','low','high','high','low','low','high','high','low',\n",
    "           'low','high','high','low','low','high','high','low','low',\n",
    "          'none',\n",
    "          'high','low','high','high','low','low','high','high','low',\n",
    "           'low','high','high','low','low','high','high','low','low']\n",
    "dozens = ['none',\n",
    "         3,1,3,3,1,1,2,3,2,1,2,3,2,1,2,3,2,1,\n",
    "         'none',\n",
    "         3,1,3,3,1,1,2,3,2,1,2,3,2,1,2,3,2,1]\n",
    "columns = ['none',\n",
    "          3,1,1,2,3,2,1,1,3,3,3,3,1,1,2,2,2,2,\n",
    "          'none',\n",
    "          1,3,2,3,2,1,2,2,2,2,1,1,3,3,3,3,1,1]\n",
    "sixline = ['none',\n",
    "          ('8','9'),('3','4'),('8','9'),('9','10'),('3','4'),('2','3'),('6','7'),('10','11'),('5','6'),\n",
    "          ('1','2'),('6','7'),('10','11'),('5','6'),('1','2'),('7','8'),['11'],('4','5'),['1'],\n",
    "          'none',\n",
    "          ('9','10'),('2','3'),('8','9'),('9','10'),('3','4'),('2','3'),('6','7'),('10','11'),('5','6'),\n",
    "          ('1','2'),('7','8'),['11'],('4','5'),['1'],('7','8'),['11'],('4','5'),['1']]\n",
    "square = ['none',\n",
    "         ('16','18'),('5','7'),('15','17'),('17','18','19','20'),('6','8'),('3','4','5','6'),('11','13'),('19','21'),('10','12'),\n",
    "         ('2','4'),('12','14'),('20','22'),('9','11'),('1','3'),('13','14','15','16'),('21','22'),('7','8','9','10'),('1','2'),\n",
    "         'none',\n",
    "         ('17','19'),('4','6'),('15','16','17','18'),('18','20'),('5','6','7','8'),('3','5'),('11','12','13','14'),('19','20','21','22'),('9','10','11','12'),\n",
    "         ('1','2','3','4'),('13','15'),['21'],('8','10'),['2'],('14','16'),['22'],('7','9'),['1']]\n",
    "street = ['none',\n",
    "         '9','4','9','10','4','3','7','11','6','2','7','11','6','2','8','12','5','1',\n",
    "         'none',\n",
    "         '10','3','9','10','4','3','7','11','6','2','8','12','5','1','8','12','5','1']\n",
    "split = ['none',\n",
    "        ('40','42','45'),('13','16','18'),('38','41','43'),('44','46','47','49'),('15','17','20'),('9','11','12','14'),('28','31','33'),('48','51','53'),('25','27','30'),\n",
    "        ('5','7','10'),('30','32','35'),('50','52','55'),('23','26','28'),('3','6','8'),('34','36','37','39'),('54','56','57'),('19','21','22','24'),('1','2','4'),\n",
    "        'none',\n",
    "        ('43','46','48'),('10','12','15'),('39','41','42','44'),('45','47','50'),('14','16','17','19'),('8','11','13'),('29','31','32','34'),('49','51','52','54'),('24','26','27','29'),\n",
    "        ('4','6','7','9'),('33','36','38'),('53','56'),('20','22','25'),('2','5'),('35','37','40'),('55','57'),('18','21','23'),('1','3')]\n",
    "\n",
    "neighbor = []\n",
    "wheel2 = ['13','1','00','27','10','25','29','12','8','19','31','18','6','21','33',\n",
    "         '16','4','23','35','14','2','0','28','9','26','30','11','7','20',\n",
    "         '32','17','5','22','34','15','3','24','36','13','1','00','27']\n",
    "for i in range(len(wheel)):\n",
    "    n = wheel[i]\n",
    "    bet = wheel2[((i+2)-2):((i+2)+3)]\n",
    "    neighbor.append(bet)"
   ]
  },
  {
   "cell_type": "code",
   "execution_count": 761,
   "metadata": {},
   "outputs": [
    {
     "data": {
      "text/plain": [
       "[['13', '1', '00', '27', '10'],\n",
       " ['1', '00', '27', '10', '25'],\n",
       " ['00', '27', '10', '25', '29'],\n",
       " ['27', '10', '25', '29', '12'],\n",
       " ['10', '25', '29', '12', '8'],\n",
       " ['25', '29', '12', '8', '19'],\n",
       " ['29', '12', '8', '19', '31'],\n",
       " ['12', '8', '19', '31', '18'],\n",
       " ['8', '19', '31', '18', '6'],\n",
       " ['19', '31', '18', '6', '21'],\n",
       " ['31', '18', '6', '21', '33'],\n",
       " ['18', '6', '21', '33', '16'],\n",
       " ['6', '21', '33', '16', '4'],\n",
       " ['21', '33', '16', '4', '23'],\n",
       " ['33', '16', '4', '23', '35'],\n",
       " ['16', '4', '23', '35', '14'],\n",
       " ['4', '23', '35', '14', '2'],\n",
       " ['23', '35', '14', '2', '0'],\n",
       " ['35', '14', '2', '0', '28'],\n",
       " ['14', '2', '0', '28', '9'],\n",
       " ['2', '0', '28', '9', '26'],\n",
       " ['0', '28', '9', '26', '30'],\n",
       " ['28', '9', '26', '30', '11'],\n",
       " ['9', '26', '30', '11', '7'],\n",
       " ['26', '30', '11', '7', '20'],\n",
       " ['30', '11', '7', '20', '32'],\n",
       " ['11', '7', '20', '32', '17'],\n",
       " ['7', '20', '32', '17', '5'],\n",
       " ['20', '32', '17', '5', '22'],\n",
       " ['32', '17', '5', '22', '34'],\n",
       " ['17', '5', '22', '34', '15'],\n",
       " ['5', '22', '34', '15', '3'],\n",
       " ['22', '34', '15', '3', '24'],\n",
       " ['34', '15', '3', '24', '36'],\n",
       " ['15', '3', '24', '36', '13'],\n",
       " ['3', '24', '36', '13', '1'],\n",
       " ['24', '36', '13', '1', '00'],\n",
       " ['36', '13', '1', '00', '27']]"
      ]
     },
     "execution_count": 761,
     "metadata": {},
     "output_type": "execute_result"
    }
   ],
   "source": [
    "neighbor"
   ]
  },
  {
   "cell_type": "code",
   "execution_count": 441,
   "metadata": {},
   "outputs": [],
   "source": [
    "alpha = np.ones(38)\n",
    "alpha[10] = alpha[10]-(alpha[10]/2.0)\n",
    "alpha[11] = alpha[11]+alpha[10]\n",
    "dir_prob = np.random.dirichlet(alpha, 1)\n",
    "dir_prob = dir_prob.tolist()[0]"
   ]
  },
  {
   "cell_type": "code",
   "execution_count": 558,
   "metadata": {},
   "outputs": [
    {
     "data": {
      "text/plain": [
       "1.0000000000000007"
      ]
     },
     "execution_count": 558,
     "metadata": {},
     "output_type": "execute_result"
    }
   ],
   "source": [
    "dir_prob = np.ones(38)/43\n",
    "dir_prob[wheel.index('29')] = 2/43\n",
    "dir_prob[wheel.index('12')] = 2/43\n",
    "dir_prob[wheel.index('8')] = 2/43\n",
    "dir_prob[wheel.index('19')] = 2/43\n",
    "dir_prob[wheel.index('31')] = 2/43\n",
    "sum(dir_prob)"
   ]
  },
  {
   "cell_type": "code",
   "execution_count": 691,
   "metadata": {},
   "outputs": [],
   "source": [
    "spins = [wheel[x] for x in np.random.choice(38, size=5000, p=dir_prob)]"
   ]
  },
  {
   "cell_type": "code",
   "execution_count": 692,
   "metadata": {},
   "outputs": [],
   "source": [
    "# spins = np.array([])\n",
    "# for i in range(1000):\n",
    "#     spins = np.append(spins, np.array([rnd.choice(wheel)]))"
   ]
  },
  {
   "cell_type": "code",
   "execution_count": 693,
   "metadata": {},
   "outputs": [],
   "source": [
    "# spins"
   ]
  },
  {
   "cell_type": "code",
   "execution_count": 694,
   "metadata": {},
   "outputs": [
    {
     "name": "stdout",
     "output_type": "stream",
     "text": [
      "5000\n"
     ]
    }
   ],
   "source": [
    "print(len(spins))\n",
    "#print(spins)"
   ]
  },
  {
   "cell_type": "code",
   "execution_count": 695,
   "metadata": {},
   "outputs": [
    {
     "data": {
      "image/png": "[encoded data removed]",
      "text/plain": [
       "<Figure size 900x360 with 1 Axes>"
      ]
     },
     "metadata": {
      "needs_background": "light"
     },
     "output_type": "display_data"
    }
   ],
   "source": [
    "figsize(12.5, 5)\n",
    "plt.hist(spins, normed=True, bins=38)\n",
    "plt.ylabel('Probability');"
   ]
  },
  {
   "cell_type": "code",
   "execution_count": 696,
   "metadata": {},
   "outputs": [],
   "source": [
    "spins_count = {x : 0 for x in wheel}"
   ]
  },
  {
   "cell_type": "code",
   "execution_count": 697,
   "metadata": {},
   "outputs": [],
   "source": [
    "for i in spins:\n",
    "    spins_count[i] += 1"
   ]
  },
  {
   "cell_type": "code",
   "execution_count": 698,
   "metadata": {},
   "outputs": [],
   "source": [
    "counts = np.array(list(spins_count.values()))"
   ]
  },
  {
   "cell_type": "code",
   "execution_count": 699,
   "metadata": {},
   "outputs": [],
   "source": [
    "model = \"\"\"\n",
    "data {\n",
    "  int<lower=1> m;\n",
    "  int counts[m];\n",
    "  vector<lower=0>[m] priors;\n",
    "}\n",
    "\n",
    "parameters {\n",
    "  simplex[m] p;\n",
    "}\n",
    "\n",
    "model {\n",
    "  p ~ dirichlet(priors);\n",
    "  counts ~ multinomial(p);\n",
    "}\n",
    "\"\"\""
   ]
  },
  {
   "cell_type": "code",
   "execution_count": 700,
   "metadata": {},
   "outputs": [],
   "source": [
    "def StanModel_cache(model_code, model_name=None, **kwargs):\n",
    "    \"\"\"Use just as you would `stan`\"\"\"\n",
    "    code_hash = md5(model_code.encode('ascii')).hexdigest()\n",
    "    if model_name is None:\n",
    "        cache_fn = 'cached-model-{}.pkl'.format(code_hash)\n",
    "    else:\n",
    "        cache_fn = 'cached-{}-{}.pkl'.format(model_name, code_hash)\n",
    "    try:\n",
    "        sm = pickle.load(open(cache_fn, 'rb'))\n",
    "    except:\n",
    "        sm = ps.StanModel(model_code=model_code)\n",
    "        with open(cache_fn, 'wb') as f:\n",
    "            pickle.dump(sm, f)\n",
    "    else:\n",
    "        print(\"Using cached StanModel\")\n",
    "    return sm"
   ]
  },
  {
   "cell_type": "code",
   "execution_count": 701,
   "metadata": {},
   "outputs": [
    {
     "name": "stdout",
     "output_type": "stream",
     "text": [
      "Using cached StanModel\n"
     ]
    }
   ],
   "source": [
    "# stanmodel = ps.StanModel(model_code=model)\n",
    "stanmodel = StanModel_cache(model_code=model)"
   ]
  },
  {
   "cell_type": "code",
   "execution_count": 702,
   "metadata": {},
   "outputs": [],
   "source": [
    "data = {'m':38, 'counts':counts, 'priors':np.ones(38)}"
   ]
  },
  {
   "cell_type": "code",
   "execution_count": 703,
   "metadata": {},
   "outputs": [],
   "source": [
    "fit = stanmodel.sampling(data=data)"
   ]
  },
  {
   "cell_type": "code",
   "execution_count": 704,
   "metadata": {},
   "outputs": [],
   "source": [
    "#fit.plot()\n",
    "fit_par = fit.extract(permuted=True)"
   ]
  },
  {
   "cell_type": "code",
   "execution_count": 705,
   "metadata": {},
   "outputs": [
    {
     "data": {
      "text/plain": [
       "(4000, 38)"
      ]
     },
     "execution_count": 705,
     "metadata": {},
     "output_type": "execute_result"
    }
   ],
   "source": [
    "fit_par['p'].shape"
   ]
  },
  {
   "cell_type": "code",
   "execution_count": 706,
   "metadata": {},
   "outputs": [],
   "source": [
    "fit_samples = fit_par['p']"
   ]
  },
  {
   "cell_type": "code",
   "execution_count": 707,
   "metadata": {},
   "outputs": [],
   "source": [
    "# fit_samples[3999]"
   ]
  },
  {
   "cell_type": "code",
   "execution_count": 708,
   "metadata": {},
   "outputs": [],
   "source": [
    "def getRedBlackProb(p):\n",
    "    redblack_dic = {'red':0, 'black':0, 'green':0}\n",
    "    zipped_array = zip(wheel,p,redblack)\n",
    "    for i in zipped_array:\n",
    "        if i[2] == 'green':\n",
    "            redblack_dic['green'] += i[1]\n",
    "        elif i[2] == 'red':\n",
    "            redblack_dic['red'] += i[1]\n",
    "        else:\n",
    "            redblack_dic['black'] += i[1]\n",
    "            \n",
    "    return redblack_dic"
   ]
  },
  {
   "cell_type": "code",
   "execution_count": 709,
   "metadata": {},
   "outputs": [],
   "source": [
    "# list(getRedBlackProb(np.ones(38)/38).values())"
   ]
  },
  {
   "cell_type": "code",
   "execution_count": 710,
   "metadata": {},
   "outputs": [],
   "source": [
    "def getEvenOddProb(p):\n",
    "    evenodd_dic = {'even':0, 'odd':0, 'none':0}\n",
    "    zipped_array = zip(wheel,p,evenodd)\n",
    "    for i in zipped_array:\n",
    "        if i[2] == 'even':\n",
    "            evenodd_dic['even'] += i[1]\n",
    "        elif i[2] == 'odd':\n",
    "            evenodd_dic['odd'] += i[1]\n",
    "        else:\n",
    "            evenodd_dic['none'] += i[1]\n",
    "            \n",
    "    return evenodd_dic"
   ]
  },
  {
   "cell_type": "code",
   "execution_count": 711,
   "metadata": {},
   "outputs": [],
   "source": [
    "# list(getEvenOddProb(np.ones(38)/38).values())"
   ]
  },
  {
   "cell_type": "code",
   "execution_count": 712,
   "metadata": {},
   "outputs": [],
   "source": [
    "def getLowHighProb(p):\n",
    "    lowhigh_dic = {'low':0, 'high':0, 'none':0}\n",
    "    zipped_array = zip(wheel,p,lowhigh)\n",
    "    for i in zipped_array:\n",
    "        if i[2] == 'low':\n",
    "            lowhigh_dic['low'] += i[1]\n",
    "        elif i[2] == 'high':\n",
    "            lowhigh_dic['high'] += i[1]\n",
    "        else:\n",
    "            lowhigh_dic['none'] += i[1]\n",
    "            \n",
    "    return lowhigh_dic"
   ]
  },
  {
   "cell_type": "code",
   "execution_count": 713,
   "metadata": {},
   "outputs": [],
   "source": [
    "# list(getLowHighProb(np.ones(38)/38).values())"
   ]
  },
  {
   "cell_type": "code",
   "execution_count": 714,
   "metadata": {},
   "outputs": [],
   "source": [
    "def getDozensProb(p):\n",
    "    dozens_dic = {'1':0, '2':0, '3':0, 'none':0}\n",
    "    zipped_array = zip(wheel,p,dozens)\n",
    "    for i in zipped_array:\n",
    "        if i[2] == 1:\n",
    "            dozens_dic['1'] += i[1]\n",
    "        elif i[2] == 2:\n",
    "            dozens_dic['2'] += i[1]\n",
    "        elif i[2] == 3:\n",
    "            dozens_dic['3'] += i[1]\n",
    "        else:\n",
    "            dozens_dic['none'] += i[1]\n",
    "            \n",
    "    return dozens_dic"
   ]
  },
  {
   "cell_type": "code",
   "execution_count": 715,
   "metadata": {},
   "outputs": [],
   "source": [
    "# list(getDozensProb(np.ones(38)/38).values())"
   ]
  },
  {
   "cell_type": "code",
   "execution_count": 716,
   "metadata": {},
   "outputs": [],
   "source": [
    "def getColumnsProb(p):\n",
    "    columns_dic = {'1':0, '2':0, '3':0, 'none':0}\n",
    "    zipped_array = zip(wheel,p,columns)\n",
    "    for i in zipped_array:\n",
    "        if i[2] == 1:\n",
    "            columns_dic['1'] += i[1]\n",
    "        elif i[2] == 2:\n",
    "            columns_dic['2'] += i[1]\n",
    "        elif i[2] == 3:\n",
    "            columns_dic['3'] += i[1]\n",
    "        else:\n",
    "            columns_dic['none'] += i[1]\n",
    "            \n",
    "    return columns_dic"
   ]
  },
  {
   "cell_type": "code",
   "execution_count": 717,
   "metadata": {},
   "outputs": [],
   "source": [
    "# list(getColumnsProb(np.ones(38)/38).values())"
   ]
  },
  {
   "cell_type": "code",
   "execution_count": 718,
   "metadata": {},
   "outputs": [],
   "source": [
    "def getSixlineProb(p):\n",
    "    sixline_dic = {'1':0, '2':0, '3':0, '4':0, '5':0, '6':0, '7':0, '8':0, '9':0, '10':0, '11':0, 'none':0}\n",
    "    zipped_array = zip(wheel,p,sixline)\n",
    "    for i in zipped_array:\n",
    "        if i[2] == 'none':\n",
    "            sixline_dic['none'] += i[1]\n",
    "        else:\n",
    "            for j in range(len(i[2])):\n",
    "                sixline_dic[i[2][j]] += i[1]\n",
    "                \n",
    "    return sixline_dic"
   ]
  },
  {
   "cell_type": "code",
   "execution_count": 719,
   "metadata": {},
   "outputs": [],
   "source": [
    "# list(getSixlineProb(np.ones(38)/38).values())"
   ]
  },
  {
   "cell_type": "code",
   "execution_count": 720,
   "metadata": {},
   "outputs": [],
   "source": [
    "def getSquareProb(p):\n",
    "    square_dic = {'1':0, '2':0, '3':0, '4':0, '5':0, '6':0, '7':0, '8':0, '9':0, '10':0, '11':0, \n",
    "                  '12':0, '13':0, '14':0, '15':0, '16':0, '17':0, '18':0, '19':0, '20':0, '21':0, '22':0, 'none':0}\n",
    "    zipped_array = zip(wheel,p,square)\n",
    "    for i in zipped_array:\n",
    "        if i[2] == 'none':\n",
    "            square_dic['none'] += i[1]\n",
    "        else:\n",
    "            for j in range(len(i[2])):\n",
    "                square_dic[i[2][j]] += i[1]\n",
    "                \n",
    "    return square_dic"
   ]
  },
  {
   "cell_type": "code",
   "execution_count": 721,
   "metadata": {},
   "outputs": [],
   "source": [
    "# list(getSquareProb(np.ones(38)/38).values())"
   ]
  },
  {
   "cell_type": "code",
   "execution_count": 722,
   "metadata": {},
   "outputs": [],
   "source": [
    "def getStreetProb(p):\n",
    "    street_dic = {'1':0, '2':0, '3':0, '4':0, '5':0, '6':0, '7':0, '8':0, '9':0, '10':0, '11':0, '12':0, 'none':0}\n",
    "    zipped_array = zip(wheel,p,street)\n",
    "    for i in zipped_array:\n",
    "        if i[2] == 'none':\n",
    "            street_dic['none'] += i[1]\n",
    "        else:\n",
    "            street_dic[i[2]] += i[1]\n",
    "                \n",
    "    return street_dic"
   ]
  },
  {
   "cell_type": "code",
   "execution_count": 723,
   "metadata": {},
   "outputs": [],
   "source": [
    "# list(getStreetProb(np.ones(38)/38).values())"
   ]
  },
  {
   "cell_type": "code",
   "execution_count": 724,
   "metadata": {},
   "outputs": [],
   "source": [
    "def getSplitProb(p):\n",
    "    split_dic = {'1':0, '2':0, '3':0, '4':0, '5':0, '6':0, '7':0, '8':0, '9':0, '10':0, '11':0, \n",
    "                 '12':0, '13':0, '14':0, '15':0, '16':0, '17':0, '18':0, '19':0, '20':0, '21':0, '22':0,\n",
    "                 '23':0, '24':0, '25':0, '26':0, '27':0, '28':0, '29':0, '30':0, '31':0, '32':0, '33':0,\n",
    "                 '34':0, '35':0, '36':0, '37':0, '38':0, '39':0, '40':0, '41':0, '42':0, '43':0, '44':0,\n",
    "                 '45':0, '46':0, '47':0, '48':0, '49':0, '50':0, '51':0, '52':0, '53':0, '54':0, '55':0,\n",
    "                 '56':0, '57':0, 'none':0}\n",
    "    zipped_array = zip(wheel,p,split)\n",
    "    for i in zipped_array:\n",
    "        if i[2] == 'none':\n",
    "            split_dic['none'] += i[1]\n",
    "        else:\n",
    "            for j in range(len(i[2])):\n",
    "                split_dic[i[2][j]] += i[1]\n",
    "                \n",
    "    return split_dic"
   ]
  },
  {
   "cell_type": "code",
   "execution_count": 725,
   "metadata": {},
   "outputs": [],
   "source": [
    "# list(getSplitProb(np.ones(38)/38).values())"
   ]
  },
  {
   "cell_type": "code",
   "execution_count": 726,
   "metadata": {},
   "outputs": [],
   "source": [
    "def getNeighborProb(p):\n",
    "    neighbor_dic = {'1':0, '2':0, '3':0, '4':0, '5':0, '6':0, '7':0, '8':0, '9':0, '10':0, '11':0, \n",
    "                  '12':0, '13':0, '14':0, '15':0, '16':0, '17':0, '18':0, '19':0, '20':0, '21':0, '22':0,\n",
    "                 '23':0, '24':0, '25':0, '26':0, '27':0, '28':0, '29':0, '30':0, '31':0, '32':0, '33':0,\n",
    "                 '34':0, '35':0, '36':0, '0':0, '00':0}\n",
    "    zipped_array = zip(wheel,p,neighbor)\n",
    "    for i in zipped_array:\n",
    "        for j in range(len(i[2])):\n",
    "                neighbor_dic[i[2][j]] += i[1]\n",
    "                \n",
    "    return neighbor_dic"
   ]
  },
  {
   "cell_type": "code",
   "execution_count": 727,
   "metadata": {},
   "outputs": [],
   "source": [
    "# list(getNeighborProb(np.ones(38)/38).values())"
   ]
  },
  {
   "cell_type": "code",
   "execution_count": 728,
   "metadata": {},
   "outputs": [
    {
     "data": {
      "text/plain": [
       "array([0.02103573, 0.01964485, 0.02619752, 0.02423585, 0.04305216,\n",
       "       0.04166604, 0.04687736, 0.04425515, 0.0452353 , 0.02047262,\n",
       "       0.02441216, 0.02556499, 0.02520861, 0.02365313, 0.02421407,\n",
       "       0.02761151, 0.02657969, 0.02161424, 0.02396914, 0.02562497,\n",
       "       0.02424751, 0.02556728, 0.0230387 , 0.02179584, 0.02086163,\n",
       "       0.02126336, 0.02384325, 0.01986836, 0.02182001, 0.02361125,\n",
       "       0.02525314, 0.02742716, 0.02244184, 0.02163493, 0.02696797,\n",
       "       0.02126902, 0.02457856, 0.02338509])"
      ]
     },
     "execution_count": 728,
     "metadata": {},
     "output_type": "execute_result"
    }
   ],
   "source": [
    "single_prob = np.mean(fit_samples, axis=0)\n",
    "single_prob"
   ]
  },
  {
   "cell_type": "code",
   "execution_count": 729,
   "metadata": {},
   "outputs": [
    {
     "data": {
      "text/plain": [
       "array([0.04735424, 0.04560408, 0.04759916, 0.0475804 , 0.04604709,\n",
       "       0.04782532, 0.04802341, 0.04547743, 0.07048861, 0.04997944,\n",
       "       0.06814072, 0.07244464, 0.04746088, 0.06773899, 0.06723332,\n",
       "       0.04705915, 0.06252767, 0.05077608, 0.04247588, 0.06410788,\n",
       "       0.0461928 , 0.04405609, 0.04823169, 0.04343426, 0.04291447,\n",
       "       0.04547315, 0.04229264, 0.06790828, 0.04566326, 0.04603761,\n",
       "       0.0680984 , 0.04940824, 0.06950828, 0.05145476, 0.05253296,\n",
       "       0.05286465, 0.05457948, 0.04948899, 0.05065021, 0.04661282,\n",
       "       0.04727455, 0.04268355, 0.04848336, 0.06609086, 0.04144069,\n",
       "       0.06729967, 0.06484799, 0.06948281, 0.06292052, 0.04700445,\n",
       "       0.06510367, 0.04507697, 0.07266246, 0.04644805, 0.04647763,\n",
       "       0.05400684, 0.0478487 , 0.0466607 ])"
      ]
     },
     "execution_count": 729,
     "metadata": {},
     "output_type": "execute_result"
    }
   ],
   "source": [
    "split_prob = np.mean([list(getSplitProb(x).values()) for x in fit_samples], axis=0)\n",
    "split_prob"
   ]
  },
  {
   "cell_type": "code",
   "execution_count": 730,
   "metadata": {},
   "outputs": [
    {
     "data": {
      "text/plain": [
       "array([0.06898917, 0.07223748, 0.093708  , 0.08872518, 0.06863465,\n",
       "       0.06594577, 0.09366338, 0.07983262, 0.0669194 , 0.08909551,\n",
       "       0.09031228, 0.07527586, 0.0466607 ])"
      ]
     },
     "execution_count": 730,
     "metadata": {},
     "output_type": "execute_result"
    }
   ],
   "source": [
    "street_prob = np.mean([list(getStreetProb(x).values()) for x in fit_samples], axis=0)\n",
    "street_prob"
   ]
  },
  {
   "cell_type": "code",
   "execution_count": 731,
   "metadata": {},
   "outputs": [
    {
     "data": {
      "text/plain": [
       "array([0.09517956, 0.09362749, 0.11596604, 0.12046805, 0.11519987,\n",
       "       0.13497231, 0.09325195, 0.10658376, 0.09166595, 0.08634872,\n",
       "       0.11357154, 0.09170087, 0.12096305, 0.10398772, 0.1001392 ,\n",
       "       0.09726303, 0.11457422, 0.10753155, 0.13240334, 0.10992497,\n",
       "       0.11911051, 0.09292567, 0.0466607 ])"
      ]
     },
     "execution_count": 731,
     "metadata": {},
     "output_type": "execute_result"
    }
   ],
   "source": [
    "square_prob = np.mean([list(getSquareProb(x).values()) for x in fit_samples], axis=0)\n",
    "square_prob"
   ]
  },
  {
   "cell_type": "code",
   "execution_count": 732,
   "metadata": {},
   "outputs": [
    {
     "data": {
      "text/plain": [
       "array([0.14122665, 0.16594548, 0.18243319, 0.15735983, 0.13458042,\n",
       "       0.15960915, 0.173496  , 0.14675202, 0.15601491, 0.17940778,\n",
       "       0.16558814, 0.0466607 ])"
      ]
     },
     "execution_count": 732,
     "metadata": {},
     "output_type": "execute_result"
    }
   ],
   "source": [
    "sixline_prob = np.mean([list(getSixlineProb(x).values()) for x in fit_samples], axis=0)\n",
    "sixline_prob"
   ]
  },
  {
   "cell_type": "code",
   "execution_count": 733,
   "metadata": {},
   "outputs": [
    {
     "data": {
      "text/plain": [
       "array([0.33394584, 0.32274731, 0.29664615, 0.0466607 ])"
      ]
     },
     "execution_count": 733,
     "metadata": {},
     "output_type": "execute_result"
    }
   ],
   "source": [
    "columns_prob = np.mean([list(getColumnsProb(x).values()) for x in fit_samples], axis=0)\n",
    "columns_prob"
   ]
  },
  {
   "cell_type": "code",
   "execution_count": 734,
   "metadata": {},
   "outputs": [
    {
     "data": {
      "text/plain": [
       "array([0.32365984, 0.30807642, 0.32160304, 0.0466607 ])"
      ]
     },
     "execution_count": 734,
     "metadata": {},
     "output_type": "execute_result"
    }
   ],
   "source": [
    "dozens_prob = np.mean([list(getDozensProb(x).values()) for x in fit_samples], axis=0)\n",
    "dozens_prob"
   ]
  },
  {
   "cell_type": "code",
   "execution_count": 735,
   "metadata": {},
   "outputs": [
    {
     "data": {
      "text/plain": [
       "array([0.45824025, 0.49509905, 0.0466607 ])"
      ]
     },
     "execution_count": 735,
     "metadata": {},
     "output_type": "execute_result"
    }
   ],
   "source": [
    "lowhigh_prob = np.mean([list(getLowHighProb(x).values()) for x in fit_samples], axis=0)\n",
    "lowhigh_prob "
   ]
  },
  {
   "cell_type": "code",
   "execution_count": 736,
   "metadata": {},
   "outputs": [
    {
     "data": {
      "text/plain": [
       "array([0.46678722, 0.48655208, 0.0466607 ])"
      ]
     },
     "execution_count": 736,
     "metadata": {},
     "output_type": "execute_result"
    }
   ],
   "source": [
    "evenodd_prob = np.mean([list(getEvenOddProb(x).values()) for x in fit_samples], axis=0)\n",
    "evenodd_prob "
   ]
  },
  {
   "cell_type": "code",
   "execution_count": 737,
   "metadata": {},
   "outputs": [
    {
     "data": {
      "text/plain": [
       "array([0.45454068, 0.49879862, 0.0466607 ])"
      ]
     },
     "execution_count": 737,
     "metadata": {},
     "output_type": "execute_result"
    }
   ],
   "source": [
    "redblack_prob = np.mean([list(getRedBlackProb(x).values()) for x in fit_samples], axis=0)\n",
    "redblack_prob"
   ]
  },
  {
   "cell_type": "code",
   "execution_count": 738,
   "metadata": {},
   "outputs": [
    {
     "data": {
      "text/plain": [
       "array([0.10991325, 0.12203556, 0.11974092, 0.12726701, 0.11797992,\n",
       "       0.14089368, 0.10763244, 0.221086  , 0.1202743 , 0.1341661 ,\n",
       "       0.11080278, 0.20008655, 0.11723636, 0.12539956, 0.12372504,\n",
       "       0.12625232, 0.11439601, 0.15994022, 0.19850647, 0.10765662,\n",
       "       0.11931151, 0.1205534 , 0.12367265, 0.11689232, 0.15479641,\n",
       "       0.11551096, 0.11449904, 0.12244761, 0.18202892, 0.11252681,\n",
       "       0.18125259, 0.11040624, 0.12305296, 0.12036832, 0.12398866,\n",
       "       0.11783557, 0.12102315, 0.11484175])"
      ]
     },
     "execution_count": 738,
     "metadata": {},
     "output_type": "execute_result"
    }
   ],
   "source": [
    "neighbor_prob = np.mean([list(getNeighborProb(x).values()) for x in fit_samples], axis=0)\n",
    "neighbor_prob"
   ]
  },
  {
   "cell_type": "code",
   "execution_count": 739,
   "metadata": {},
   "outputs": [],
   "source": [
    "single_pay = np.ones(38)*35\n",
    "split_pay = np.ones(57)*17\n",
    "street_pay = np.ones(12)*11\n",
    "square_pay = np.ones(22)*8\n",
    "sixline_pay = np.ones(11)*5\n",
    "column_pay = np.ones(3)*2\n",
    "dozen_pay = np.ones(3)*2\n",
    "lowhigh_pay = np.ones(2)*1\n",
    "evenodd_pay = np.ones(2)*1\n",
    "redblack_pay = np.ones(2)*1\n",
    "neighbor_pay = np.ones(38)*(35/5)"
   ]
  },
  {
   "cell_type": "code",
   "execution_count": 740,
   "metadata": {},
   "outputs": [],
   "source": [
    "single_cover = np.ones(38)*1\n",
    "split_cover = np.ones(57)*2\n",
    "street_cover = np.ones(12)*3\n",
    "square_cover = np.ones(22)*4\n",
    "sixline_cover = np.ones(11)*6\n",
    "column_cover = np.ones(3)*12\n",
    "dozen_cover = np.ones(3)*12\n",
    "lowhigh_cover = np.ones(2)*18\n",
    "evenodd_cover = np.ones(2)*18\n",
    "redblack_cover = np.ones(2)*18\n",
    "neighbor_cover = np.ones(38)*5"
   ]
  },
  {
   "cell_type": "code",
   "execution_count": 741,
   "metadata": {},
   "outputs": [],
   "source": [
    "single_expected = single_prob * single_pay + (1-single_prob) * -1\n",
    "split_expected = split_prob[:-1] * split_pay + (1-split_prob[:-1]) * -1\n",
    "street_expected = street_prob[:-1] * street_pay + (1-street_prob[:-1]) * -1\n",
    "square_expected = square_prob[:-1] * square_pay + (1-square_prob[:-1]) * -1\n",
    "sixline_expected = sixline_prob[:-1] * sixline_pay + (1-sixline_prob[:-1]) * -1\n",
    "column_expected = columns_prob[:-1] * column_pay + (1-columns_prob[:-1]) * -1\n",
    "dozen_expected = dozens_prob[:-1] * dozen_pay + (1-dozens_prob[:-1]) * -1\n",
    "lowhigh_expected = lowhigh_prob[:-1] * lowhigh_pay + (1-lowhigh_prob[:-1]) * -1\n",
    "evenodd_expected = evenodd_prob[:-1] * evenodd_pay + (1-evenodd_prob[:-1]) * -1\n",
    "redblack_expected = redblack_prob[:-1] * redblack_pay + (1-redblack_prob[:-1]) * -1\n",
    "neighbor_expected = neighbor_prob * neighbor_pay + (1-neighbor_prob) * -1"
   ]
  },
  {
   "cell_type": "code",
   "execution_count": 762,
   "metadata": {},
   "outputs": [
    {
     "data": {
      "text/plain": [
       "array([-0.120694  , -0.02371554, -0.04207267,  0.01813611, -0.05616063,\n",
       "        0.12714948, -0.13894046,  0.76868804, -0.03780558,  0.07332883,\n",
       "       -0.11357777,  0.60069241, -0.0621091 ,  0.00319649, -0.01019971,\n",
       "        0.01001854, -0.0848319 ,  0.27952176,  0.58805176, -0.13874706,\n",
       "       -0.04550789, -0.03557278, -0.01061883, -0.06486144,  0.23837131,\n",
       "       -0.07591231, -0.08400769, -0.02041913,  0.45623136, -0.09978551,\n",
       "        0.45002073, -0.11675011, -0.01557631, -0.03705342, -0.00809075,\n",
       "       -0.05731545, -0.03181478, -0.081266  ])"
      ]
     },
     "execution_count": 762,
     "metadata": {},
     "output_type": "execute_result"
    }
   ],
   "source": [
    "neighbor_expected"
   ]
  },
  {
   "cell_type": "code",
   "execution_count": 742,
   "metadata": {},
   "outputs": [],
   "source": [
    "single_bet_dic = {\n",
    "    i:x for i,x in enumerate(wheel)\n",
    "}"
   ]
  },
  {
   "cell_type": "code",
   "execution_count": 743,
   "metadata": {},
   "outputs": [],
   "source": [
    "rest_bet_dic = {\n",
    "    38: 'sp:1-2', 39: 'sp:2-3', 40: 'sp:1-4', 41: 'sp:2-5', 42: 'sp:3-6', \n",
    "    43: 'sp:4-5', 44: 'sp:5-6', 45: 'sp:4-7', 46: 'sp:5-8', 47: 'sp:6-9', \n",
    "    48: 'sp:7-8', 49: 'sp:8-9', 50: 'sp:7-10', 51: 'sp:8-11', 52: 'sp:9-12', \n",
    "    53: 'sp:10-11', 54: 'sp:11-12', 55: 'sp:10-13', 56: 'sp:11-14', 57: 'sp:12-15', \n",
    "    58: 'sp:13-14', 59: 'sp:14-15', 60: 'sp:13-16', 61: 'sp:14-17', 62: 'sp:15-18', \n",
    "    63: 'sp:16-17', 64: 'sp:17-18', 65: 'sp:16-19', 66: 'sp:17-20', 67: 'sp:18-21', \n",
    "    68: 'sp:19-20', 69: 'sp:20-21', 70: 'sp:19-22', 71: 'sp:20-23', 72: 'sp:21-24', \n",
    "    73: 'sp:22-23', 74: 'sp:23-24', 75: 'sp:22-25', 76: 'sp:23-26', 77: 'sp:24-27', \n",
    "    78: 'sp:25-26', 79: 'sp:26-27', 80: 'sp:25-28', 81: 'sp:26-29', 82: 'sp:27-30', \n",
    "    83: 'sp:31-32', 84: 'sp:32-33', 85: 'sp:31-34', 86: 'sp:32-35', 87: 'sp:33-36', \n",
    "    88: 'sp:34-35', 89: 'sp:35-36',\n",
    "    90: 'st:1-2-3', 91: 'st:4-5-6', 92: 'st:7-8-9', 93: 'st:10-11-12', 94: 'st:13-14-15', 95: 'st:13-14-15',\n",
    "    96: 'st:16-17-18', 97: 'st:19-20-21', 98: 'st:22-23-24', 99: 'st:25-26-27', 100: 'st:28-29-30', 101: 'st:31-32-33',\n",
    "    102: 'st:34-35-36',\n",
    "    103: 'sq:1/2/4/5', 104: 'sq:2/3/5/6', 105: 'sq:4/5/7/8', 106: 'sq:5/6/8/9', 107: 'sq:7/8/10/11', \n",
    "    108: 'sq:8/9/11/12', 109: 'sq:10/11/13/14', 110: 'sq:11/12/14/15', 111: 'sq:13/14/16/17', 112: 'sq:14/15/17/18',\n",
    "    113: 'sq:16/17/19/20', 114: 'sq:17/18/20/21', 115: 'sq:19/20/22/23', 116: 'sq:20/21/23/24', 117: 'sq:22/23/25/26',\n",
    "    118: 'sq:23/24/26/27', 119: 'sq:25/26/28/29', 120: 'sq:26/27/29/30', 121: 'sq:28/29/31/32', 122: 'sq:29/30/32/33',\n",
    "    123: 'sq:31/32/34/35', 124: 'sq:32/33/35/36',\n",
    "    125: 'sx:3-6', 126: 'sx:=6-9', 127: 'sx:9-12', 128: 'sx:12-15', 129: 'sx:15-18', 130: 'sx:18-21', \n",
    "    131: 'sx:21-24', 132: 'sx:24-27', 133: 'sx:27-30', 134: 'sx:30-33', 135: 'sx:33-36', \n",
    "    136: 'c:1', 137: 'c:2', 138: 'c:3',\n",
    "    139: 'd:1', 140: 'd:2', 141: 'd:3',\n",
    "    142: 'low', 143: 'high',\n",
    "    144: 'even', 145: 'odd',\n",
    "    146: 'red', 147: 'black'\n",
    "}   "
   ]
  },
  {
   "cell_type": "code",
   "execution_count": 744,
   "metadata": {},
   "outputs": [],
   "source": [
    "neighbor_bet_dic = {\n",
    "    i+148:'n:{}'.format(x) for i,x in enumerate(wheel)\n",
    "}"
   ]
  },
  {
   "cell_type": "code",
   "execution_count": 763,
   "metadata": {},
   "outputs": [
    {
     "data": {
      "text/plain": [
       "{148: 'n:00',\n",
       " 149: 'n:27',\n",
       " 150: 'n:10',\n",
       " 151: 'n:25',\n",
       " 152: 'n:29',\n",
       " 153: 'n:12',\n",
       " 154: 'n:8',\n",
       " 155: 'n:19',\n",
       " 156: 'n:31',\n",
       " 157: 'n:18',\n",
       " 158: 'n:6',\n",
       " 159: 'n:21',\n",
       " 160: 'n:33',\n",
       " 161: 'n:16',\n",
       " 162: 'n:4',\n",
       " 163: 'n:23',\n",
       " 164: 'n:35',\n",
       " 165: 'n:14',\n",
       " 166: 'n:2',\n",
       " 167: 'n:0',\n",
       " 168: 'n:28',\n",
       " 169: 'n:9',\n",
       " 170: 'n:26',\n",
       " 171: 'n:30',\n",
       " 172: 'n:11',\n",
       " 173: 'n:7',\n",
       " 174: 'n:20',\n",
       " 175: 'n:32',\n",
       " 176: 'n:17',\n",
       " 177: 'n:5',\n",
       " 178: 'n:22',\n",
       " 179: 'n:34',\n",
       " 180: 'n:15',\n",
       " 181: 'n:3',\n",
       " 182: 'n:24',\n",
       " 183: 'n:36',\n",
       " 184: 'n:13',\n",
       " 185: 'n:1'}"
      ]
     },
     "execution_count": 763,
     "metadata": {},
     "output_type": "execute_result"
    }
   ],
   "source": [
    "neighbor_bet_dic"
   ]
  },
  {
   "cell_type": "code",
   "execution_count": 745,
   "metadata": {},
   "outputs": [],
   "source": [
    "bet_dic = {**single_bet_dic, **rest_bet_dic, **neighbor_bet_dic}\n",
    "# bet_dic"
   ]
  },
  {
   "cell_type": "code",
   "execution_count": 746,
   "metadata": {},
   "outputs": [
    {
     "data": {
      "text/plain": [
       "186"
      ]
     },
     "execution_count": 746,
     "metadata": {},
     "output_type": "execute_result"
    }
   ],
   "source": [
    "len(list(bet_dic.keys()))"
   ]
  },
  {
   "cell_type": "code",
   "execution_count": 747,
   "metadata": {},
   "outputs": [],
   "source": [
    "bet_prob = np.hstack([single_prob,split_prob,street_prob,square_prob,sixline_prob,columns_prob,dozens_prob,lowhigh_prob,evenodd_prob,redblack_prob,neighbor_prob])\n",
    "# bet_prob"
   ]
  },
  {
   "cell_type": "code",
   "execution_count": 748,
   "metadata": {},
   "outputs": [],
   "source": [
    "bet_expected = np.hstack([single_expected,split_expected,street_expected,square_expected,sixline_expected,column_expected,dozen_expected,lowhigh_expected,evenodd_expected,redblack_expected,neighbor_expected])\n",
    "# bet_expected"
   ]
  },
  {
   "cell_type": "code",
   "execution_count": 749,
   "metadata": {},
   "outputs": [
    {
     "data": {
      "text/plain": [
       "159"
      ]
     },
     "execution_count": 749,
     "metadata": {},
     "output_type": "execute_result"
    }
   ],
   "source": [
    "bet_expected.argmax()"
   ]
  },
  {
   "cell_type": "code",
   "execution_count": 750,
   "metadata": {},
   "outputs": [
    {
     "data": {
      "text/plain": [
       "0.7686880372247473"
      ]
     },
     "execution_count": 750,
     "metadata": {},
     "output_type": "execute_result"
    }
   ],
   "source": [
    "bet_expected[bet_expected.argmax()]"
   ]
  },
  {
   "cell_type": "code",
   "execution_count": 751,
   "metadata": {},
   "outputs": [
    {
     "data": {
      "text/plain": [
       "'n:21'"
      ]
     },
     "execution_count": 751,
     "metadata": {},
     "output_type": "execute_result"
    }
   ],
   "source": [
    "bet_dic[bet_expected.argmax()]"
   ]
  },
  {
   "cell_type": "code",
   "execution_count": 752,
   "metadata": {},
   "outputs": [
    {
     "data": {
      "text/plain": [
       "0.49879861596451414"
      ]
     },
     "execution_count": 752,
     "metadata": {},
     "output_type": "execute_result"
    }
   ],
   "source": [
    "bet_prob[bet_prob.argmax()]"
   ]
  },
  {
   "cell_type": "code",
   "execution_count": 753,
   "metadata": {},
   "outputs": [
    {
     "data": {
      "text/plain": [
       "'n:21'"
      ]
     },
     "execution_count": 753,
     "metadata": {},
     "output_type": "execute_result"
    }
   ],
   "source": [
    "bet_dic[bet_prob.argmax()]"
   ]
  },
  {
   "cell_type": "code",
   "execution_count": 758,
   "metadata": {},
   "outputs": [
    {
     "data": {
      "text/plain": [
       "array([159,   6,   8, 163,   7, 170,   4,   5, 180, 182])"
      ]
     },
     "execution_count": 758,
     "metadata": {},
     "output_type": "execute_result"
    }
   ],
   "source": [
    "bet_expected.argsort()[-10:][::-1]"
   ]
  },
  {
   "cell_type": "code",
   "execution_count": 759,
   "metadata": {},
   "outputs": [
    {
     "data": {
      "text/plain": [
       "array([0.76868804, 0.68758496, 0.62847094, 0.60069241, 0.59318528,\n",
       "       0.58805176, 0.54987769, 0.4999773 , 0.45623136, 0.45002073])"
      ]
     },
     "execution_count": 759,
     "metadata": {},
     "output_type": "execute_result"
    }
   ],
   "source": [
    "bet_expected[bet_expected.argsort()[-10:][::-1]]"
   ]
  },
  {
   "cell_type": "code",
   "execution_count": 760,
   "metadata": {},
   "outputs": [
    {
     "data": {
      "text/plain": [
       "['n:21', '8', '31', 'n:23', '19', 'n:26', '29', '12', 'n:15', 'n:24']"
      ]
     },
     "execution_count": 760,
     "metadata": {},
     "output_type": "execute_result"
    }
   ],
   "source": [
    "[bet_dic[x] for x in bet_expected.argsort()[-10:][::-1]]"
   ]
  },
  {
   "cell_type": "code",
   "execution_count": null,
   "metadata": {},
   "outputs": [],
   "source": []
  },
  {
   "cell_type": "code",
   "execution_count": null,
   "metadata": {},
   "outputs": [],
   "source": []
  }
 ],
 "metadata": {
  "kernelspec": {
   "display_name": "Python 3",
   "language": "python",
   "name": "python3"
  },
  "language_info": {
   "codemirror_mode": {
    "name": "ipython",
    "version": 3
   },
   "file_extension": ".py",
   "mimetype": "text/x-python",
   "name": "python",
   "nbconvert_exporter": "python",
   "pygments_lexer": "ipython3",
   "version": "3.7.1"
  }
 },
 "nbformat": 4,
 "nbformat_minor": 2
}
