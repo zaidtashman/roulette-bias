{
 "cells": [
  {
   "cell_type": "code",
   "execution_count": 1,
   "metadata": {},
   "outputs": [],
   "source": [
    "import random as rnd\n",
    "import matplotlib.pyplot as plt\n",
    "import numpy as np\n",
    "import pandas as pd\n",
    "from IPython.core.pylabtools import figsize\n",
    "import pystan as ps\n",
    "import pickle\n",
    "from hashlib import md5\n",
    "import math\n",
    "from scipy.optimize import minimize\n",
    "# import pymc3 as pm\n",
    "# import theano.tensor as tt\n",
    "%matplotlib inline"
   ]
  },
  {
   "cell_type": "code",
   "execution_count": 2,
   "metadata": {},
   "outputs": [],
   "source": [
    "wheel = ['00','27','10','25','29','12','8','19','31','18','6','21','33',\n",
    "         '16','4','23','35','14','2','0','28','9','26','30','11','7','20',\n",
    "         '32','17','5','22','34','15','3','24','36','13','1']\n",
    "redblack = ['green', \n",
    "            'red', 'black', 'red', 'black', 'red', 'black', 'red', 'black', 'red', \n",
    "            'black', 'red', 'black','red', 'black', 'red', 'black', 'red', 'black', \n",
    "            'green', \n",
    "            'black', 'red', 'black', 'red', 'black', 'red', 'black', 'red', 'black', \n",
    "            'red', 'black', 'red', 'black', 'red', 'black', 'red', 'black', 'red']\n",
    "evenodd = ['none', \n",
    "           'odd', 'even', 'odd', 'odd', 'even', 'even', 'odd', 'odd', 'even', \n",
    "           'even', 'odd', 'odd', 'even', 'even', 'odd', 'odd', 'even', 'even', \n",
    "           'none', \n",
    "           'even', 'odd', 'even', 'even', 'odd', 'odd', 'even', 'even', 'odd', \n",
    "           'odd', 'even', 'even', 'odd', 'odd', 'even', 'even', 'odd', 'odd']\n",
    "lowhigh = ['none',\n",
    "          'high','low','high','high','low','low','high','high','low',\n",
    "           'low','high','high','low','low','high','high','low','low',\n",
    "          'none',\n",
    "          'high','low','high','high','low','low','high','high','low',\n",
    "           'low','high','high','low','low','high','high','low','low']\n",
    "dozens = ['none',\n",
    "         3,1,3,3,1,1,2,3,2,1,2,3,2,1,2,3,2,1,\n",
    "         'none',\n",
    "         3,1,3,3,1,1,2,3,2,1,2,3,2,1,2,3,2,1]\n",
    "columns = ['none',\n",
    "          3,1,1,2,3,2,1,1,3,3,3,3,1,1,2,2,2,2,\n",
    "          'none',\n",
    "          1,3,2,3,2,1,2,2,2,2,1,1,3,3,3,3,1,1]\n",
    "sixline = ['none',\n",
    "          ('8','9'),('3','4'),('8','9'),('9','10'),('3','4'),('2','3'),('6','7'),('10','11'),('5','6'),\n",
    "          ('1','2'),('6','7'),('10','11'),('5','6'),('1','2'),('7','8'),['11'],('4','5'),['1'],\n",
    "          'none',\n",
    "          ('9','10'),('2','3'),('8','9'),('9','10'),('3','4'),('2','3'),('6','7'),('10','11'),('5','6'),\n",
    "          ('1','2'),('7','8'),['11'],('4','5'),['1'],('7','8'),['11'],('4','5'),['1']]\n",
    "square = ['none',\n",
    "         ('16','18'),('5','7'),('15','17'),('17','18','19','20'),('6','8'),('3','4','5','6'),('11','13'),('19','21'),('10','12'),\n",
    "         ('2','4'),('12','14'),('20','22'),('9','11'),('1','3'),('13','14','15','16'),('21','22'),('7','8','9','10'),('1','2'),\n",
    "         'none',\n",
    "         ('17','19'),('4','6'),('15','16','17','18'),('18','20'),('5','6','7','8'),('3','5'),('11','12','13','14'),('19','20','21','22'),('9','10','11','12'),\n",
    "         ('1','2','3','4'),('13','15'),['21'],('8','10'),['2'],('14','16'),['22'],('7','9'),['1']]\n",
    "street = ['none',\n",
    "         '9','4','9','10','4','3','7','11','6','2','7','11','6','2','8','12','5','1',\n",
    "         'none',\n",
    "         '10','3','9','10','4','3','7','11','6','2','8','12','5','1','8','12','5','1']\n",
    "split = ['none',\n",
    "        ('40','42','45'),('13','16','18'),('38','41','43'),('44','46','47','49'),('15','17','20'),('9','11','12','14'),('28','31','33'),('48','51','53'),('25','27','30'),\n",
    "        ('5','7','10'),('30','32','35'),('50','52','55'),('23','26','28'),('3','6','8'),('34','36','37','39'),('54','56','57'),('19','21','22','24'),('1','2','4'),\n",
    "        'none',\n",
    "        ('43','46','48'),('10','12','15'),('39','41','42','44'),('45','47','50'),('14','16','17','19'),('8','11','13'),('29','31','32','34'),('49','51','52','54'),('24','26','27','29'),\n",
    "        ('4','6','7','9'),('33','36','38'),('53','56'),('20','22','25'),('2','5'),('35','37','40'),('55','57'),('18','21','23'),('1','3')]\n",
    "\n",
    "neighbor = []\n",
    "wheel2 = ['13','1','00','27','10','25','29','12','8','19','31','18','6','21','33',\n",
    "         '16','4','23','35','14','2','0','28','9','26','30','11','7','20',\n",
    "         '32','17','5','22','34','15','3','24','36','13','1','00','27']\n",
    "for i in range(len(wheel)):\n",
    "    n = wheel[i]\n",
    "    bet = wheel2[((i+2)-2):((i+2)+3)]\n",
    "    neighbor.append(bet)"
   ]
  },
  {
   "cell_type": "code",
   "execution_count": 3,
   "metadata": {},
   "outputs": [],
   "source": [
    "# neighbor"
   ]
  },
  {
   "cell_type": "code",
   "execution_count": 4,
   "metadata": {},
   "outputs": [],
   "source": [
    "alpha = np.ones(38)\n",
    "alpha[10] = alpha[10]-(alpha[10]/2.0)\n",
    "alpha[11] = alpha[11]+alpha[10]\n",
    "dir_prob = np.random.dirichlet(alpha, 1)\n",
    "dir_prob = dir_prob.tolist()[0]"
   ]
  },
  {
   "cell_type": "code",
   "execution_count": 5,
   "metadata": {},
   "outputs": [
    {
     "data": {
      "text/plain": [
       "0.9999999999999996"
      ]
     },
     "execution_count": 5,
     "metadata": {},
     "output_type": "execute_result"
    }
   ],
   "source": [
    "# unbiased test\n",
    "#dir_prob = np.ones(38)/38\n",
    "\n",
    "# single test\n",
    "# dir_prob = np.ones(38)/43\n",
    "# dir_prob[wheel.index('13')] += 1-sum(dir_prob)\n",
    "\n",
    "# neighbor test\n",
    "# dir_prob = np.ones(38)/43\n",
    "# dir_prob[wheel.index('13')] = 2/43\n",
    "# dir_prob[wheel.index('1')] = 2/43\n",
    "# dir_prob[wheel.index('00')] = 2/43\n",
    "# dir_prob[wheel.index('27')] = 2/43\n",
    "# dir_prob[wheel.index('10')] = 2/43\n",
    "\n",
    "# street test\n",
    "# dir_prob = np.ones(38)/44\n",
    "# dir_prob[wheel.index('16')] = 2/44\n",
    "# dir_prob[wheel.index('17')] = 2/44\n",
    "# dir_prob[wheel.index('18')] = 2/44\n",
    "# dir_prob[wheel.index('34')] = 2/44\n",
    "# dir_prob[wheel.index('35')] = 2/44\n",
    "# dir_prob[wheel.index('36')] = 2/44\n",
    "\n",
    "# sixline test\n",
    "dir_prob = np.ones(38)/44\n",
    "dir_prob[wheel.index('16')] = 2/44\n",
    "dir_prob[wheel.index('17')] = 2/44\n",
    "dir_prob[wheel.index('18')] = 2/44\n",
    "dir_prob[wheel.index('19')] = 2/44\n",
    "dir_prob[wheel.index('20')] = 2/44\n",
    "dir_prob[wheel.index('21')] = 2/44\n",
    "\n",
    "# square test\n",
    "# dir_prob = np.ones(38)/42\n",
    "# dir_prob[wheel.index('8')] = 2/42\n",
    "# dir_prob[wheel.index('9')] = 2/42\n",
    "# dir_prob[wheel.index('11')] = 2/42\n",
    "# dir_prob[wheel.index('12')] = 2/42\n",
    "\n",
    "# col color test\n",
    "# dir_prob = np.ones(38)/50\n",
    "# dir_prob[wheel.index('3')] = 2/50\n",
    "# dir_prob[wheel.index('6')] = 2/50\n",
    "# dir_prob[wheel.index('9')] = 2/50\n",
    "# dir_prob[wheel.index('12')] = 2/50\n",
    "# dir_prob[wheel.index('15')] = 2/50\n",
    "# dir_prob[wheel.index('18')] = 2/50\n",
    "# dir_prob[wheel.index('21')] = 2/50\n",
    "# dir_prob[wheel.index('24')] = 2/50\n",
    "# dir_prob[wheel.index('27')] = 2/50\n",
    "# dir_prob[wheel.index('30')] = 2/50\n",
    "# dir_prob[wheel.index('33')] = 2/50\n",
    "# dir_prob[wheel.index('36')] = 2/50\n",
    "\n",
    "sum(dir_prob)"
   ]
  },
  {
   "cell_type": "code",
   "execution_count": 6,
   "metadata": {},
   "outputs": [],
   "source": [
    "spins = [wheel[x] for x in np.random.choice(38, size=5000, p=dir_prob)]"
   ]
  },
  {
   "cell_type": "code",
   "execution_count": 7,
   "metadata": {},
   "outputs": [],
   "source": [
    "# spins = np.array([])\n",
    "# for i in range(1000):\n",
    "#     spins = np.append(spins, np.array([rnd.choice(wheel)]))"
   ]
  },
  {
   "cell_type": "code",
   "execution_count": 8,
   "metadata": {},
   "outputs": [],
   "source": [
    "# spins"
   ]
  },
  {
   "cell_type": "code",
   "execution_count": 9,
   "metadata": {},
   "outputs": [
    {
     "name": "stdout",
     "output_type": "stream",
     "text": [
      "5000\n"
     ]
    }
   ],
   "source": [
    "print(len(spins))\n",
    "#print(spins)"
   ]
  },
  {
   "cell_type": "code",
   "execution_count": 10,
   "metadata": {},
   "outputs": [
    {
     "name": "stderr",
     "output_type": "stream",
     "text": [
      "/anaconda3/lib/python3.6/site-packages/matplotlib/axes/_axes.py:6462: UserWarning: The 'normed' kwarg is deprecated, and has been replaced by the 'density' kwarg.\n",
      "  warnings.warn(\"The 'normed' kwarg is deprecated, and has been \"\n",
      "INFO:matplotlib.font_manager:findfont: Found a missing font file.  Rebuilding cache.\n",
      "INFO:matplotlib.font_manager:font search path ['/anaconda3/lib/python3.6/site-packages/matplotlib/mpl-data/fonts/ttf', '/anaconda3/lib/python3.6/site-packages/matplotlib/mpl-data/fonts/afm', '/anaconda3/lib/python3.6/site-packages/matplotlib/mpl-data/fonts/pdfcorefonts']\n",
      "INFO:matplotlib.font_manager:Could not open font file /Library/Fonts/NISC18030.ttf\n",
      "INFO:matplotlib.font_manager:generated new fontManager\n"
     ]
    },
    {
     "data": {
      "image/png": "[encoded data removed]",
      "text/plain": [
       "<Figure size 900x360 with 1 Axes>"
      ]
     },
     "metadata": {},
     "output_type": "display_data"
    }
   ],
   "source": [
    "figsize(12.5, 5)\n",
    "plt.hist(spins, normed=True, bins=38)\n",
    "plt.ylabel('Probability');"
   ]
  },
  {
   "cell_type": "code",
   "execution_count": 11,
   "metadata": {},
   "outputs": [],
   "source": [
    "spins_count = {x : 0 for x in wheel}"
   ]
  },
  {
   "cell_type": "code",
   "execution_count": 12,
   "metadata": {},
   "outputs": [],
   "source": [
    "for i in spins:\n",
    "    spins_count[i] += 1"
   ]
  },
  {
   "cell_type": "code",
   "execution_count": 13,
   "metadata": {},
   "outputs": [],
   "source": [
    "counts = np.array(list(spins_count.values()))"
   ]
  },
  {
   "cell_type": "code",
   "execution_count": 14,
   "metadata": {},
   "outputs": [],
   "source": [
    "model = \"\"\"\n",
    "data {\n",
    "  int<lower=1> m;\n",
    "  int counts[m];\n",
    "  vector<lower=0>[m] priors;\n",
    "}\n",
    "\n",
    "parameters {\n",
    "  simplex[m] p;\n",
    "}\n",
    "\n",
    "model {\n",
    "  p ~ dirichlet(priors);\n",
    "  counts ~ multinomial(p);\n",
    "}\n",
    "\"\"\""
   ]
  },
  {
   "cell_type": "code",
   "execution_count": 15,
   "metadata": {},
   "outputs": [],
   "source": [
    "def StanModel_cache(model_code, model_name=None, **kwargs):\n",
    "    \"\"\"Use just as you would `stan`\"\"\"\n",
    "    code_hash = md5(model_code.encode('ascii')).hexdigest()\n",
    "    if model_name is None:\n",
    "        cache_fn = 'cached-model-{}.pkl'.format(code_hash)\n",
    "    else:\n",
    "        cache_fn = 'cached-{}-{}.pkl'.format(model_name, code_hash)\n",
    "    try:\n",
    "        sm = pickle.load(open(cache_fn, 'rb'))\n",
    "    except:\n",
    "        sm = ps.StanModel(model_code=model_code)\n",
    "        with open(cache_fn, 'wb') as f:\n",
    "            pickle.dump(sm, f)\n",
    "    else:\n",
    "        print(\"Using cached StanModel\")\n",
    "    return sm"
   ]
  },
  {
   "cell_type": "code",
   "execution_count": 20,
   "metadata": {},
   "outputs": [
    {
     "name": "stderr",
     "output_type": "stream",
     "text": [
      "INFO:pystan:COMPILING THE C++ CODE FOR MODEL anon_model_64c300d688746d4e6c6f00d3cc2d73d6 NOW.\n"
     ]
    }
   ],
   "source": [
    "# stanmodel = ps.StanModel(model_code=model)\n",
    "stanmodel = StanModel_cache(model_code=model, model_name='stan-model-fit')"
   ]
  },
  {
   "cell_type": "code",
   "execution_count": 21,
   "metadata": {},
   "outputs": [],
   "source": [
    "data = {'m':38, 'counts':counts, 'priors':np.ones(38)}"
   ]
  },
  {
   "cell_type": "code",
   "execution_count": 22,
   "metadata": {},
   "outputs": [],
   "source": [
    "fit = stanmodel.sampling(data=data)"
   ]
  },
  {
   "cell_type": "code",
   "execution_count": 23,
   "metadata": {},
   "outputs": [],
   "source": [
    "#fit.plot()\n",
    "fit_par = fit.extract(permuted=True)"
   ]
  },
  {
   "cell_type": "code",
   "execution_count": 24,
   "metadata": {},
   "outputs": [
    {
     "data": {
      "text/plain": [
       "(4000, 38)"
      ]
     },
     "execution_count": 24,
     "metadata": {},
     "output_type": "execute_result"
    }
   ],
   "source": [
    "fit_par['p'].shape"
   ]
  },
  {
   "cell_type": "code",
   "execution_count": 25,
   "metadata": {},
   "outputs": [],
   "source": [
    "fit_samples = fit_par['p']"
   ]
  },
  {
   "cell_type": "code",
   "execution_count": 26,
   "metadata": {},
   "outputs": [],
   "source": [
    "# fit_samples[3999]"
   ]
  },
  {
   "cell_type": "code",
   "execution_count": 27,
   "metadata": {},
   "outputs": [],
   "source": [
    "def getRedBlackProb(p):\n",
    "    redblack_dic = {'red':0, 'black':0, 'green':0}\n",
    "    zipped_array = zip(wheel,p,redblack)\n",
    "    for i in zipped_array:\n",
    "        if i[2] == 'green':\n",
    "            redblack_dic['green'] += i[1]\n",
    "        elif i[2] == 'red':\n",
    "            redblack_dic['red'] += i[1]\n",
    "        else:\n",
    "            redblack_dic['black'] += i[1]\n",
    "            \n",
    "    return redblack_dic"
   ]
  },
  {
   "cell_type": "code",
   "execution_count": 28,
   "metadata": {},
   "outputs": [],
   "source": [
    "# list(getRedBlackProb(np.ones(38)/38).values())"
   ]
  },
  {
   "cell_type": "code",
   "execution_count": 29,
   "metadata": {},
   "outputs": [],
   "source": [
    "def getEvenOddProb(p):\n",
    "    evenodd_dic = {'even':0, 'odd':0, 'none':0}\n",
    "    zipped_array = zip(wheel,p,evenodd)\n",
    "    for i in zipped_array:\n",
    "        if i[2] == 'even':\n",
    "            evenodd_dic['even'] += i[1]\n",
    "        elif i[2] == 'odd':\n",
    "            evenodd_dic['odd'] += i[1]\n",
    "        else:\n",
    "            evenodd_dic['none'] += i[1]\n",
    "            \n",
    "    return evenodd_dic"
   ]
  },
  {
   "cell_type": "code",
   "execution_count": 30,
   "metadata": {},
   "outputs": [],
   "source": [
    "# list(getEvenOddProb(np.ones(38)/38).values())"
   ]
  },
  {
   "cell_type": "code",
   "execution_count": 31,
   "metadata": {},
   "outputs": [],
   "source": [
    "def getLowHighProb(p):\n",
    "    lowhigh_dic = {'low':0, 'high':0, 'none':0}\n",
    "    zipped_array = zip(wheel,p,lowhigh)\n",
    "    for i in zipped_array:\n",
    "        if i[2] == 'low':\n",
    "            lowhigh_dic['low'] += i[1]\n",
    "        elif i[2] == 'high':\n",
    "            lowhigh_dic['high'] += i[1]\n",
    "        else:\n",
    "            lowhigh_dic['none'] += i[1]\n",
    "            \n",
    "    return lowhigh_dic"
   ]
  },
  {
   "cell_type": "code",
   "execution_count": 32,
   "metadata": {},
   "outputs": [],
   "source": [
    "# list(getLowHighProb(np.ones(38)/38).values())"
   ]
  },
  {
   "cell_type": "code",
   "execution_count": 33,
   "metadata": {},
   "outputs": [],
   "source": [
    "def getDozensProb(p):\n",
    "    dozens_dic = {'1':0, '2':0, '3':0, 'none':0}\n",
    "    zipped_array = zip(wheel,p,dozens)\n",
    "    for i in zipped_array:\n",
    "        if i[2] == 1:\n",
    "            dozens_dic['1'] += i[1]\n",
    "        elif i[2] == 2:\n",
    "            dozens_dic['2'] += i[1]\n",
    "        elif i[2] == 3:\n",
    "            dozens_dic['3'] += i[1]\n",
    "        else:\n",
    "            dozens_dic['none'] += i[1]\n",
    "            \n",
    "    return dozens_dic"
   ]
  },
  {
   "cell_type": "code",
   "execution_count": 34,
   "metadata": {},
   "outputs": [],
   "source": [
    "# list(getDozensProb(np.ones(38)/38).values())"
   ]
  },
  {
   "cell_type": "code",
   "execution_count": 35,
   "metadata": {},
   "outputs": [],
   "source": [
    "def getColumnsProb(p):\n",
    "    columns_dic = {'1':0, '2':0, '3':0, 'none':0}\n",
    "    zipped_array = zip(wheel,p,columns)\n",
    "    for i in zipped_array:\n",
    "        if i[2] == 1:\n",
    "            columns_dic['1'] += i[1]\n",
    "        elif i[2] == 2:\n",
    "            columns_dic['2'] += i[1]\n",
    "        elif i[2] == 3:\n",
    "            columns_dic['3'] += i[1]\n",
    "        else:\n",
    "            columns_dic['none'] += i[1]\n",
    "            \n",
    "    return columns_dic"
   ]
  },
  {
   "cell_type": "code",
   "execution_count": 36,
   "metadata": {},
   "outputs": [],
   "source": [
    "# list(getColumnsProb(np.ones(38)/38).values())"
   ]
  },
  {
   "cell_type": "code",
   "execution_count": 37,
   "metadata": {},
   "outputs": [],
   "source": [
    "def getSixlineProb(p):\n",
    "    sixline_dic = {'1':0, '2':0, '3':0, '4':0, '5':0, '6':0, '7':0, '8':0, '9':0, '10':0, '11':0, 'none':0}\n",
    "    zipped_array = zip(wheel,p,sixline)\n",
    "    for i in zipped_array:\n",
    "        if i[2] == 'none':\n",
    "            sixline_dic['none'] += i[1]\n",
    "        else:\n",
    "            for j in range(len(i[2])):\n",
    "                sixline_dic[i[2][j]] += i[1]\n",
    "                \n",
    "    return sixline_dic"
   ]
  },
  {
   "cell_type": "code",
   "execution_count": 38,
   "metadata": {},
   "outputs": [],
   "source": [
    "# list(getSixlineProb(np.ones(38)/38).values())"
   ]
  },
  {
   "cell_type": "code",
   "execution_count": 39,
   "metadata": {},
   "outputs": [],
   "source": [
    "def getSquareProb(p):\n",
    "    square_dic = {'1':0, '2':0, '3':0, '4':0, '5':0, '6':0, '7':0, '8':0, '9':0, '10':0, '11':0, \n",
    "                  '12':0, '13':0, '14':0, '15':0, '16':0, '17':0, '18':0, '19':0, '20':0, '21':0, '22':0, 'none':0}\n",
    "    zipped_array = zip(wheel,p,square)\n",
    "    for i in zipped_array:\n",
    "        if i[2] == 'none':\n",
    "            square_dic['none'] += i[1]\n",
    "        else:\n",
    "            for j in range(len(i[2])):\n",
    "                square_dic[i[2][j]] += i[1]\n",
    "                \n",
    "    return square_dic"
   ]
  },
  {
   "cell_type": "code",
   "execution_count": 40,
   "metadata": {},
   "outputs": [],
   "source": [
    "# list(getSquareProb(np.ones(38)/38).values())"
   ]
  },
  {
   "cell_type": "code",
   "execution_count": 41,
   "metadata": {},
   "outputs": [],
   "source": [
    "def getStreetProb(p):\n",
    "    street_dic = {'1':0, '2':0, '3':0, '4':0, '5':0, '6':0, '7':0, '8':0, '9':0, '10':0, '11':0, '12':0, 'none':0}\n",
    "    zipped_array = zip(wheel,p,street)\n",
    "    for i in zipped_array:\n",
    "        if i[2] == 'none':\n",
    "            street_dic['none'] += i[1]\n",
    "        else:\n",
    "            street_dic[i[2]] += i[1]\n",
    "                \n",
    "    return street_dic"
   ]
  },
  {
   "cell_type": "code",
   "execution_count": 42,
   "metadata": {},
   "outputs": [],
   "source": [
    "# list(getStreetProb(np.ones(38)/38).values())"
   ]
  },
  {
   "cell_type": "code",
   "execution_count": 43,
   "metadata": {},
   "outputs": [],
   "source": [
    "def getSplitProb(p):\n",
    "    split_dic = {'1':0, '2':0, '3':0, '4':0, '5':0, '6':0, '7':0, '8':0, '9':0, '10':0, '11':0, \n",
    "                 '12':0, '13':0, '14':0, '15':0, '16':0, '17':0, '18':0, '19':0, '20':0, '21':0, '22':0,\n",
    "                 '23':0, '24':0, '25':0, '26':0, '27':0, '28':0, '29':0, '30':0, '31':0, '32':0, '33':0,\n",
    "                 '34':0, '35':0, '36':0, '37':0, '38':0, '39':0, '40':0, '41':0, '42':0, '43':0, '44':0,\n",
    "                 '45':0, '46':0, '47':0, '48':0, '49':0, '50':0, '51':0, '52':0, '53':0, '54':0, '55':0,\n",
    "                 '56':0, '57':0, 'none':0}\n",
    "    zipped_array = zip(wheel,p,split)\n",
    "    for i in zipped_array:\n",
    "        if i[2] == 'none':\n",
    "            split_dic['none'] += i[1]\n",
    "        else:\n",
    "            for j in range(len(i[2])):\n",
    "                split_dic[i[2][j]] += i[1]\n",
    "                \n",
    "    return split_dic"
   ]
  },
  {
   "cell_type": "code",
   "execution_count": 44,
   "metadata": {},
   "outputs": [],
   "source": [
    "# list(getSplitProb(np.ones(38)/38).values())"
   ]
  },
  {
   "cell_type": "code",
   "execution_count": 45,
   "metadata": {},
   "outputs": [],
   "source": [
    "def getNeighborProb(p):\n",
    "    neighbor_dic = {x:0 for x in wheel}\n",
    "    zipped_array = zip(wheel,p,neighbor)\n",
    "    for i in zipped_array:\n",
    "        for j in i[2]:\n",
    "            neighbor_dic[j] += i[1]\n",
    "                \n",
    "    return neighbor_dic"
   ]
  },
  {
   "cell_type": "code",
   "execution_count": 46,
   "metadata": {},
   "outputs": [],
   "source": [
    "# list(getNeighborProb(np.ones(38)/38).values())\n",
    "# fit_samples[0]\n",
    "# getNeighborProb(fit_samples[0])"
   ]
  },
  {
   "cell_type": "code",
   "execution_count": 47,
   "metadata": {},
   "outputs": [
    {
     "data": {
      "text/plain": [
       "array([0.02121585, 0.01905685, 0.02203921, 0.01844545, 0.02303558,\n",
       "       0.02223197, 0.0216374 , 0.04444691, 0.02443208, 0.04767506,\n",
       "       0.02642657, 0.04524977, 0.02163791, 0.04625815, 0.02140018,\n",
       "       0.02359964, 0.02481848, 0.02420714, 0.02224942, 0.02440245,\n",
       "       0.02164486, 0.02323855, 0.02701368, 0.02437435, 0.01882288,\n",
       "       0.02127433, 0.0498486 , 0.02378954, 0.04480493, 0.02581545,\n",
       "       0.02182222, 0.02002979, 0.02541604, 0.0222423 , 0.02004015,\n",
       "       0.01948101, 0.02343898, 0.02243628])"
      ]
     },
     "execution_count": 47,
     "metadata": {},
     "output_type": "execute_result"
    }
   ],
   "source": [
    "single_prob = np.mean(fit_samples, axis=0)\n",
    "single_prob"
   ]
  },
  {
   "cell_type": "code",
   "execution_count": 48,
   "metadata": {},
   "outputs": [
    {
     "data": {
      "text/plain": [
       "array([0.0446857 , 0.04449172, 0.04383646, 0.04806486, 0.04866888,\n",
       "       0.04721563, 0.05224202, 0.04267452, 0.04745285, 0.04966512,\n",
       "       0.04291173, 0.04487595, 0.04331354, 0.04046029, 0.04547052,\n",
       "       0.0408621 , 0.04105485, 0.04547819, 0.04303002, 0.04764801,\n",
       "       0.04764612, 0.04962318, 0.06969713, 0.06901207, 0.0730911 ,\n",
       "       0.09106308, 0.09247999, 0.09070506, 0.09465353, 0.09292483,\n",
       "       0.09429551, 0.09509837, 0.06626914, 0.07344824, 0.06528992,\n",
       "       0.04542186, 0.04363979, 0.04026767, 0.05061332, 0.039097  ,\n",
       "       0.04545913, 0.04607052, 0.04009031, 0.05004925, 0.04343119,\n",
       "       0.04468043, 0.04740992, 0.04607693, 0.04682512, 0.04601226,\n",
       "       0.04822162, 0.04542745, 0.04446186, 0.04860802, 0.04111892,\n",
       "       0.04484827, 0.04429949, 0.04561829])"
      ]
     },
     "execution_count": 48,
     "metadata": {},
     "output_type": "execute_result"
    }
   ],
   "source": [
    "split_prob = np.mean([list(getSplitProb(x).values()) for x in fit_samples], axis=0)\n",
    "split_prob"
   ]
  },
  {
   "cell_type": "code",
   "execution_count": 49,
   "metadata": {},
   "outputs": [
    {
     "data": {
      "text/plain": [
       "array([0.066928  , 0.07364221, 0.06615028, 0.06309407, 0.07306216,\n",
       "       0.13873814, 0.13954528, 0.06546201, 0.06451597, 0.06905478,\n",
       "       0.06985953, 0.06432927, 0.04561829])"
      ]
     },
     "execution_count": 49,
     "metadata": {},
     "output_type": "execute_result"
    }
   ],
   "source": [
    "street_prob = np.mean([list(getStreetProb(x).values()) for x in fit_samples], axis=0)\n",
    "street_prob"
   ]
  },
  {
   "cell_type": "code",
   "execution_count": 50,
   "metadata": {},
   "outputs": [
    {
     "data": {
      "text/plain": [
       "array([0.09190133, 0.09673374, 0.09012737, 0.09711797, 0.08377383,\n",
       "       0.08593081, 0.08850822, 0.09067803, 0.1387092 , 0.14210317,\n",
       "       0.18535859, 0.18757836, 0.13971737, 0.13873816, 0.09088099,\n",
       "       0.08971031, 0.09013956, 0.09348045, 0.09290205, 0.09283738,\n",
       "       0.09306988, 0.08972694, 0.04561829])"
      ]
     },
     "execution_count": 50,
     "metadata": {},
     "output_type": "execute_result"
    }
   ],
   "source": [
    "square_prob = np.mean([list(getSquareProb(x).values()) for x in fit_samples], axis=0)\n",
    "square_prob"
   ]
  },
  {
   "cell_type": "code",
   "execution_count": 51,
   "metadata": {},
   "outputs": [
    {
     "data": {
      "text/plain": [
       "array([0.14057021, 0.13979249, 0.12924435, 0.13615623, 0.2118003 ,\n",
       "       0.27828342, 0.2050073 , 0.12997799, 0.13357075, 0.13891431,\n",
       "       0.1341888 , 0.04561829])"
      ]
     },
     "execution_count": 51,
     "metadata": {},
     "output_type": "execute_result"
    }
   ],
   "source": [
    "sixline_prob = np.mean([list(getSixlineProb(x).values()) for x in fit_samples], axis=0)\n",
    "sixline_prob"
   ]
  },
  {
   "cell_type": "code",
   "execution_count": 52,
   "metadata": {},
   "outputs": [
    {
     "data": {
      "text/plain": [
       "array([0.30766844, 0.32964273, 0.31707053, 0.04561829])"
      ]
     },
     "execution_count": 52,
     "metadata": {},
     "output_type": "execute_result"
    }
   ],
   "source": [
    "columns_prob = np.mean([list(getColumnsProb(x).values()) for x in fit_samples], axis=0)\n",
    "columns_prob"
   ]
  },
  {
   "cell_type": "code",
   "execution_count": 53,
   "metadata": {},
   "outputs": [
    {
     "data": {
      "text/plain": [
       "array([0.26981456, 0.4168076 , 0.26775955, 0.04561829])"
      ]
     },
     "execution_count": 53,
     "metadata": {},
     "output_type": "execute_result"
    }
   ],
   "source": [
    "dozens_prob = np.mean([list(getDozensProb(x).values()) for x in fit_samples], axis=0)\n",
    "dozens_prob"
   ]
  },
  {
   "cell_type": "code",
   "execution_count": 54,
   "metadata": {},
   "outputs": [
    {
     "data": {
      "text/plain": [
       "array([0.48161486, 0.47276685, 0.04561829])"
      ]
     },
     "execution_count": 54,
     "metadata": {},
     "output_type": "execute_result"
    }
   ],
   "source": [
    "lowhigh_prob = np.mean([list(getLowHighProb(x).values()) for x in fit_samples], axis=0)\n",
    "lowhigh_prob "
   ]
  },
  {
   "cell_type": "code",
   "execution_count": 55,
   "metadata": {},
   "outputs": [
    {
     "data": {
      "text/plain": [
       "array([0.48216928, 0.47221242, 0.04561829])"
      ]
     },
     "execution_count": 55,
     "metadata": {},
     "output_type": "execute_result"
    }
   ],
   "source": [
    "evenodd_prob = np.mean([list(getEvenOddProb(x).values()) for x in fit_samples], axis=0)\n",
    "evenodd_prob "
   ]
  },
  {
   "cell_type": "code",
   "execution_count": 56,
   "metadata": {},
   "outputs": [
    {
     "data": {
      "text/plain": [
       "array([0.49385253, 0.46052918, 0.04561829])"
      ]
     },
     "execution_count": 56,
     "metadata": {},
     "output_type": "execute_result"
    }
   ],
   "source": [
    "redblack_prob = np.mean([list(getRedBlackProb(x).values()) for x in fit_samples], axis=0)\n",
    "redblack_prob"
   ]
  },
  {
   "cell_type": "code",
   "execution_count": 57,
   "metadata": {},
   "outputs": [
    {
     "data": {
      "text/plain": [
       "array([0.10818717, 0.10319364, 0.10379293, 0.10480906, 0.10738961,\n",
       "       0.12979731, 0.13578394, 0.16042342, 0.16461802, 0.1882304 ,\n",
       "       0.16542139, 0.18724747, 0.16097259, 0.15814566, 0.13771436,\n",
       "       0.14028359, 0.11627486, 0.11927712, 0.11732234, 0.11574241,\n",
       "       0.11854894, 0.12067387, 0.11509431, 0.11472379, 0.14133384,\n",
       "       0.1381097 , 0.15854029, 0.16553285, 0.16608074, 0.13626193,\n",
       "       0.13788843, 0.1153258 , 0.10955051, 0.10720929, 0.11061848,\n",
       "       0.10763872, 0.10661227, 0.10562896])"
      ]
     },
     "execution_count": 57,
     "metadata": {},
     "output_type": "execute_result"
    }
   ],
   "source": [
    "neighbor_prob = np.mean([list(getNeighborProb(x).values()) for x in fit_samples], axis=0)\n",
    "neighbor_prob"
   ]
  },
  {
   "cell_type": "code",
   "execution_count": 58,
   "metadata": {},
   "outputs": [],
   "source": [
    "single_pay = np.ones(38)*35\n",
    "split_pay = np.ones(57)*17\n",
    "street_pay = np.ones(12)*11\n",
    "square_pay = np.ones(22)*8\n",
    "sixline_pay = np.ones(11)*5\n",
    "column_pay = np.ones(3)*2\n",
    "dozen_pay = np.ones(3)*2\n",
    "lowhigh_pay = np.ones(2)*1\n",
    "evenodd_pay = np.ones(2)*1\n",
    "redblack_pay = np.ones(2)*1\n",
    "neighbor_pay = np.ones(38)*(35/5)"
   ]
  },
  {
   "cell_type": "code",
   "execution_count": 59,
   "metadata": {},
   "outputs": [],
   "source": [
    "single_cover = np.ones(38)*1\n",
    "split_cover = np.ones(57)*2\n",
    "street_cover = np.ones(12)*3\n",
    "square_cover = np.ones(22)*4\n",
    "sixline_cover = np.ones(11)*6\n",
    "column_cover = np.ones(3)*12\n",
    "dozen_cover = np.ones(3)*12\n",
    "lowhigh_cover = np.ones(2)*18\n",
    "evenodd_cover = np.ones(2)*18\n",
    "redblack_cover = np.ones(2)*18\n",
    "neighbor_cover = np.ones(38)*5"
   ]
  },
  {
   "cell_type": "code",
   "execution_count": 60,
   "metadata": {},
   "outputs": [],
   "source": [
    "single_expected = single_prob * single_pay + (1-single_prob) * -1\n",
    "split_expected = split_prob[:-1] * split_pay + (1-split_prob[:-1]) * -1\n",
    "street_expected = street_prob[:-1] * street_pay + (1-street_prob[:-1]) * -1\n",
    "square_expected = square_prob[:-1] * square_pay + (1-square_prob[:-1]) * -1\n",
    "sixline_expected = sixline_prob[:-1] * sixline_pay + (1-sixline_prob[:-1]) * -1\n",
    "column_expected = columns_prob[:-1] * column_pay + (1-columns_prob[:-1]) * -1\n",
    "dozen_expected = dozens_prob[:-1] * dozen_pay + (1-dozens_prob[:-1]) * -1\n",
    "lowhigh_expected = lowhigh_prob[:-1] * lowhigh_pay + (1-lowhigh_prob[:-1]) * -1\n",
    "evenodd_expected = evenodd_prob[:-1] * evenodd_pay + (1-evenodd_prob[:-1]) * -1\n",
    "redblack_expected = redblack_prob[:-1] * redblack_pay + (1-redblack_prob[:-1]) * -1\n",
    "neighbor_expected = neighbor_prob * neighbor_pay + (1-neighbor_prob) * -1"
   ]
  },
  {
   "cell_type": "code",
   "execution_count": 61,
   "metadata": {},
   "outputs": [
    {
     "name": "stdout",
     "output_type": "stream",
     "text": [
      "38\n",
      "38\n"
     ]
    }
   ],
   "source": [
    "single_bet_dic = {\n",
    "    i:'s:'+x for i,x in enumerate(wheel)\n",
    "}\n",
    "print(len(single_prob))\n",
    "print(len(single_bet_dic.keys()))"
   ]
  },
  {
   "cell_type": "code",
   "execution_count": 62,
   "metadata": {},
   "outputs": [
    {
     "name": "stdout",
     "output_type": "stream",
     "text": [
      "57\n",
      "57\n"
     ]
    }
   ],
   "source": [
    "split_bet_dic = {\n",
    "    38: 'sp:1-2', 39: 'sp:2-3', 40: 'sp:1-4', 41: 'sp:2-5', 42: 'sp:3-6', \n",
    "    43: 'sp:4-5', 44: 'sp:5-6', 45: 'sp:4-7', 46: 'sp:5-8', 47: 'sp:6-9', \n",
    "    48: 'sp:7-8', 49: 'sp:8-9', 50: 'sp:7-10', 51: 'sp:8-11', 52: 'sp:9-12', \n",
    "    53: 'sp:10-11', 54: 'sp:11-12', 55: 'sp:10-13', 56: 'sp:11-14', 57: 'sp:12-15', \n",
    "    58: 'sp:13-14', 59: 'sp:14-15', 60: 'sp:13-16', 61: 'sp:14-17', 62: 'sp:15-18', \n",
    "    63: 'sp:16-17', 64: 'sp:17-18', 65: 'sp:16-19', 66: 'sp:17-20', 67: 'sp:18-21', \n",
    "    68: 'sp:19-20', 69: 'sp:20-21', 70: 'sp:19-22', 71: 'sp:20-23', 72: 'sp:21-24', \n",
    "    73: 'sp:22-23', 74: 'sp:23-24', 75: 'sp:22-25', 76: 'sp:23-26', 77: 'sp:24-27', \n",
    "    78: 'sp:25-26', 79: 'sp:26-27', 80: 'sp:25-28', 81: 'sp:26-29', 82: 'sp:27-30', \n",
    "    83: 'sp:28-29', 84: 'sp:29-30', 85: 'sp:28-31', 86: 'sp:29-32', 87: 'sp:30-33', \n",
    "    88: 'sp:31-32', 89: 'sp:32-33', 90: 'sp:31-34', 91: 'sp:32-35', 92: 'sp:33-36', \n",
    "    93: 'sp:34-35', 94: 'sp:35-36'\n",
    "}   \n",
    "print(len(split_prob[:-1]))\n",
    "print(len(split_bet_dic.keys()))"
   ]
  },
  {
   "cell_type": "code",
   "execution_count": 63,
   "metadata": {},
   "outputs": [
    {
     "name": "stdout",
     "output_type": "stream",
     "text": [
      "12\n",
      "12\n"
     ]
    }
   ],
   "source": [
    "street_bet_dic = {\n",
    "    95: 'st:1-2-3', 96: 'st:4-5-6', 97: 'st:7-8-9', 98: 'st:10-11-12', 99: 'st:13-14-15',\n",
    "    100: 'st:16-17-18', 101: 'st:19-20-21', 102: 'st:22-23-24', 103: 'st:25-26-27', 104: 'st:28-29-30', \n",
    "    105: 'st:31-32-33', 106: 'st:34-35-36'\n",
    "}\n",
    "print(len(street_prob[:-1]))\n",
    "print(len(street_bet_dic.keys()))\n"
   ]
  },
  {
   "cell_type": "code",
   "execution_count": 64,
   "metadata": {},
   "outputs": [
    {
     "name": "stdout",
     "output_type": "stream",
     "text": [
      "22\n",
      "22\n"
     ]
    }
   ],
   "source": [
    "square_bet_dic = {\n",
    "    107: 'sq:1/2/4/5', 108: 'sq:2/3/5/6', 109: 'sq:4/5/7/8', 110: 'sq:5/6/8/9', 111: 'sq:7/8/10/11', \n",
    "    112: 'sq:8/9/11/12', 113: 'sq:10/11/13/14', 114: 'sq:11/12/14/15', 115: 'sq:13/14/16/17', 116: 'sq:14/15/17/18',\n",
    "    117: 'sq:16/17/19/20', 118: 'sq:17/18/20/21', 119: 'sq:19/20/22/23', 120: 'sq:20/21/23/24', 121: 'sq:22/23/25/26',\n",
    "    122: 'sq:23/24/26/27', 123: 'sq:25/26/28/29', 124: 'sq:26/27/29/30', 125: 'sq:28/29/31/32', 126: 'sq:29/30/32/33',\n",
    "    127: 'sq:31/32/34/35', 128: 'sq:32/33/35/36'\n",
    "}\n",
    "print(len(square_prob[:-1]))\n",
    "print(len(square_bet_dic.keys()))\n"
   ]
  },
  {
   "cell_type": "code",
   "execution_count": 65,
   "metadata": {},
   "outputs": [
    {
     "name": "stdout",
     "output_type": "stream",
     "text": [
      "11\n",
      "11\n"
     ]
    }
   ],
   "source": [
    "sixline_bet_dic = {\n",
    "    129: 'sx:1/2/3/4/5/6', 130: 'sx:4/5/6/7/8/9', 131: 'sx:7/8/9/10/11/12', 132: 'sx:10/11/12/13/14/15', 133: 'sx:13/14/15/16/17/18', 134: 'sx:16/17/18/19/20/21', \n",
    "    135: 'sx:19/20/21/22/23/24', 136: 'sx:22/23/24/25/26/27', 137: 'sx:25/26/27/28/29/30', 138: 'sx:28/29/30/31/32/33', 139: 'sx:31/32/33/34/35/36'\n",
    "}\n",
    "print(len(sixline_prob[:-1]))\n",
    "print(len(sixline_bet_dic.keys()))\n"
   ]
  },
  {
   "cell_type": "code",
   "execution_count": 66,
   "metadata": {},
   "outputs": [
    {
     "name": "stdout",
     "output_type": "stream",
     "text": [
      "6\n",
      "6\n",
      "6\n",
      "6\n"
     ]
    }
   ],
   "source": [
    "three_bet_dic = {\n",
    "    140: 'c:1', 141: 'c:2', 142: 'c:3',\n",
    "    143: 'd:1', 144: 'd:2', 145: 'd:3'\n",
    "}\n",
    "print(len(columns_prob[:-1])+len(dozens_prob[:-1]))\n",
    "print(len(three_bet_dic.keys()))\n",
    "\n",
    "two_bet_dic = {\n",
    "    146: 'low', 147: 'high',\n",
    "    148: 'even', 149: 'odd',\n",
    "    150: 'red', 151: 'black'\n",
    "} \n",
    "print(len(lowhigh_prob[:-1])+len(evenodd_prob[:-1])+len(redblack_prob[:-1]))\n",
    "print(len(two_bet_dic.keys()))\n"
   ]
  },
  {
   "cell_type": "code",
   "execution_count": 67,
   "metadata": {},
   "outputs": [
    {
     "name": "stdout",
     "output_type": "stream",
     "text": [
      "38\n",
      "38\n"
     ]
    }
   ],
   "source": [
    "neighbor_bet_dic = {\n",
    "    i+152:'n:{}'.format(x) for i,x in enumerate(wheel)\n",
    "}\n",
    "print(len(neighbor_prob))\n",
    "print(len(neighbor_bet_dic.keys()))"
   ]
  },
  {
   "cell_type": "code",
   "execution_count": 68,
   "metadata": {},
   "outputs": [],
   "source": [
    "#neighbor_bet_dic"
   ]
  },
  {
   "cell_type": "code",
   "execution_count": 69,
   "metadata": {},
   "outputs": [],
   "source": [
    "bet_dic = {**single_bet_dic, **split_bet_dic, **street_bet_dic, **square_bet_dic, **sixline_bet_dic, **three_bet_dic, **two_bet_dic, **neighbor_bet_dic}\n",
    "# bet_dic"
   ]
  },
  {
   "cell_type": "code",
   "execution_count": 70,
   "metadata": {},
   "outputs": [
    {
     "data": {
      "text/plain": [
       "190"
      ]
     },
     "execution_count": 70,
     "metadata": {},
     "output_type": "execute_result"
    }
   ],
   "source": [
    "len(list(bet_dic.keys()))"
   ]
  },
  {
   "cell_type": "code",
   "execution_count": 71,
   "metadata": {},
   "outputs": [],
   "source": [
    "#def getBetCoverage(bet_dic):\n",
    "cover_dic = {x:np.array([],dtype=int) for x in bet_dic.values()}\n",
    "for i in range(len(bet_dic.keys())):\n",
    "    bet_str = bet_dic[i]\n",
    "    if bet_str == 'low':\n",
    "        cover_dic[bet_str] = [wheel[w] for w in [i for i,x in enumerate(lowhigh) if x is 'low']]\n",
    "    elif bet_str == 'high':\n",
    "        cover_dic[bet_str] = [wheel[w] for w in [i for i,x in enumerate(lowhigh) if x is 'high']]\n",
    "    elif bet_str == 'even':\n",
    "        cover_dic[bet_str] = [wheel[w] for w in [i for i,x in enumerate(evenodd) if x is 'even']]\n",
    "    elif bet_str == 'odd':\n",
    "        cover_dic[bet_str] = [wheel[w] for w in [i for i,x in enumerate(evenodd) if x is 'odd']]\n",
    "    elif bet_str == 'red':\n",
    "        cover_dic[bet_str] = [wheel[w] for w in [i for i,x in enumerate(redblack) if x is 'red']]\n",
    "    elif bet_str == 'black':\n",
    "        cover_dic[bet_str] = [wheel[w] for w in [i for i,x in enumerate(redblack) if x is 'black']]\n",
    "    else:\n",
    "        bet_name,bet_par = bet_str.split(\":\")\n",
    "        if bet_name == 's':\n",
    "            cover_dic[bet_str] = [bet_par]\n",
    "        elif bet_name == 'n':\n",
    "            cover_dic[bet_str] = neighbor[wheel.index(bet_par)]\n",
    "        elif bet_name == 'sp':\n",
    "            cover_dic[bet_str] = bet_par.split('-')\n",
    "        elif bet_name == 'st':\n",
    "            cover_dic[bet_str] = bet_par.split('-')\n",
    "        elif bet_name == 'sq':\n",
    "            cover_dic[bet_str] = bet_par.split('/')\n",
    "        elif bet_name == 'sx':\n",
    "            cover_dic[bet_str] = bet_par.split('/')\n",
    "        elif bet_name == 'c':\n",
    "            cover_dic[bet_str] = [wheel[w] for w in [i for i,x in enumerate(columns) if x is int(bet_par)]]\n",
    "        elif bet_name == 'd':\n",
    "            cover_dic[bet_str] = [wheel[w] for w in [i for i,x in enumerate(columns) if x is int(bet_par)]]\n",
    "        else:\n",
    "            print('something is wrong')\n",
    "            cover_dic[bet_str] = None"
   ]
  },
  {
   "cell_type": "code",
   "execution_count": 72,
   "metadata": {},
   "outputs": [],
   "source": [
    "bet_prob = np.hstack([single_prob,split_prob[:-1],street_prob[:-1],square_prob[:-1],sixline_prob[:-1],columns_prob[:-1],dozens_prob[:-1],lowhigh_prob[:-1],evenodd_prob[:-1],redblack_prob[:-1],neighbor_prob])\n",
    "# bet_prob"
   ]
  },
  {
   "cell_type": "code",
   "execution_count": 73,
   "metadata": {},
   "outputs": [],
   "source": [
    "bet_expected = np.hstack([single_expected,split_expected,street_expected,square_expected,sixline_expected,column_expected,dozen_expected,lowhigh_expected,evenodd_expected,redblack_expected,neighbor_expected])\n",
    "# bet_expected"
   ]
  },
  {
   "cell_type": "code",
   "execution_count": 74,
   "metadata": {},
   "outputs": [
    {
     "data": {
      "text/plain": [
       "190"
      ]
     },
     "execution_count": 74,
     "metadata": {},
     "output_type": "execute_result"
    }
   ],
   "source": [
    "len(bet_prob)"
   ]
  },
  {
   "cell_type": "code",
   "execution_count": 75,
   "metadata": {},
   "outputs": [
    {
     "data": {
      "text/plain": [
       "190"
      ]
     },
     "execution_count": 75,
     "metadata": {},
     "output_type": "execute_result"
    }
   ],
   "source": [
    "len(bet_expected)"
   ]
  },
  {
   "cell_type": "code",
   "execution_count": 76,
   "metadata": {},
   "outputs": [
    {
     "data": {
      "text/plain": [
       "26"
      ]
     },
     "execution_count": 76,
     "metadata": {},
     "output_type": "execute_result"
    }
   ],
   "source": [
    "bet_expected.argmax()"
   ]
  },
  {
   "cell_type": "code",
   "execution_count": 77,
   "metadata": {},
   "outputs": [
    {
     "data": {
      "text/plain": [
       "0.794549480956442"
      ]
     },
     "execution_count": 77,
     "metadata": {},
     "output_type": "execute_result"
    }
   ],
   "source": [
    "bet_expected[bet_expected.argmax()]"
   ]
  },
  {
   "cell_type": "code",
   "execution_count": 78,
   "metadata": {},
   "outputs": [
    {
     "data": {
      "text/plain": [
       "'s:20'"
      ]
     },
     "execution_count": 78,
     "metadata": {},
     "output_type": "execute_result"
    }
   ],
   "source": [
    "bet_dic[bet_expected.argmax()]"
   ]
  },
  {
   "cell_type": "code",
   "execution_count": 79,
   "metadata": {},
   "outputs": [
    {
     "data": {
      "text/plain": [
       "0.4938525275906699"
      ]
     },
     "execution_count": 79,
     "metadata": {},
     "output_type": "execute_result"
    }
   ],
   "source": [
    "bet_prob[bet_prob.argmax()]"
   ]
  },
  {
   "cell_type": "code",
   "execution_count": 80,
   "metadata": {},
   "outputs": [
    {
     "data": {
      "text/plain": [
       "'red'"
      ]
     },
     "execution_count": 80,
     "metadata": {},
     "output_type": "execute_result"
    }
   ],
   "source": [
    "bet_dic[bet_prob.argmax()]"
   ]
  },
  {
   "cell_type": "code",
   "execution_count": 81,
   "metadata": {},
   "outputs": [
    {
     "data": {
      "text/plain": [
       "array([ 26,   9,  69,  66,  68, 118, 101,  67, 134, 117])"
      ]
     },
     "execution_count": 81,
     "metadata": {},
     "output_type": "execute_result"
    }
   ],
   "source": [
    "bet_expected.argsort()[-10:][::-1]"
   ]
  },
  {
   "cell_type": "code",
   "execution_count": 82,
   "metadata": {},
   "outputs": [],
   "source": [
    "best_expected = bet_expected[bet_expected.argsort()[-10:][::-1]]\n",
    "#best_expected"
   ]
  },
  {
   "cell_type": "code",
   "execution_count": 83,
   "metadata": {},
   "outputs": [],
   "source": [
    "best_prob = [bet_prob[x] for x in bet_expected.argsort()[-10:][::-1]]\n",
    "#best_prob"
   ]
  },
  {
   "cell_type": "code",
   "execution_count": 84,
   "metadata": {},
   "outputs": [],
   "source": [
    "best_bet = [bet_dic[x] for x in bet_expected.argsort()[-10:][::-1]]\n",
    "#best_bet"
   ]
  },
  {
   "cell_type": "code",
   "execution_count": 89,
   "metadata": {},
   "outputs": [],
   "source": [
    "best_coverage = [bet_coverage(bet_dic[x]) for x in bet_expected.argsort()[-10:][::-1]]\n",
    "#best_coverage"
   ]
  },
  {
   "cell_type": "code",
   "execution_count": 90,
   "metadata": {},
   "outputs": [
    {
     "data": {
      "text/plain": [
       "[('s:20', 0.794549480956442, 0.02631578947368421),\n",
       " ('s:18', 0.7163021131001706, 0.02631578947368421),\n",
       " ('sp:20-21', 0.7117706724749595, 0.05263157894736842),\n",
       " ('sp:17-20', 0.7037635371565303, 0.05263157894736842),\n",
       " ('sp:19-20', 0.6973191677613391, 0.05263157894736842),\n",
       " ('sq:17/18/20/21', 0.688205262851678, 0.10526315789473684),\n",
       " ('st:19-20-21', 0.6745433998387217, 0.07894736842105263),\n",
       " ('sp:18-21', 0.672646988546828, 0.05263157894736842),\n",
       " ('sx:16/17/18/19/20/21', 0.6697005353384787, 0.15789473684210525),\n",
       " ('sq:16/17/19/20', 0.6682273087343118, 0.10526315789473684)]"
      ]
     },
     "execution_count": 90,
     "metadata": {},
     "output_type": "execute_result"
    }
   ],
   "source": [
    "[x for x in zip(best_bet, best_expected, best_coverage)]"
   ]
  },
  {
   "cell_type": "code",
   "execution_count": 91,
   "metadata": {},
   "outputs": [
    {
     "data": {
      "text/plain": [
       "['s:20,0.79,0.03',\n",
       " 's:18,0.72,0.03',\n",
       " 'sp:20-21,0.71,0.05',\n",
       " 'sp:17-20,0.70,0.05',\n",
       " 'sp:19-20,0.70,0.05',\n",
       " 'sq:17/18/20/21,0.69,0.11',\n",
       " 'st:19-20-21,0.67,0.08',\n",
       " 'sp:18-21,0.67,0.05',\n",
       " 'sx:16/17/18/19/20/21,0.67,0.16',\n",
       " 'sq:16/17/19/20,0.67,0.11']"
      ]
     },
     "execution_count": 91,
     "metadata": {},
     "output_type": "execute_result"
    }
   ],
   "source": [
    "#bet_prob = np.hstack([single_prob,split_prob[:-1],street_prob[:-1],square_prob[:-1],sixline_prob[:-1],columns_prob[:-1],dozens_prob[:-1],lowhigh_prob[:-1],evenodd_prob[:-1],redblack_prob[:-1],neighbor_prob])\n",
    "bet_expected = np.hstack([single_expected,split_expected,street_expected,square_expected,sixline_expected,column_expected,dozen_expected,lowhigh_expected,evenodd_expected,redblack_expected,neighbor_expected])\n",
    "best_expected = bet_expected[bet_expected.argsort()[-10:][::-1]]\n",
    "#best_prob = [bet_prob[x] for x in bet_expected.argsort()[-10:][::-1]]\n",
    "best_bet = [bet_dic[x] for x in bet_expected.argsort()[-10:][::-1]]\n",
    "best_coverage = [bet_coverage(bet_dic[x]) for x in bet_expected.argsort()[-10:][::-1]]\n",
    "\n",
    "#final_bet = [x for x in zip(best_bet, best_expected, best_coverage)]\n",
    "final_bets= ['{},{:.2f},{:.2f}'.format(x[0],x[1],x[2]) for x in zip(best_bet, best_expected, best_coverage)]\n",
    "final_bets"
   ]
  },
  {
   "cell_type": "code",
   "execution_count": 92,
   "metadata": {},
   "outputs": [],
   "source": [
    "count = 0\n",
    "max_count = 20\n",
    "best_bet_s = []\n",
    "for i in bet_expected.argsort()[-len(bet_expected):][::-1]:\n",
    "    if (count < max_count):\n",
    "        b = bet_dic[i]\n",
    "        if b.split(':')[0] == 's':\n",
    "            best_bet_s.append('{},{:.2f}'.format(b,bet_expected[i]))\n",
    "            count += 1"
   ]
  },
  {
   "cell_type": "code",
   "execution_count": 93,
   "metadata": {},
   "outputs": [
    {
     "data": {
      "text/plain": [
       "['s:20,0.79',\n",
       " 's:18,0.72',\n",
       " 's:16,0.67',\n",
       " 's:21,0.63',\n",
       " 's:17,0.61',\n",
       " 's:19,0.60',\n",
       " 's:26,-0.03',\n",
       " 's:6,-0.05',\n",
       " 's:5,-0.07',\n",
       " 's:15,-0.09',\n",
       " 's:35,-0.11',\n",
       " 's:31,-0.12',\n",
       " 's:0,-0.12',\n",
       " 's:30,-0.12',\n",
       " 's:14,-0.13',\n",
       " 's:32,-0.14',\n",
       " 's:23,-0.15',\n",
       " 's:13,-0.16',\n",
       " 's:9,-0.16',\n",
       " 's:29,-0.17']"
      ]
     },
     "execution_count": 93,
     "metadata": {},
     "output_type": "execute_result"
    }
   ],
   "source": [
    "best_bet_s"
   ]
  },
  {
   "cell_type": "code",
   "execution_count": 106,
   "metadata": {},
   "outputs": [],
   "source": [
    "    count = 0\n",
    "    max_count = 5\n",
    "    best_bet_n = []\n",
    "    for i in bet_expected.argsort()[-len(bet_expected):][::-1]:\n",
    "        if (count < max_count):\n",
    "            b = bet_dic[i]\n",
    "            n_bet_name, n_bet_value = b.split(':')\n",
    "            if n_bet_name == 'n':\n",
    "                best_bet_n.append('{},{:.2f},{}'.format(b,bet_expected[i],neighbor[wheel.index(n_bet_value)]))\n",
    "                count += 1"
   ]
  },
  {
   "cell_type": "code",
   "execution_count": 107,
   "metadata": {},
   "outputs": [
    {
     "data": {
      "text/plain": [
       "[\"n:18,0.51,['19', '31', '18', '6', '21']\",\n",
       " \"n:21,0.50,['18', '6', '21', '33', '16']\",\n",
       " \"n:17,0.33,['20', '32', '17', '5', '22']\",\n",
       " \"n:32,0.32,['7', '20', '32', '17', '5']\",\n",
       " \"n:6,0.32,['31', '18', '6', '21', '33']\"]"
      ]
     },
     "execution_count": 107,
     "metadata": {},
     "output_type": "execute_result"
    }
   ],
   "source": [
    "best_bet_n"
   ]
  },
  {
   "cell_type": "code",
   "execution_count": 96,
   "metadata": {},
   "outputs": [],
   "source": [
    "count = 0\n",
    "max_count = 10\n",
    "best_bet_spst = []\n",
    "for i in bet_expected.argsort()[-len(bet_expected):][::-1]:\n",
    "    if (count < max_count):\n",
    "        b = bet_dic[i]\n",
    "        if b.split(':')[0] == 'sp' or b.split(':')[0] == 'st':\n",
    "            best_bet_spst.append('{},{:.2f}'.format(b,bet_expected[i]))\n",
    "            count += 1"
   ]
  },
  {
   "cell_type": "code",
   "execution_count": 97,
   "metadata": {},
   "outputs": [
    {
     "data": {
      "text/plain": [
       "['sp:20-21,0.71',\n",
       " 'sp:17-20,0.70',\n",
       " 'sp:19-20,0.70',\n",
       " 'st:19-20-21,0.67',\n",
       " 'sp:18-21,0.67',\n",
       " 'st:16-17-18,0.66',\n",
       " 'sp:17-18,0.66',\n",
       " 'sp:16-17,0.64',\n",
       " 'sp:16-19,0.63',\n",
       " 'sp:20-23,0.32']"
      ]
     },
     "execution_count": 97,
     "metadata": {},
     "output_type": "execute_result"
    }
   ],
   "source": [
    "best_bet_spst"
   ]
  },
  {
   "cell_type": "code",
   "execution_count": 98,
   "metadata": {},
   "outputs": [],
   "source": [
    "count = 0\n",
    "max_count = 10\n",
    "best_bet_sqsx = []\n",
    "for i in bet_expected.argsort()[-len(bet_expected):][::-1]:\n",
    "    if (count < max_count):\n",
    "        b = bet_dic[i]\n",
    "        if b.split(':')[0] == 'sq' or b.split(':')[0] == 'sx':\n",
    "            best_bet_sqsx.append('{},{:.2f}'.format(b,bet_expected[i]))\n",
    "            count += 1"
   ]
  },
  {
   "cell_type": "code",
   "execution_count": 99,
   "metadata": {},
   "outputs": [
    {
     "data": {
      "text/plain": [
       "['sq:17/18/20/21,0.69',\n",
       " 'sx:16/17/18/19/20/21,0.67',\n",
       " 'sq:16/17/19/20,0.67',\n",
       " 'sq:14/15/17/18,0.28',\n",
       " 'sx:13/14/15/16/17/18,0.27',\n",
       " 'sq:19/20/22/23,0.26',\n",
       " 'sq:20/21/23/24,0.25',\n",
       " 'sq:13/14/16/17,0.25',\n",
       " 'sx:19/20/21/22/23/24,0.23',\n",
       " 'sq:5/6/8/9,-0.13']"
      ]
     },
     "execution_count": 99,
     "metadata": {},
     "output_type": "execute_result"
    }
   ],
   "source": [
    "best_bet_sqsx"
   ]
  },
  {
   "cell_type": "code",
   "execution_count": 100,
   "metadata": {},
   "outputs": [],
   "source": [
    "count = 0\n",
    "max_count = 10\n",
    "best_bet_ee = []\n",
    "for i in bet_expected.argsort()[-len(bet_expected):][::-1]:\n",
    "    if (count < max_count):\n",
    "        b = bet_dic[i]\n",
    "        if b.split(':')[0] != 'sq' and b.split(':')[0] != 'sx' and b.split(':')[0] != 'sp' and b.split(':')[0] != 'st' and b.split(':')[0] != 'n' and b.split(':')[0] != 's':\n",
    "            best_bet_ee.append('{},{:.2f}'.format(b,bet_expected[i]))\n",
    "            count += 1"
   ]
  },
  {
   "cell_type": "code",
   "execution_count": 101,
   "metadata": {},
   "outputs": [
    {
     "data": {
      "text/plain": [
       "['d:2,0.25',\n",
       " 'c:2,-0.01',\n",
       " 'red,-0.01',\n",
       " 'even,-0.04',\n",
       " 'low,-0.04',\n",
       " 'c:3,-0.05',\n",
       " 'high,-0.05',\n",
       " 'odd,-0.06',\n",
       " 'c:1,-0.08',\n",
       " 'black,-0.08']"
      ]
     },
     "execution_count": 101,
     "metadata": {},
     "output_type": "execute_result"
    }
   ],
   "source": [
    "best_bet_ee"
   ]
  },
  {
   "cell_type": "code",
   "execution_count": 102,
   "metadata": {},
   "outputs": [
    {
     "data": {
      "text/plain": [
       "{'best': ['s:20,0.79,0.03',\n",
       "  's:18,0.72,0.03',\n",
       "  'sp:20-21,0.71,0.05',\n",
       "  'sp:17-20,0.70,0.05',\n",
       "  'sp:19-20,0.70,0.05',\n",
       "  'sq:17/18/20/21,0.69,0.11',\n",
       "  'st:19-20-21,0.67,0.08',\n",
       "  'sp:18-21,0.67,0.05',\n",
       "  'sx:16/17/18/19/20/21,0.67,0.16',\n",
       "  'sq:16/17/19/20,0.67,0.11'],\n",
       " 's': ['s:20,0.79',\n",
       "  's:18,0.72',\n",
       "  's:16,0.67',\n",
       "  's:21,0.63',\n",
       "  's:17,0.61',\n",
       "  's:19,0.60',\n",
       "  's:26,-0.03',\n",
       "  's:6,-0.05',\n",
       "  's:5,-0.07',\n",
       "  's:15,-0.09',\n",
       "  's:35,-0.11',\n",
       "  's:31,-0.12',\n",
       "  's:0,-0.12',\n",
       "  's:30,-0.12',\n",
       "  's:14,-0.13',\n",
       "  's:32,-0.14',\n",
       "  's:23,-0.15',\n",
       "  's:13,-0.16',\n",
       "  's:9,-0.16',\n",
       "  's:29,-0.17'],\n",
       " 'n': ['n:18,0.51', 'n:21,0.50', 'n:17,0.33', 'n:32,0.32', 'n:6,0.32'],\n",
       " 'sqsx': ['sq:17/18/20/21,0.69',\n",
       "  'sx:16/17/18/19/20/21,0.67',\n",
       "  'sq:16/17/19/20,0.67',\n",
       "  'sq:14/15/17/18,0.28',\n",
       "  'sx:13/14/15/16/17/18,0.27',\n",
       "  'sq:19/20/22/23,0.26',\n",
       "  'sq:20/21/23/24,0.25',\n",
       "  'sq:13/14/16/17,0.25',\n",
       "  'sx:19/20/21/22/23/24,0.23',\n",
       "  'sq:5/6/8/9,-0.13'],\n",
       " 'spst': ['sp:20-21,0.71',\n",
       "  'sp:17-20,0.70',\n",
       "  'sp:19-20,0.70',\n",
       "  'st:19-20-21,0.67',\n",
       "  'sp:18-21,0.67',\n",
       "  'st:16-17-18,0.66',\n",
       "  'sp:17-18,0.66',\n",
       "  'sp:16-17,0.64',\n",
       "  'sp:16-19,0.63',\n",
       "  'sp:20-23,0.32'],\n",
       " 'ee': ['d:2,0.25',\n",
       "  'c:2,-0.01',\n",
       "  'red,-0.01',\n",
       "  'even,-0.04',\n",
       "  'low,-0.04',\n",
       "  'c:3,-0.05',\n",
       "  'high,-0.05',\n",
       "  'odd,-0.06',\n",
       "  'c:1,-0.08',\n",
       "  'black,-0.08']}"
      ]
     },
     "execution_count": 102,
     "metadata": {},
     "output_type": "execute_result"
    }
   ],
   "source": [
    "{'best':final_bets, 's':best_bet_s, 'n':best_bet_n, 'sqsx':best_bet_sqsx, 'spst':best_bet_spst, 'ee':best_bet_ee}"
   ]
  },
  {
   "cell_type": "code",
   "execution_count": null,
   "metadata": {},
   "outputs": [],
   "source": [
    "def cost(x):\n",
    "    return np.dot(x, -bet_expected)"
   ]
  },
  {
   "cell_type": "code",
   "execution_count": null,
   "metadata": {},
   "outputs": [],
   "source": [
    "def ineqcons1(x):\n",
    "    nums = np.array([])\n",
    "    for i in range(len(x)):\n",
    "        if x[i] > 1e-4:\n",
    "            nums = np.append(nums, cover_dic[bet_dic[i]])\n",
    "    return len(np.unique(nums))/38.0 - 0.5"
   ]
  },
  {
   "cell_type": "code",
   "execution_count": 87,
   "metadata": {},
   "outputs": [],
   "source": [
    "def bet_coverage(bet):\n",
    "    nums = cover_dic[bet]\n",
    "    return len(np.unique(nums))/38.0"
   ]
  },
  {
   "cell_type": "code",
   "execution_count": 88,
   "metadata": {},
   "outputs": [],
   "source": [
    "def total_coverage(x):\n",
    "    nums = np.array([])\n",
    "    for i in range(len(x)):\n",
    "        if x[i] > 1e-4:\n",
    "            nums = np.append(nums, cover_dic[bet_dic[i]])\n",
    "    return len(np.unique(nums))/38.0"
   ]
  },
  {
   "cell_type": "code",
   "execution_count": 1735,
   "metadata": {},
   "outputs": [],
   "source": [
    "def ineqcons2(x):\n",
    "    # 152 to 189 neighbour bets\n",
    "    neighbor_count = 0\n",
    "    for i in range(152,189+1):\n",
    "        if x[i] > 1e-6:\n",
    "            neighbor_count += 1\n",
    "    return 5 - neighbor_count"
   ]
  },
  {
   "cell_type": "code",
   "execution_count": 1736,
   "metadata": {},
   "outputs": [],
   "source": [
    "def eqcons1(x):\n",
    "    return sum(x) - 1.0"
   ]
  },
  {
   "cell_type": "code",
   "execution_count": 1737,
   "metadata": {},
   "outputs": [
    {
     "name": "stdout",
     "output_type": "stream",
     "text": [
      "optimization result More than 3*n iterations in LSQ subproblem\n",
      "expected return 11.552806719133459\n",
      "coverage 0.3157894736842105\n",
      "neighbors 5\n",
      "20.3474984230991\n"
     ]
    }
   ],
   "source": [
    "n_init_bets = 10\n",
    "x0 = np.zeros(len(bet_expected))\n",
    "x0[bet_expected.argsort()[-n_init_bets:][::-1]] = 1.0/n_init_bets\n",
    "x0 = tuple(x0)\n",
    "\n",
    "bnds = tuple([(0.0, 1.0) for i in range(len(bet_expected))]) #((-5,5), (-5,5))\n",
    "\n",
    "con = ({'type':'eq', 'fun': eqcons1}, {'type':'ineq', 'fun': ineqcons2}, {'type':'ineq', 'fun': ineqcons1})\n",
    "res = minimize(cost, x0, bounds = bnds, constraints=con, options={'maxiter' : 10000, 'ftol':0.0001 })\n",
    "print(\"optimization result\", res.message)\n",
    "\n",
    "print(\"expected return\", np.dot(res.x, bet_expected))\n",
    "print(\"coverage\", ineqcons1(res.x)+0.5)\n",
    "print(\"neighbors\", 5 - ineqcons2(res.x))\n",
    "print(sum(res.x))\n",
    "\n",
    "#, method='SLSQP'\n",
    "#for cons in con:\n",
    "#    print(\"constraints values for optimized variables\", cons['fun'], cons['fun'](res.x), cons['type'])"
   ]
  },
  {
   "cell_type": "code",
   "execution_count": 1738,
   "metadata": {},
   "outputs": [
    {
     "name": "stdout",
     "output_type": "stream",
     "text": [
      "s:19 0.9999999752320105 0.5011111271164438 0.04169753130879011\n",
      "s:18 0.9999999973752681 0.5200165517219599 0.04222268199227667\n",
      "s:21 0.9999999973607805 0.7360556828746011 0.04822376896873892\n",
      "s:16 0.9999999903759249 0.5712562861565897 0.04364600794879416\n",
      "s:20 0.9999999974358177 0.6874536256135084 0.046873711822597454\n",
      "s:17 0.9999999806082001 0.49280780602926044 0.04146688350081279\n",
      "sp:16-17 0.9999999999982796 0.5320320460929235 0.08511289144960686\n",
      "sp:17-18 0.9999999989453652 0.5064121788756077 0.08368956549308931\n",
      "sp:16-19 0.9999999999966506 0.5361837066365089 0.08534353925758383\n",
      "sp:17-20 0.9999999989410828 0.5901307158213869 0.08834059532341038\n",
      "sp:18-21 0.9999999999971002 0.6280361172982731 0.09044645096101517\n",
      "sp:19-20 0.999999999999658 0.5942823763649793 0.08857124313138774\n",
      "sp:20-21 0.999999997714891 0.7117546542440574 0.09509748079133652\n",
      "st:16-17-18 0.9999999860819383 0.5280268813026058 0.12733557344188381\n",
      "st:19-20-21 0.9999999999973259 0.6415401452015173 0.13679501210012643\n",
      "sq:16/17/19/20 0.9999999999990185 0.5631572112289531 0.1736841345809948\n",
      "sq:17/18/20/21 0.999999992168301 0.6090834165598311 0.17878704628442568\n",
      "sq:20/21/23/24 0.00010000000543267889 0.30445032717237197 0.14493892524137467\n",
      "sx:16/17/18/19/20/21 0.9999999988710924 0.5847835132520571 0.2641305855420095\n",
      "n:18 0.9995637864628881 0.42878679930184505 0.17859834991273063\n",
      "n:21 0.9999999999982017 0.4683570669849595 0.18354463337311994\n",
      "n:33 0.0004119791941021486 0.32746684320895647 0.16593335540111956\n",
      "n:16 0.34730998283672365 0.3499077932678415 0.1687384741584802\n"
     ]
    }
   ],
   "source": [
    "for i in range(len(res.x)):\n",
    "    if res.x[i] > 1e-4:\n",
    "        print(bet_dic[i], res.x[i], bet_expected[i], bet_prob[i])"
   ]
  },
  {
   "cell_type": "code",
   "execution_count": 4,
   "metadata": {},
   "outputs": [
    {
     "name": "stdout",
     "output_type": "stream",
     "text": [
      "Python 3.6.5 :: Anaconda, Inc.\r\n"
     ]
    }
   ],
   "source": [
    "!python --version"
   ]
  },
  {
   "cell_type": "code",
   "execution_count": null,
   "metadata": {},
   "outputs": [],
   "source": []
  }
 ],
 "metadata": {
  "kernelspec": {
   "display_name": "Python 3",
   "language": "python",
   "name": "python3"
  },
  "language_info": {
   "codemirror_mode": {
    "name": "ipython",
    "version": 3
   },
   "file_extension": ".py",
   "mimetype": "text/x-python",
   "name": "python",
   "nbconvert_exporter": "python",
   "pygments_lexer": "ipython3",
   "version": "3.6.5"
  }
 },
 "nbformat": 4,
 "nbformat_minor": 2
}
